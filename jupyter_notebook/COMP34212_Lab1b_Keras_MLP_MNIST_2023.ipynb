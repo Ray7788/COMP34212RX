{
  "cells": [
    {
      "cell_type": "markdown",
      "metadata": {
        "id": "view-in-github",
        "colab_type": "text"
      },
      "source": [
        "<a href=\"https://colab.research.google.com/github/Ray7788/COMP34212RX/blob/main/jupyter_notebook/COMP34212_Lab1b_Keras_MLP_MNIST_2023.ipynb\" target=\"_parent\"><img src=\"https://colab.research.google.com/assets/colab-badge.svg\" alt=\"Open In Colab\"/></a>"
      ]
    },
    {
      "cell_type": "markdown",
      "metadata": {
        "id": "WWWn1oMdMP0d"
      },
      "source": [
        "MLP for Complex Problems: The MNIST dataset\n",
        "=========\n",
        "\n",
        "\n",
        "In this exercise we will first learn to use the simple perceptron network (input-output layers only) and a Multi-Layer Perceptron (MLP, with one or more hidden layers). To make the task more interesting than the XOR problem, we will be using a more complex training set. This will be the MNIST dataset, a well known neural network problem for the recognition of the 10 handwritten characters from 0 to 9 ([MNIST](http://yann.lecun.com/exdb/mnist/)).\n",
        "\n",
        "This exercise is based on the  Gulli & Pal (2017) 'Deep Learning with Keras' textbook, with some additional code to help us understand and test the programme.\n"
      ]
    },
    {
      "cell_type": "markdown",
      "metadata": {
        "id": "ezwPEU5UMP0o"
      },
      "source": [
        "**Importing the libraries and defining the main training parameters**\n",
        "\n",
        "The initial code is necessary to prepare the data and the simulation (hyper)parameters.\n",
        "We first import numpy. In our case we will use it to create and pre-process the array of the training data sets. We then import a few functions from Keras (we used some of these in our previous XOR exercise). The matplotlib library will be used for visualising some MNIST images and the plot of the training results.\n",
        "\n",
        "The code also defines the variables for some of the main parameters used throughout this program.\n",
        "The random seed definition is also important to be able to repeat the same parameter configuration."
      ]
    },
    {
      "cell_type": "code",
      "execution_count": 1,
      "metadata": {
        "id": "YpM98ckGMP0u"
      },
      "outputs": [],
      "source": [
        "# import of numpy and keras libraries\n",
        "from __future__ import print_function\n",
        "import numpy as np\n",
        "from tensorflow.keras.datasets import mnist\n",
        "from tensorflow.keras.models import Sequential\n",
        "from tensorflow.keras.layers import Dense, Activation\n",
        "from tensorflow.keras.optimizers.legacy import SGD\n",
        "from tensorflow.keras import utils\n",
        "import matplotlib.pyplot as plt\n",
        "\n",
        "# variables for network and training\n",
        "N_EPOCH = 200 # initially set at 200 ; you can change this later\n",
        "BATCH_SIZE = 128\n",
        "VERBOSE = 1 # Record training log\n",
        "N_CLASSES = 10   # number of classes/categories of digits from 0 to 9, i.e. number of output units\n",
        "OPTIMIZER = SGD(learning_rate=0.1) # Stochastic gradient descent optimiser\n",
        "N_HIDDEN = 128   # number of hidden units\n",
        "VALIDATION_SPLIT=0.2 # proportion of the dataset used for validation, with remaining .8 for training\n",
        "\n",
        "#each 2D image consists of 28x28 values/pixels, which needs to be reshaped in a vector of 784 pixels\n",
        "RESHAPED = 784 # converge into one vector\n",
        "\n",
        "# random seed number to be used for reproducibility\n",
        "np.random.seed(1671)\n"
      ]
    },
    {
      "cell_type": "markdown",
      "metadata": {
        "id": "2rgZEImMMP08"
      },
      "source": [
        "**Preparing the MNIST dataset and visualising the input images**\n",
        "\n",
        "This part of the code prepares the input and output training set, and the corresponding test sets.\n",
        "It also visualises a sample image. The MNIST dataset is included in the Keras program and we do not need to use and external file."
      ]
    },
    {
      "cell_type": "code",
      "execution_count": 2,
      "metadata": {
        "colab": {
          "base_uri": "https://localhost:8080/",
          "height": 1000
        },
        "id": "l4-TuW2_MP0-",
        "outputId": "77f52c72-40dd-4d71-da62-69834a375f0c"
      },
      "outputs": [
        {
          "output_type": "stream",
          "name": "stdout",
          "text": [
            "Downloading data from https://storage.googleapis.com/tensorflow/tf-keras-datasets/mnist.npz\n",
            "11490434/11490434 [==============================] - 0s 0us/step\n",
            "Training data input shape:  (60000, 28, 28)\n",
            "Training data output shape:  (60000,)\n",
            "Test data input shape:  (10000, 28, 28)\n",
            "Test data ouput shape:  (10000,)\n",
            "Sample input image: [[  0   0   0   0   0   0   0   0   0   0   0   0   0   0   0   0   0   0\n",
            "    0   0   0   0   0   0   0   0   0   0]\n",
            " [  0   0   0   0   0   0   0   0   0   0   0   0   0   0   0   0   0   0\n",
            "    0   0   0   0   0   0   0   0   0   0]\n",
            " [  0   0   0   0   0   0   0   0   0   0   0   0   0   0   0   0   0   0\n",
            "    0   0   0   0   0   0   0   0   0   0]\n",
            " [  0   0   0   0   0   0   0   0   0   0   0   0   0   0   0   0   0   0\n",
            "    0   0   0   0   0   0   0   0   0   0]\n",
            " [  0   0   0   0   0   0   0   0   0   0   0   0   0   0   0   0   0   0\n",
            "    0   0   0   0   0   0   0   0   0   0]\n",
            " [  0   0   0   0   0   0   0   0   0   0   0   0   0   0   0   0   0   0\n",
            "    0   0  67 232  39   0   0   0   0   0]\n",
            " [  0   0   0   0  62  81   0   0   0   0   0   0   0   0   0   0   0   0\n",
            "    0   0 120 180  39   0   0   0   0   0]\n",
            " [  0   0   0   0 126 163   0   0   0   0   0   0   0   0   0   0   0   0\n",
            "    0   2 153 210  40   0   0   0   0   0]\n",
            " [  0   0   0   0 220 163   0   0   0   0   0   0   0   0   0   0   0   0\n",
            "    0  27 254 162   0   0   0   0   0   0]\n",
            " [  0   0   0   0 222 163   0   0   0   0   0   0   0   0   0   0   0   0\n",
            "    0 183 254 125   0   0   0   0   0   0]\n",
            " [  0   0   0  46 245 163   0   0   0   0   0   0   0   0   0   0   0   0\n",
            "    0 198 254  56   0   0   0   0   0   0]\n",
            " [  0   0   0 120 254 163   0   0   0   0   0   0   0   0   0   0   0   0\n",
            "   23 231 254  29   0   0   0   0   0   0]\n",
            " [  0   0   0 159 254 120   0   0   0   0   0   0   0   0   0   0   0   0\n",
            "  163 254 216  16   0   0   0   0   0   0]\n",
            " [  0   0   0 159 254  67   0   0   0   0   0   0   0   0   0  14  86 178\n",
            "  248 254  91   0   0   0   0   0   0   0]\n",
            " [  0   0   0 159 254  85   0   0   0  47  49 116 144 150 241 243 234 179\n",
            "  241 252  40   0   0   0   0   0   0   0]\n",
            " [  0   0   0 150 253 237 207 207 207 253 254 250 240 198 143  91  28   5\n",
            "  233 250   0   0   0   0   0   0   0   0]\n",
            " [  0   0   0   0 119 177 177 177 177 177  98  56   0   0   0   0   0 102\n",
            "  254 220   0   0   0   0   0   0   0   0]\n",
            " [  0   0   0   0   0   0   0   0   0   0   0   0   0   0   0   0   0 169\n",
            "  254 137   0   0   0   0   0   0   0   0]\n",
            " [  0   0   0   0   0   0   0   0   0   0   0   0   0   0   0   0   0 169\n",
            "  254  57   0   0   0   0   0   0   0   0]\n",
            " [  0   0   0   0   0   0   0   0   0   0   0   0   0   0   0   0   0 169\n",
            "  254  57   0   0   0   0   0   0   0   0]\n",
            " [  0   0   0   0   0   0   0   0   0   0   0   0   0   0   0   0   0 169\n",
            "  255  94   0   0   0   0   0   0   0   0]\n",
            " [  0   0   0   0   0   0   0   0   0   0   0   0   0   0   0   0   0 169\n",
            "  254  96   0   0   0   0   0   0   0   0]\n",
            " [  0   0   0   0   0   0   0   0   0   0   0   0   0   0   0   0   0 169\n",
            "  254 153   0   0   0   0   0   0   0   0]\n",
            " [  0   0   0   0   0   0   0   0   0   0   0   0   0   0   0   0   0 169\n",
            "  255 153   0   0   0   0   0   0   0   0]\n",
            " [  0   0   0   0   0   0   0   0   0   0   0   0   0   0   0   0   0  96\n",
            "  254 153   0   0   0   0   0   0   0   0]\n",
            " [  0   0   0   0   0   0   0   0   0   0   0   0   0   0   0   0   0   0\n",
            "    0   0   0   0   0   0   0   0   0   0]\n",
            " [  0   0   0   0   0   0   0   0   0   0   0   0   0   0   0   0   0   0\n",
            "    0   0   0   0   0   0   0   0   0   0]\n",
            " [  0   0   0   0   0   0   0   0   0   0   0   0   0   0   0   0   0   0\n",
            "    0   0   0   0   0   0   0   0   0   0]]\n"
          ]
        },
        {
          "output_type": "display_data",
          "data": {
            "text/plain": [
              "<Figure size 640x480 with 1 Axes>"
            ],
            "image/png": "[encoded data removed]"
          },
          "metadata": {}
        }
      ],
      "source": [
        "\n",
        "# data: shuffled and split between train and test sets, loading and using the Keras mnist dataset\n",
        "(input_X_train, output_Y_train), (input_X_test, output_Y_test) = mnist.load_data()\n",
        "\n",
        "# print the shapes of the input and output data\n",
        "print(\"Training data input shape: \" , input_X_train.shape)\n",
        "print(\"Training data output shape: \" , output_Y_train.shape)\n",
        "print(\"Test data input shape: \" , input_X_test.shape)\n",
        "print(\"Test data ouput shape: \" , output_Y_test.shape)\n",
        "\n",
        "# visualisation of the numerical vector and plot of a selected image\n",
        "Selected_Image = 2\n",
        "image = input_X_train[Selected_Image]\n",
        "print (\"Sample input image: \" + str(image))\n",
        "plt.imshow(image, cmap='gray')\n",
        "plt.show()\n"
      ]
    },
    {
      "cell_type": "markdown",
      "metadata": {
        "id": "cDqNl3taMP1P"
      },
      "source": [
        "The input images now have to be reshaped as a linear vector. That is, we go from a 2D image of 28x28 pixels, to a linear vector of 784 (i.e. 28*28) pixels, to be passed as the 784 input units. Moreover, the initial pixel grey values given as type __int__ in the range 0-255 will be normalised to the __float32__ type in the range 0-1.\n"
      ]
    },
    {
      "cell_type": "code",
      "execution_count": 4,
      "metadata": {
        "colab": {
          "base_uri": "https://localhost:8080/"
        },
        "id": "fB15FrXOMP1R",
        "outputId": "54f66a2e-7afa-426d-d491-6ddb6f8b025a"
      },
      "outputs": [
        {
          "output_type": "stream",
          "name": "stdout",
          "text": [
            "Input data ready\n"
          ]
        }
      ],
      "source": [
        "# use 60000 images for training, 10000 for validation test\n",
        "input_X_train = input_X_train.reshape(60000, RESHAPED)\n",
        "input_X_test = input_X_test.reshape(10000, RESHAPED)\n",
        "input_X_train = input_X_train.astype('float32')  # default\n",
        "input_X_test = input_X_test.astype('float32')\n",
        "\n",
        "# normalisation of the pixel values from 0-255 range to 0-1 range\n",
        "input_X_train /= 255\n",
        "input_X_test /= 255\n",
        "\n",
        "print (\"Input data ready\")"
      ]
    },
    {
      "cell_type": "markdown",
      "metadata": {
        "id": "KsCwC5y7MP1Z"
      },
      "source": [
        "**Preparing the output labels**\n",
        "\n",
        "This code converts the output data into categorical (one-hot encoding) vectors of 0s and 1s.\n",
        "See example of the visualisation of the one-hot vector for the selected image."
      ]
    },
    {
      "cell_type": "code",
      "execution_count": 5,
      "metadata": {
        "colab": {
          "base_uri": "https://localhost:8080/"
        },
        "id": "Rc4dgAqqMP1c",
        "outputId": "cdb852bc-5fa8-4618-833f-30f828d0e94a"
      },
      "outputs": [
        {
          "output_type": "stream",
          "name": "stdout",
          "text": [
            "One-hot-vector: [0. 0. 0. 0. 1. 0. 0. 0. 0. 0.]\n"
          ]
        }
      ],
      "source": [
        "# convert class vectors to binary class matrices\n",
        "output_Y_train = utils.to_categorical(output_Y_train, N_CLASSES)\n",
        "output_Y_test = utils.to_categorical(output_Y_test, N_CLASSES)\n",
        "\n",
        "# print the categorical, one-hot output vector for the sample image\n",
        "label = output_Y_train[Selected_Image] # represent4\n",
        "print (\"One-hot-vector: \" + str(label))"
      ]
    },
    {
      "cell_type": "markdown",
      "metadata": {
        "id": "h-rcBfv8MP1q"
      },
      "source": [
        "Training the Simple Perceptron\n",
        "=========\n",
        "\n",
        "**Defining the network: Simple Perceptron**\n",
        "\n",
        "We will start by training a simple perceptron, i.e. a network with an input layer (the 784 input values/pixels) connected to the output layer (the 10 number classes)"
      ]
    },
    {
      "cell_type": "code",
      "execution_count": 6,
      "metadata": {
        "colab": {
          "base_uri": "https://localhost:8080/"
        },
        "id": "HTb4RC7zMP1s",
        "outputId": "c14f6895-0873-450c-d2b4-dc6650a121b7"
      },
      "outputs": [
        {
          "output_type": "stream",
          "name": "stdout",
          "text": [
            "Model: \"sequential\"\n",
            "_________________________________________________________________\n",
            " Layer (type)                Output Shape              Param #   \n",
            "=================================================================\n",
            " dense (Dense)               (None, 10)                7850      \n",
            "                                                                 \n",
            " activation (Activation)     (None, 10)                0         \n",
            "                                                                 \n",
            "=================================================================\n",
            "Total params: 7850 (30.66 KB)\n",
            "Trainable params: 7850 (30.66 KB)\n",
            "Non-trainable params: 0 (0.00 Byte)\n",
            "_________________________________________________________________\n"
          ]
        }
      ],
      "source": [
        "# Defaults sequential model\n",
        "model = Sequential()\n",
        "\n",
        "# Dense layer for all to all connections\n",
        "# Define the output layer with 10 output units, and softmax activation as categorical output\n",
        "model.add(Dense(N_CLASSES, input_shape=(RESHAPED,)))    # 784\n",
        "model.add(Activation('softmax'))\n",
        "\n",
        "# Use categorical crossentropy for the loss evaluation, and the accuracy metrics\n",
        "# we previously chose the SGD optimiser in the OPTIMIZER variable definition\n",
        "model.compile(loss='categorical_crossentropy', optimizer=OPTIMIZER, metrics=['accuracy'])\n",
        "\n",
        "#show the model summary\n",
        "model.summary()\n"
      ]
    },
    {
      "cell_type": "markdown",
      "metadata": {
        "id": "uHyq0YoRMP1y"
      },
      "source": [
        "**Let's train the simple perceptron network**\n",
        "\n",
        "Let's now train (fit) the network with the above-defined batch size (128), and number of epochs (200). We save the training results into the history variable.\n",
        "\n",
        "Here we use the previous __VALIDATION_SPLIT=0.2__ definition to split the dataset into a 20% (0.2) validation set and the remaning 80% as training set."
      ]
    },
    {
      "cell_type": "code",
      "execution_count": 7,
      "metadata": {
        "colab": {
          "base_uri": "https://localhost:8080/"
        },
        "id": "lg3RCFukMP10",
        "outputId": "a23df56c-1913-47ec-c3b1-0a64861c192e"
      },
      "outputs": [
        {
          "output_type": "stream",
          "name": "stdout",
          "text": [
            "Epoch 1/200\n",
            "375/375 [==============================] - 3s 7ms/step - loss: 2.3014 - accuracy: 0.1128 - val_loss: 2.3019 - val_accuracy: 0.1060\n",
            "Epoch 2/200\n",
            "375/375 [==============================] - 1s 4ms/step - loss: 2.3006 - accuracy: 0.1140 - val_loss: 2.3010 - val_accuracy: 0.1060\n",
            "Epoch 3/200\n",
            "375/375 [==============================] - 1s 4ms/step - loss: 2.3000 - accuracy: 0.1140 - val_loss: 2.3005 - val_accuracy: 0.1060\n",
            "Epoch 4/200\n",
            "375/375 [==============================] - 1s 4ms/step - loss: 2.2993 - accuracy: 0.1140 - val_loss: 2.3000 - val_accuracy: 0.1060\n",
            "Epoch 5/200\n",
            "375/375 [==============================] - 1s 4ms/step - loss: 2.2987 - accuracy: 0.1140 - val_loss: 2.2994 - val_accuracy: 0.1060\n",
            "Epoch 6/200\n",
            "375/375 [==============================] - 1s 4ms/step - loss: 2.2981 - accuracy: 0.1140 - val_loss: 2.2984 - val_accuracy: 0.1060\n",
            "Epoch 7/200\n",
            "375/375 [==============================] - 1s 4ms/step - loss: 2.2974 - accuracy: 0.1152 - val_loss: 2.2979 - val_accuracy: 0.1060\n",
            "Epoch 8/200\n",
            "375/375 [==============================] - 2s 4ms/step - loss: 2.2968 - accuracy: 0.1140 - val_loss: 2.2974 - val_accuracy: 0.1060\n",
            "Epoch 9/200\n",
            "375/375 [==============================] - 2s 6ms/step - loss: 2.2961 - accuracy: 0.1140 - val_loss: 2.2969 - val_accuracy: 0.1060\n",
            "Epoch 10/200\n",
            "375/375 [==============================] - 1s 4ms/step - loss: 2.2955 - accuracy: 0.1140 - val_loss: 2.2958 - val_accuracy: 0.1060\n",
            "Epoch 11/200\n",
            "375/375 [==============================] - 1s 4ms/step - loss: 2.2948 - accuracy: 0.1140 - val_loss: 2.2955 - val_accuracy: 0.1060\n",
            "Epoch 12/200\n",
            "375/375 [==============================] - 1s 4ms/step - loss: 2.2942 - accuracy: 0.1140 - val_loss: 2.2950 - val_accuracy: 0.1060\n",
            "Epoch 13/200\n",
            "375/375 [==============================] - 1s 4ms/step - loss: 2.2936 - accuracy: 0.1140 - val_loss: 2.2941 - val_accuracy: 0.1060\n",
            "Epoch 14/200\n",
            "375/375 [==============================] - 1s 4ms/step - loss: 2.2930 - accuracy: 0.1140 - val_loss: 2.2937 - val_accuracy: 0.1060\n",
            "Epoch 15/200\n",
            "375/375 [==============================] - 1s 3ms/step - loss: 2.2923 - accuracy: 0.1140 - val_loss: 2.2929 - val_accuracy: 0.1060\n",
            "Epoch 16/200\n",
            "375/375 [==============================] - 1s 3ms/step - loss: 2.2918 - accuracy: 0.1140 - val_loss: 2.2921 - val_accuracy: 0.1060\n",
            "Epoch 17/200\n",
            "375/375 [==============================] - 2s 5ms/step - loss: 2.2911 - accuracy: 0.1141 - val_loss: 2.2916 - val_accuracy: 0.1060\n",
            "Epoch 18/200\n",
            "375/375 [==============================] - 2s 6ms/step - loss: 2.2904 - accuracy: 0.1140 - val_loss: 2.2912 - val_accuracy: 0.1060\n",
            "Epoch 19/200\n",
            "375/375 [==============================] - 1s 4ms/step - loss: 2.2899 - accuracy: 0.1140 - val_loss: 2.2902 - val_accuracy: 0.1060\n",
            "Epoch 20/200\n",
            "375/375 [==============================] - 1s 4ms/step - loss: 2.2892 - accuracy: 0.1140 - val_loss: 2.2895 - val_accuracy: 0.1060\n",
            "Epoch 21/200\n",
            "375/375 [==============================] - 1s 4ms/step - loss: 2.2886 - accuracy: 0.1140 - val_loss: 2.2890 - val_accuracy: 0.1060\n",
            "Epoch 22/200\n",
            "375/375 [==============================] - 1s 4ms/step - loss: 2.2879 - accuracy: 0.1140 - val_loss: 2.2885 - val_accuracy: 0.1060\n",
            "Epoch 23/200\n",
            "375/375 [==============================] - 1s 3ms/step - loss: 2.2873 - accuracy: 0.1140 - val_loss: 2.2878 - val_accuracy: 0.1060\n",
            "Epoch 24/200\n",
            "375/375 [==============================] - 1s 4ms/step - loss: 2.2867 - accuracy: 0.1140 - val_loss: 2.2871 - val_accuracy: 0.1060\n",
            "Epoch 25/200\n",
            "375/375 [==============================] - 1s 3ms/step - loss: 2.2861 - accuracy: 0.1140 - val_loss: 2.2863 - val_accuracy: 0.1060\n",
            "Epoch 26/200\n",
            "375/375 [==============================] - 2s 5ms/step - loss: 2.2854 - accuracy: 0.1140 - val_loss: 2.2860 - val_accuracy: 0.1060\n",
            "Epoch 27/200\n",
            "375/375 [==============================] - 2s 5ms/step - loss: 2.2848 - accuracy: 0.1140 - val_loss: 2.2856 - val_accuracy: 0.1060\n",
            "Epoch 28/200\n",
            "375/375 [==============================] - 1s 3ms/step - loss: 2.2842 - accuracy: 0.1140 - val_loss: 2.2846 - val_accuracy: 0.1060\n",
            "Epoch 29/200\n",
            "375/375 [==============================] - 1s 3ms/step - loss: 2.2835 - accuracy: 0.1140 - val_loss: 2.2839 - val_accuracy: 0.1060\n",
            "Epoch 30/200\n",
            "375/375 [==============================] - 1s 3ms/step - loss: 2.2829 - accuracy: 0.1156 - val_loss: 2.2835 - val_accuracy: 0.1060\n",
            "Epoch 31/200\n",
            "375/375 [==============================] - 1s 4ms/step - loss: 2.2824 - accuracy: 0.1140 - val_loss: 2.2826 - val_accuracy: 0.1060\n",
            "Epoch 32/200\n",
            "375/375 [==============================] - 1s 3ms/step - loss: 2.2817 - accuracy: 0.1144 - val_loss: 2.2820 - val_accuracy: 0.1060\n",
            "Epoch 33/200\n",
            "375/375 [==============================] - 1s 3ms/step - loss: 2.2810 - accuracy: 0.1142 - val_loss: 2.2814 - val_accuracy: 0.1060\n",
            "Epoch 34/200\n",
            "375/375 [==============================] - 1s 4ms/step - loss: 2.2804 - accuracy: 0.1142 - val_loss: 2.2809 - val_accuracy: 0.1060\n",
            "Epoch 35/200\n",
            "375/375 [==============================] - 2s 5ms/step - loss: 2.2798 - accuracy: 0.1147 - val_loss: 2.2801 - val_accuracy: 0.1060\n",
            "Epoch 36/200\n",
            "375/375 [==============================] - 2s 5ms/step - loss: 2.2791 - accuracy: 0.1145 - val_loss: 2.2793 - val_accuracy: 0.1060\n",
            "Epoch 37/200\n",
            "375/375 [==============================] - 1s 3ms/step - loss: 2.2786 - accuracy: 0.1145 - val_loss: 2.2787 - val_accuracy: 0.1060\n",
            "Epoch 38/200\n",
            "375/375 [==============================] - 1s 4ms/step - loss: 2.2779 - accuracy: 0.1164 - val_loss: 2.2782 - val_accuracy: 0.1060\n",
            "Epoch 39/200\n",
            "375/375 [==============================] - 1s 4ms/step - loss: 2.2773 - accuracy: 0.1205 - val_loss: 2.2776 - val_accuracy: 0.1060\n",
            "Epoch 40/200\n",
            "375/375 [==============================] - 1s 3ms/step - loss: 2.2766 - accuracy: 0.1176 - val_loss: 2.2770 - val_accuracy: 0.1060\n",
            "Epoch 41/200\n",
            "375/375 [==============================] - 1s 3ms/step - loss: 2.2760 - accuracy: 0.1165 - val_loss: 2.2760 - val_accuracy: 0.1142\n",
            "Epoch 42/200\n",
            "375/375 [==============================] - 1s 4ms/step - loss: 2.2754 - accuracy: 0.1185 - val_loss: 2.2756 - val_accuracy: 0.1643\n",
            "Epoch 43/200\n",
            "375/375 [==============================] - 1s 4ms/step - loss: 2.2748 - accuracy: 0.1274 - val_loss: 2.2750 - val_accuracy: 0.1068\n",
            "Epoch 44/200\n",
            "375/375 [==============================] - 2s 6ms/step - loss: 2.2742 - accuracy: 0.1197 - val_loss: 2.2746 - val_accuracy: 0.1061\n",
            "Epoch 45/200\n",
            "375/375 [==============================] - 2s 5ms/step - loss: 2.2735 - accuracy: 0.1210 - val_loss: 2.2736 - val_accuracy: 0.1061\n",
            "Epoch 46/200\n",
            "375/375 [==============================] - 1s 3ms/step - loss: 2.2729 - accuracy: 0.1191 - val_loss: 2.2729 - val_accuracy: 0.1124\n",
            "Epoch 47/200\n",
            "375/375 [==============================] - 1s 4ms/step - loss: 2.2722 - accuracy: 0.1338 - val_loss: 2.2730 - val_accuracy: 0.1060\n",
            "Epoch 48/200\n",
            "375/375 [==============================] - 1s 4ms/step - loss: 2.2717 - accuracy: 0.1241 - val_loss: 2.2717 - val_accuracy: 0.1078\n",
            "Epoch 49/200\n",
            "375/375 [==============================] - 1s 4ms/step - loss: 2.2710 - accuracy: 0.1255 - val_loss: 2.2710 - val_accuracy: 0.1123\n",
            "Epoch 50/200\n",
            "375/375 [==============================] - 1s 4ms/step - loss: 2.2704 - accuracy: 0.1243 - val_loss: 2.2706 - val_accuracy: 0.1251\n",
            "Epoch 51/200\n",
            "375/375 [==============================] - 1s 3ms/step - loss: 2.2698 - accuracy: 0.1293 - val_loss: 2.2699 - val_accuracy: 0.1168\n",
            "Epoch 52/200\n",
            "375/375 [==============================] - 2s 4ms/step - loss: 2.2692 - accuracy: 0.1329 - val_loss: 2.2690 - val_accuracy: 0.1822\n",
            "Epoch 53/200\n",
            "375/375 [==============================] - 2s 5ms/step - loss: 2.2686 - accuracy: 0.1404 - val_loss: 2.2688 - val_accuracy: 0.1172\n",
            "Epoch 54/200\n",
            "375/375 [==============================] - 2s 4ms/step - loss: 2.2679 - accuracy: 0.1325 - val_loss: 2.2681 - val_accuracy: 0.1229\n",
            "Epoch 55/200\n",
            "375/375 [==============================] - 1s 4ms/step - loss: 2.2673 - accuracy: 0.1335 - val_loss: 2.2674 - val_accuracy: 0.1260\n",
            "Epoch 56/200\n",
            "375/375 [==============================] - 1s 4ms/step - loss: 2.2667 - accuracy: 0.1515 - val_loss: 2.2671 - val_accuracy: 0.1146\n",
            "Epoch 57/200\n",
            "375/375 [==============================] - 1s 3ms/step - loss: 2.2661 - accuracy: 0.1325 - val_loss: 2.2659 - val_accuracy: 0.1337\n",
            "Epoch 58/200\n",
            "375/375 [==============================] - 1s 4ms/step - loss: 2.2654 - accuracy: 0.1529 - val_loss: 2.2658 - val_accuracy: 0.1146\n",
            "Epoch 59/200\n",
            "375/375 [==============================] - 1s 4ms/step - loss: 2.2648 - accuracy: 0.1532 - val_loss: 2.2651 - val_accuracy: 0.1129\n",
            "Epoch 60/200\n",
            "375/375 [==============================] - 1s 4ms/step - loss: 2.2642 - accuracy: 0.1396 - val_loss: 2.2642 - val_accuracy: 0.1392\n",
            "Epoch 61/200\n",
            "375/375 [==============================] - 2s 5ms/step - loss: 2.2635 - accuracy: 0.1647 - val_loss: 2.2637 - val_accuracy: 0.1098\n",
            "Epoch 62/200\n",
            "375/375 [==============================] - 2s 5ms/step - loss: 2.2630 - accuracy: 0.1371 - val_loss: 2.2628 - val_accuracy: 0.1486\n",
            "Epoch 63/200\n",
            "375/375 [==============================] - 1s 4ms/step - loss: 2.2623 - accuracy: 0.1555 - val_loss: 2.2622 - val_accuracy: 0.1308\n",
            "Epoch 64/200\n",
            "375/375 [==============================] - 1s 4ms/step - loss: 2.2617 - accuracy: 0.1595 - val_loss: 2.2616 - val_accuracy: 0.1439\n",
            "Epoch 65/200\n",
            "375/375 [==============================] - 2s 4ms/step - loss: 2.2611 - accuracy: 0.1546 - val_loss: 2.2610 - val_accuracy: 0.1666\n",
            "Epoch 66/200\n",
            "375/375 [==============================] - 1s 4ms/step - loss: 2.2605 - accuracy: 0.1692 - val_loss: 2.2605 - val_accuracy: 0.1371\n",
            "Epoch 67/200\n",
            "375/375 [==============================] - 1s 4ms/step - loss: 2.2599 - accuracy: 0.1659 - val_loss: 2.2598 - val_accuracy: 0.1504\n",
            "Epoch 68/200\n",
            "375/375 [==============================] - 1s 3ms/step - loss: 2.2592 - accuracy: 0.1668 - val_loss: 2.2592 - val_accuracy: 0.1579\n",
            "Epoch 69/200\n",
            "375/375 [==============================] - 1s 4ms/step - loss: 2.2586 - accuracy: 0.1810 - val_loss: 2.2588 - val_accuracy: 0.1408\n",
            "Epoch 70/200\n",
            "375/375 [==============================] - 2s 5ms/step - loss: 2.2581 - accuracy: 0.1650 - val_loss: 2.2581 - val_accuracy: 0.1427\n",
            "Epoch 71/200\n",
            "375/375 [==============================] - 2s 5ms/step - loss: 2.2574 - accuracy: 0.1726 - val_loss: 2.2572 - val_accuracy: 0.1491\n",
            "Epoch 72/200\n",
            "375/375 [==============================] - 1s 4ms/step - loss: 2.2568 - accuracy: 0.1731 - val_loss: 2.2567 - val_accuracy: 0.1825\n",
            "Epoch 73/200\n",
            "375/375 [==============================] - 1s 4ms/step - loss: 2.2562 - accuracy: 0.1939 - val_loss: 2.2560 - val_accuracy: 0.1310\n",
            "Epoch 74/200\n",
            "375/375 [==============================] - 1s 4ms/step - loss: 2.2556 - accuracy: 0.1743 - val_loss: 2.2555 - val_accuracy: 0.1627\n",
            "Epoch 75/200\n",
            "375/375 [==============================] - 1s 4ms/step - loss: 2.2549 - accuracy: 0.1862 - val_loss: 2.2549 - val_accuracy: 0.1744\n",
            "Epoch 76/200\n",
            "375/375 [==============================] - 1s 3ms/step - loss: 2.2543 - accuracy: 0.1882 - val_loss: 2.2541 - val_accuracy: 0.1852\n",
            "Epoch 77/200\n",
            "375/375 [==============================] - 1s 3ms/step - loss: 2.2537 - accuracy: 0.2085 - val_loss: 2.2537 - val_accuracy: 0.1261\n",
            "Epoch 78/200\n",
            "375/375 [==============================] - 1s 3ms/step - loss: 2.2531 - accuracy: 0.1713 - val_loss: 2.2527 - val_accuracy: 0.2013\n",
            "Epoch 79/200\n",
            "375/375 [==============================] - 2s 6ms/step - loss: 2.2524 - accuracy: 0.2175 - val_loss: 2.2523 - val_accuracy: 0.1614\n",
            "Epoch 80/200\n",
            "375/375 [==============================] - 2s 4ms/step - loss: 2.2519 - accuracy: 0.1838 - val_loss: 2.2515 - val_accuracy: 0.2339\n",
            "Epoch 81/200\n",
            "375/375 [==============================] - 1s 4ms/step - loss: 2.2513 - accuracy: 0.2137 - val_loss: 2.2510 - val_accuracy: 0.1831\n",
            "Epoch 82/200\n",
            "375/375 [==============================] - 1s 4ms/step - loss: 2.2506 - accuracy: 0.2069 - val_loss: 2.2502 - val_accuracy: 0.2199\n",
            "Epoch 83/200\n",
            "375/375 [==============================] - 1s 4ms/step - loss: 2.2500 - accuracy: 0.2050 - val_loss: 2.2496 - val_accuracy: 0.2426\n",
            "Epoch 84/200\n",
            "375/375 [==============================] - 1s 3ms/step - loss: 2.2494 - accuracy: 0.2015 - val_loss: 2.2491 - val_accuracy: 0.3073\n",
            "Epoch 85/200\n",
            "375/375 [==============================] - 1s 4ms/step - loss: 2.2488 - accuracy: 0.2348 - val_loss: 2.2485 - val_accuracy: 0.1958\n",
            "Epoch 86/200\n",
            "375/375 [==============================] - 1s 3ms/step - loss: 2.2482 - accuracy: 0.2102 - val_loss: 2.2478 - val_accuracy: 0.2191\n",
            "Epoch 87/200\n",
            "375/375 [==============================] - 2s 5ms/step - loss: 2.2475 - accuracy: 0.2183 - val_loss: 2.2471 - val_accuracy: 0.2451\n",
            "Epoch 88/200\n",
            "375/375 [==============================] - 2s 6ms/step - loss: 2.2469 - accuracy: 0.2359 - val_loss: 2.2464 - val_accuracy: 0.2065\n",
            "Epoch 89/200\n",
            "375/375 [==============================] - 1s 4ms/step - loss: 2.2464 - accuracy: 0.2275 - val_loss: 2.2459 - val_accuracy: 0.1912\n",
            "Epoch 90/200\n",
            "375/375 [==============================] - 1s 4ms/step - loss: 2.2457 - accuracy: 0.2275 - val_loss: 2.2456 - val_accuracy: 0.2122\n",
            "Epoch 91/200\n",
            "375/375 [==============================] - 1s 3ms/step - loss: 2.2451 - accuracy: 0.2363 - val_loss: 2.2449 - val_accuracy: 0.1922\n",
            "Epoch 92/200\n",
            "375/375 [==============================] - 1s 4ms/step - loss: 2.2445 - accuracy: 0.2271 - val_loss: 2.2441 - val_accuracy: 0.2200\n",
            "Epoch 93/200\n",
            "375/375 [==============================] - 1s 3ms/step - loss: 2.2439 - accuracy: 0.2322 - val_loss: 2.2434 - val_accuracy: 0.2301\n",
            "Epoch 94/200\n",
            "375/375 [==============================] - 1s 3ms/step - loss: 2.2433 - accuracy: 0.2380 - val_loss: 2.2428 - val_accuracy: 0.2575\n",
            "Epoch 95/200\n",
            "375/375 [==============================] - 1s 4ms/step - loss: 2.2426 - accuracy: 0.2418 - val_loss: 2.2421 - val_accuracy: 0.2713\n",
            "Epoch 96/200\n",
            "375/375 [==============================] - 2s 5ms/step - loss: 2.2420 - accuracy: 0.2613 - val_loss: 2.2417 - val_accuracy: 0.2103\n",
            "Epoch 97/200\n",
            "375/375 [==============================] - 2s 5ms/step - loss: 2.2413 - accuracy: 0.2247 - val_loss: 2.2408 - val_accuracy: 0.3626\n",
            "Epoch 98/200\n",
            "375/375 [==============================] - 1s 4ms/step - loss: 2.2409 - accuracy: 0.2709 - val_loss: 2.2402 - val_accuracy: 0.2617\n",
            "Epoch 99/200\n",
            "375/375 [==============================] - 1s 4ms/step - loss: 2.2401 - accuracy: 0.2708 - val_loss: 2.2400 - val_accuracy: 0.2035\n",
            "Epoch 100/200\n",
            "375/375 [==============================] - 1s 4ms/step - loss: 2.2396 - accuracy: 0.2395 - val_loss: 2.2392 - val_accuracy: 0.2918\n",
            "Epoch 101/200\n",
            "375/375 [==============================] - 1s 3ms/step - loss: 2.2390 - accuracy: 0.2702 - val_loss: 2.2384 - val_accuracy: 0.2702\n",
            "Epoch 102/200\n",
            "375/375 [==============================] - 1s 4ms/step - loss: 2.2384 - accuracy: 0.2725 - val_loss: 2.2381 - val_accuracy: 0.2201\n",
            "Epoch 103/200\n",
            "375/375 [==============================] - 1s 3ms/step - loss: 2.2378 - accuracy: 0.2680 - val_loss: 2.2374 - val_accuracy: 0.2276\n",
            "Epoch 104/200\n",
            "375/375 [==============================] - 1s 4ms/step - loss: 2.2372 - accuracy: 0.2703 - val_loss: 2.2367 - val_accuracy: 0.2092\n",
            "Epoch 105/200\n",
            "375/375 [==============================] - 2s 5ms/step - loss: 2.2365 - accuracy: 0.2687 - val_loss: 2.2363 - val_accuracy: 0.2180\n",
            "Epoch 106/200\n",
            "375/375 [==============================] - 2s 5ms/step - loss: 2.2360 - accuracy: 0.2640 - val_loss: 2.2355 - val_accuracy: 0.2473\n",
            "Epoch 107/200\n",
            "375/375 [==============================] - 1s 4ms/step - loss: 2.2353 - accuracy: 0.2830 - val_loss: 2.2351 - val_accuracy: 0.2198\n",
            "Epoch 108/200\n",
            "375/375 [==============================] - 1s 4ms/step - loss: 2.2347 - accuracy: 0.2691 - val_loss: 2.2341 - val_accuracy: 0.2852\n",
            "Epoch 109/200\n",
            "375/375 [==============================] - 1s 3ms/step - loss: 2.2341 - accuracy: 0.2760 - val_loss: 2.2336 - val_accuracy: 0.3289\n",
            "Epoch 110/200\n",
            "375/375 [==============================] - 1s 4ms/step - loss: 2.2335 - accuracy: 0.3030 - val_loss: 2.2329 - val_accuracy: 0.2645\n",
            "Epoch 111/200\n",
            "375/375 [==============================] - 1s 3ms/step - loss: 2.2329 - accuracy: 0.2795 - val_loss: 2.2321 - val_accuracy: 0.3061\n",
            "Epoch 112/200\n",
            "375/375 [==============================] - 1s 4ms/step - loss: 2.2323 - accuracy: 0.2980 - val_loss: 2.2317 - val_accuracy: 0.2845\n",
            "Epoch 113/200\n",
            "375/375 [==============================] - 2s 4ms/step - loss: 2.2317 - accuracy: 0.3002 - val_loss: 2.2312 - val_accuracy: 0.2501\n",
            "Epoch 114/200\n",
            "375/375 [==============================] - 2s 5ms/step - loss: 2.2311 - accuracy: 0.2859 - val_loss: 2.2305 - val_accuracy: 0.2911\n",
            "Epoch 115/200\n",
            "375/375 [==============================] - 2s 5ms/step - loss: 2.2305 - accuracy: 0.2898 - val_loss: 2.2295 - val_accuracy: 0.3391\n",
            "Epoch 116/200\n",
            "375/375 [==============================] - 1s 3ms/step - loss: 2.2299 - accuracy: 0.3167 - val_loss: 2.2293 - val_accuracy: 0.2652\n",
            "Epoch 117/200\n",
            "375/375 [==============================] - 1s 4ms/step - loss: 2.2293 - accuracy: 0.2928 - val_loss: 2.2286 - val_accuracy: 0.3405\n",
            "Epoch 118/200\n",
            "375/375 [==============================] - 1s 4ms/step - loss: 2.2286 - accuracy: 0.3334 - val_loss: 2.2282 - val_accuracy: 0.2543\n",
            "Epoch 119/200\n",
            "375/375 [==============================] - 1s 4ms/step - loss: 2.2280 - accuracy: 0.2963 - val_loss: 2.2272 - val_accuracy: 0.3086\n",
            "Epoch 120/200\n",
            "375/375 [==============================] - 1s 4ms/step - loss: 2.2275 - accuracy: 0.3125 - val_loss: 2.2269 - val_accuracy: 0.3181\n",
            "Epoch 121/200\n",
            "375/375 [==============================] - 1s 3ms/step - loss: 2.2268 - accuracy: 0.3230 - val_loss: 2.2261 - val_accuracy: 0.2857\n",
            "Epoch 122/200\n",
            "375/375 [==============================] - 1s 4ms/step - loss: 2.2262 - accuracy: 0.3155 - val_loss: 2.2256 - val_accuracy: 0.2923\n",
            "Epoch 123/200\n",
            "375/375 [==============================] - 2s 6ms/step - loss: 2.2256 - accuracy: 0.3261 - val_loss: 2.2250 - val_accuracy: 0.2840\n",
            "Epoch 124/200\n",
            "375/375 [==============================] - 2s 5ms/step - loss: 2.2251 - accuracy: 0.3330 - val_loss: 2.2245 - val_accuracy: 0.2474\n",
            "Epoch 125/200\n",
            "375/375 [==============================] - 1s 3ms/step - loss: 2.2243 - accuracy: 0.2984 - val_loss: 2.2235 - val_accuracy: 0.3412\n",
            "Epoch 126/200\n",
            "375/375 [==============================] - 1s 4ms/step - loss: 2.2239 - accuracy: 0.3384 - val_loss: 2.2233 - val_accuracy: 0.2990\n",
            "Epoch 127/200\n",
            "375/375 [==============================] - 1s 4ms/step - loss: 2.2232 - accuracy: 0.3295 - val_loss: 2.2224 - val_accuracy: 0.3146\n",
            "Epoch 128/200\n",
            "375/375 [==============================] - 1s 3ms/step - loss: 2.2226 - accuracy: 0.3369 - val_loss: 2.2218 - val_accuracy: 0.3093\n",
            "Epoch 129/200\n",
            "375/375 [==============================] - 1s 4ms/step - loss: 2.2220 - accuracy: 0.3299 - val_loss: 2.2211 - val_accuracy: 0.3437\n",
            "Epoch 130/200\n",
            "375/375 [==============================] - 1s 3ms/step - loss: 2.2214 - accuracy: 0.3361 - val_loss: 2.2207 - val_accuracy: 0.3613\n",
            "Epoch 131/200\n",
            "375/375 [==============================] - 2s 4ms/step - loss: 2.2209 - accuracy: 0.3479 - val_loss: 2.2200 - val_accuracy: 0.3306\n",
            "Epoch 132/200\n",
            "375/375 [==============================] - 2s 5ms/step - loss: 2.2202 - accuracy: 0.3486 - val_loss: 2.2193 - val_accuracy: 0.3350\n",
            "Epoch 133/200\n",
            "375/375 [==============================] - 1s 4ms/step - loss: 2.2196 - accuracy: 0.3478 - val_loss: 2.2187 - val_accuracy: 0.3192\n",
            "Epoch 134/200\n",
            "375/375 [==============================] - 1s 3ms/step - loss: 2.2190 - accuracy: 0.3411 - val_loss: 2.2182 - val_accuracy: 0.3451\n",
            "Epoch 135/200\n",
            "375/375 [==============================] - 1s 3ms/step - loss: 2.2184 - accuracy: 0.3561 - val_loss: 2.2176 - val_accuracy: 0.3346\n",
            "Epoch 136/200\n",
            "375/375 [==============================] - 1s 3ms/step - loss: 2.2178 - accuracy: 0.3569 - val_loss: 2.2171 - val_accuracy: 0.3396\n",
            "Epoch 137/200\n",
            "375/375 [==============================] - 1s 3ms/step - loss: 2.2172 - accuracy: 0.3391 - val_loss: 2.2162 - val_accuracy: 0.4103\n",
            "Epoch 138/200\n",
            "375/375 [==============================] - 1s 4ms/step - loss: 2.2166 - accuracy: 0.3784 - val_loss: 2.2158 - val_accuracy: 0.3228\n",
            "Epoch 139/200\n",
            "375/375 [==============================] - 1s 3ms/step - loss: 2.2160 - accuracy: 0.3432 - val_loss: 2.2149 - val_accuracy: 0.4344\n",
            "Epoch 140/200\n",
            "375/375 [==============================] - 1s 4ms/step - loss: 2.2154 - accuracy: 0.3876 - val_loss: 2.2146 - val_accuracy: 0.3394\n",
            "Epoch 141/200\n",
            "375/375 [==============================] - 2s 6ms/step - loss: 2.2148 - accuracy: 0.3547 - val_loss: 2.2139 - val_accuracy: 0.4060\n",
            "Epoch 142/200\n",
            "375/375 [==============================] - 2s 4ms/step - loss: 2.2142 - accuracy: 0.3814 - val_loss: 2.2136 - val_accuracy: 0.3241\n",
            "Epoch 143/200\n",
            "375/375 [==============================] - 1s 3ms/step - loss: 2.2136 - accuracy: 0.3648 - val_loss: 2.2125 - val_accuracy: 0.3658\n",
            "Epoch 144/200\n",
            "375/375 [==============================] - 1s 4ms/step - loss: 2.2130 - accuracy: 0.3596 - val_loss: 2.2117 - val_accuracy: 0.4411\n",
            "Epoch 145/200\n",
            "375/375 [==============================] - 1s 3ms/step - loss: 2.2124 - accuracy: 0.4028 - val_loss: 2.2119 - val_accuracy: 0.3023\n",
            "Epoch 146/200\n",
            "375/375 [==============================] - 1s 3ms/step - loss: 2.2118 - accuracy: 0.3454 - val_loss: 2.2106 - val_accuracy: 0.4658\n",
            "Epoch 147/200\n",
            "375/375 [==============================] - 1s 3ms/step - loss: 2.2113 - accuracy: 0.3798 - val_loss: 2.2099 - val_accuracy: 0.4708\n",
            "Epoch 148/200\n",
            "375/375 [==============================] - 1s 4ms/step - loss: 2.2106 - accuracy: 0.4000 - val_loss: 2.2095 - val_accuracy: 0.3873\n",
            "Epoch 149/200\n",
            "375/375 [==============================] - 1s 4ms/step - loss: 2.2100 - accuracy: 0.3868 - val_loss: 2.2091 - val_accuracy: 0.3738\n",
            "Epoch 150/200\n",
            "375/375 [==============================] - 2s 6ms/step - loss: 2.2094 - accuracy: 0.3751 - val_loss: 2.2083 - val_accuracy: 0.4156\n",
            "Epoch 151/200\n",
            "375/375 [==============================] - 2s 4ms/step - loss: 2.2088 - accuracy: 0.3873 - val_loss: 2.2079 - val_accuracy: 0.4302\n",
            "Epoch 152/200\n",
            "375/375 [==============================] - 1s 4ms/step - loss: 2.2082 - accuracy: 0.4013 - val_loss: 2.2071 - val_accuracy: 0.3887\n",
            "Epoch 153/200\n",
            "375/375 [==============================] - 1s 3ms/step - loss: 2.2076 - accuracy: 0.3900 - val_loss: 2.2065 - val_accuracy: 0.3952\n",
            "Epoch 154/200\n",
            "375/375 [==============================] - 1s 4ms/step - loss: 2.2070 - accuracy: 0.3955 - val_loss: 2.2062 - val_accuracy: 0.3607\n",
            "Epoch 155/200\n",
            "375/375 [==============================] - 1s 3ms/step - loss: 2.2065 - accuracy: 0.3960 - val_loss: 2.2054 - val_accuracy: 0.3790\n",
            "Epoch 156/200\n",
            "375/375 [==============================] - 1s 4ms/step - loss: 2.2058 - accuracy: 0.3921 - val_loss: 2.2051 - val_accuracy: 0.4164\n",
            "Epoch 157/200\n",
            "375/375 [==============================] - 1s 4ms/step - loss: 2.2053 - accuracy: 0.3962 - val_loss: 2.2042 - val_accuracy: 0.4381\n",
            "Epoch 158/200\n",
            "375/375 [==============================] - 2s 5ms/step - loss: 2.2047 - accuracy: 0.4154 - val_loss: 2.2037 - val_accuracy: 0.3651\n",
            "Epoch 159/200\n",
            "375/375 [==============================] - 2s 6ms/step - loss: 2.2040 - accuracy: 0.4066 - val_loss: 2.2028 - val_accuracy: 0.3678\n",
            "Epoch 160/200\n",
            "375/375 [==============================] - 2s 4ms/step - loss: 2.2034 - accuracy: 0.3873 - val_loss: 2.2021 - val_accuracy: 0.4617\n",
            "Epoch 161/200\n",
            "375/375 [==============================] - 1s 4ms/step - loss: 2.2028 - accuracy: 0.4225 - val_loss: 2.2016 - val_accuracy: 0.4235\n",
            "Epoch 162/200\n",
            "375/375 [==============================] - 1s 4ms/step - loss: 2.2022 - accuracy: 0.4252 - val_loss: 2.2012 - val_accuracy: 0.3674\n",
            "Epoch 163/200\n",
            "375/375 [==============================] - 1s 3ms/step - loss: 2.2017 - accuracy: 0.4002 - val_loss: 2.2003 - val_accuracy: 0.4252\n",
            "Epoch 164/200\n",
            "375/375 [==============================] - 1s 4ms/step - loss: 2.2010 - accuracy: 0.4230 - val_loss: 2.2000 - val_accuracy: 0.4022\n",
            "Epoch 165/200\n",
            "375/375 [==============================] - 1s 4ms/step - loss: 2.2005 - accuracy: 0.4039 - val_loss: 2.1995 - val_accuracy: 0.4664\n",
            "Epoch 166/200\n",
            "375/375 [==============================] - 1s 3ms/step - loss: 2.1999 - accuracy: 0.4179 - val_loss: 2.1985 - val_accuracy: 0.4704\n",
            "Epoch 167/200\n",
            "375/375 [==============================] - 2s 5ms/step - loss: 2.1993 - accuracy: 0.4131 - val_loss: 2.1982 - val_accuracy: 0.4882\n",
            "Epoch 168/200\n",
            "375/375 [==============================] - 2s 5ms/step - loss: 2.1987 - accuracy: 0.4462 - val_loss: 2.1975 - val_accuracy: 0.4001\n",
            "Epoch 169/200\n",
            "375/375 [==============================] - 1s 3ms/step - loss: 2.1981 - accuracy: 0.4142 - val_loss: 2.1972 - val_accuracy: 0.4186\n",
            "Epoch 170/200\n",
            "375/375 [==============================] - 1s 4ms/step - loss: 2.1975 - accuracy: 0.4260 - val_loss: 2.1966 - val_accuracy: 0.4098\n",
            "Epoch 171/200\n",
            "375/375 [==============================] - 1s 4ms/step - loss: 2.1969 - accuracy: 0.4233 - val_loss: 2.1956 - val_accuracy: 0.4516\n",
            "Epoch 172/200\n",
            "375/375 [==============================] - 1s 3ms/step - loss: 2.1963 - accuracy: 0.4275 - val_loss: 2.1951 - val_accuracy: 0.4720\n",
            "Epoch 173/200\n",
            "375/375 [==============================] - 1s 4ms/step - loss: 2.1957 - accuracy: 0.4385 - val_loss: 2.1945 - val_accuracy: 0.4355\n",
            "Epoch 174/200\n",
            "375/375 [==============================] - 2s 4ms/step - loss: 2.1952 - accuracy: 0.4247 - val_loss: 2.1940 - val_accuracy: 0.4846\n",
            "Epoch 175/200\n",
            "375/375 [==============================] - 1s 4ms/step - loss: 2.1946 - accuracy: 0.4342 - val_loss: 2.1931 - val_accuracy: 0.4962\n",
            "Epoch 176/200\n",
            "375/375 [==============================] - 2s 6ms/step - loss: 2.1940 - accuracy: 0.4561 - val_loss: 2.1927 - val_accuracy: 0.4135\n",
            "Epoch 177/200\n",
            "375/375 [==============================] - 2s 4ms/step - loss: 2.1934 - accuracy: 0.4383 - val_loss: 2.1923 - val_accuracy: 0.4230\n",
            "Epoch 178/200\n",
            "375/375 [==============================] - 1s 4ms/step - loss: 2.1928 - accuracy: 0.4419 - val_loss: 2.1915 - val_accuracy: 0.4273\n",
            "Epoch 179/200\n",
            "375/375 [==============================] - 1s 4ms/step - loss: 2.1922 - accuracy: 0.4476 - val_loss: 2.1910 - val_accuracy: 0.3987\n",
            "Epoch 180/200\n",
            "375/375 [==============================] - 1s 4ms/step - loss: 2.1917 - accuracy: 0.4322 - val_loss: 2.1901 - val_accuracy: 0.4568\n",
            "Epoch 181/200\n",
            "375/375 [==============================] - 2s 4ms/step - loss: 2.1910 - accuracy: 0.4396 - val_loss: 2.1897 - val_accuracy: 0.4974\n",
            "Epoch 182/200\n",
            "375/375 [==============================] - 1s 3ms/step - loss: 2.1904 - accuracy: 0.4512 - val_loss: 2.1891 - val_accuracy: 0.4712\n",
            "Epoch 183/200\n",
            "375/375 [==============================] - 1s 4ms/step - loss: 2.1898 - accuracy: 0.4572 - val_loss: 2.1885 - val_accuracy: 0.4512\n",
            "Epoch 184/200\n",
            "375/375 [==============================] - 2s 5ms/step - loss: 2.1892 - accuracy: 0.4652 - val_loss: 2.1882 - val_accuracy: 0.3862\n",
            "Epoch 185/200\n",
            "375/375 [==============================] - 2s 6ms/step - loss: 2.1887 - accuracy: 0.4394 - val_loss: 2.1872 - val_accuracy: 0.4442\n",
            "Epoch 186/200\n",
            "375/375 [==============================] - 1s 4ms/step - loss: 2.1881 - accuracy: 0.4626 - val_loss: 2.1867 - val_accuracy: 0.4227\n",
            "Epoch 187/200\n",
            "375/375 [==============================] - 1s 3ms/step - loss: 2.1875 - accuracy: 0.4440 - val_loss: 2.1861 - val_accuracy: 0.4643\n",
            "Epoch 188/200\n",
            "375/375 [==============================] - 1s 4ms/step - loss: 2.1869 - accuracy: 0.4601 - val_loss: 2.1854 - val_accuracy: 0.4458\n",
            "Epoch 189/200\n",
            "375/375 [==============================] - 1s 4ms/step - loss: 2.1863 - accuracy: 0.4509 - val_loss: 2.1850 - val_accuracy: 0.4683\n",
            "Epoch 190/200\n",
            "375/375 [==============================] - 1s 4ms/step - loss: 2.1857 - accuracy: 0.4656 - val_loss: 2.1844 - val_accuracy: 0.4561\n",
            "Epoch 191/200\n",
            "375/375 [==============================] - 1s 4ms/step - loss: 2.1851 - accuracy: 0.4631 - val_loss: 2.1835 - val_accuracy: 0.4666\n",
            "Epoch 192/200\n",
            "375/375 [==============================] - 1s 4ms/step - loss: 2.1845 - accuracy: 0.4694 - val_loss: 2.1832 - val_accuracy: 0.4285\n",
            "Epoch 193/200\n",
            "375/375 [==============================] - 2s 6ms/step - loss: 2.1840 - accuracy: 0.4422 - val_loss: 2.1821 - val_accuracy: 0.5257\n",
            "Epoch 194/200\n",
            "375/375 [==============================] - 2s 5ms/step - loss: 2.1834 - accuracy: 0.4753 - val_loss: 2.1819 - val_accuracy: 0.4717\n",
            "Epoch 195/200\n",
            "375/375 [==============================] - 1s 3ms/step - loss: 2.1828 - accuracy: 0.4747 - val_loss: 2.1813 - val_accuracy: 0.4469\n",
            "Epoch 196/200\n",
            "375/375 [==============================] - 1s 3ms/step - loss: 2.1822 - accuracy: 0.4641 - val_loss: 2.1807 - val_accuracy: 0.4668\n",
            "Epoch 197/200\n",
            "375/375 [==============================] - 1s 4ms/step - loss: 2.1816 - accuracy: 0.4588 - val_loss: 2.1802 - val_accuracy: 0.5096\n",
            "Epoch 198/200\n",
            "375/375 [==============================] - 1s 3ms/step - loss: 2.1810 - accuracy: 0.5004 - val_loss: 2.1798 - val_accuracy: 0.3974\n",
            "Epoch 199/200\n",
            "375/375 [==============================] - 1s 3ms/step - loss: 2.1805 - accuracy: 0.4507 - val_loss: 2.1788 - val_accuracy: 0.5090\n",
            "Epoch 200/200\n",
            "375/375 [==============================] - 2s 4ms/step - loss: 2.1799 - accuracy: 0.4786 - val_loss: 2.1782 - val_accuracy: 0.5058\n"
          ]
        }
      ],
      "source": [
        "#train the network\n",
        "history = model.fit(input_X_train, output_Y_train, batch_size=BATCH_SIZE, epochs=N_EPOCH, verbose=VERBOSE, validation_split=VALIDATION_SPLIT)\n"
      ]
    },
    {
      "cell_type": "markdown",
      "metadata": {
        "id": "2MpCg_YTMP17"
      },
      "source": [
        "**Looking at the results of the trained network**\n",
        "\n",
        "Let's evaluate the model to see how well it has learned ( or not) the MNIST problem."
      ]
    },
    {
      "cell_type": "code",
      "execution_count": 8,
      "metadata": {
        "id": "ZN9rro7KMP19",
        "colab": {
          "base_uri": "https://localhost:8080/"
        },
        "outputId": "60297889-77b3-4aeb-b355-273d7133e861"
      },
      "outputs": [
        {
          "output_type": "stream",
          "name": "stdout",
          "text": [
            "313/313 [==============================] - 1s 2ms/step - loss: 2.1764 - accuracy: 0.5144\n",
            "\n",
            "Test score/loss: 2.176405191421509\n",
            "Test accuracy: 0.5144000053405762\n"
          ]
        }
      ],
      "source": [
        "#test the network using the generalisation test dataset\n",
        "score = model.evaluate(input_X_test, output_Y_test, verbose=VERBOSE)\n",
        "print(\"\\nTest score/loss:\", score[0])\n",
        "print(\"Test accuracy:\", score[1])\n"
      ]
    },
    {
      "cell_type": "markdown",
      "metadata": {
        "id": "GZuRJvfwMP2K"
      },
      "source": [
        "Training the Multi-Layer Perceptron\n",
        "=========\n",
        "**Defining the network: Multi-Layer Perceptron**\n",
        "\n",
        "We will now create a multi-layer perceptron with 784 input units, two hidden layers with 128 hidden units each, and an output layer with the 10 units.\n",
        "\n"
      ]
    },
    {
      "cell_type": "code",
      "execution_count": 9,
      "metadata": {
        "id": "HoF0ib-SMP2N",
        "colab": {
          "base_uri": "https://localhost:8080/"
        },
        "outputId": "818d31db-fdc4-4e6d-ba80-0d0a359086f2"
      },
      "outputs": [
        {
          "output_type": "stream",
          "name": "stdout",
          "text": [
            "Model: \"sequential_1\"\n",
            "_________________________________________________________________\n",
            " Layer (type)                Output Shape              Param #   \n",
            "=================================================================\n",
            " dense_1 (Dense)             (None, 128)               100480    \n",
            "                                                                 \n",
            " activation_1 (Activation)   (None, 128)               0         \n",
            "                                                                 \n",
            " dense_2 (Dense)             (None, 128)               16512     \n",
            "                                                                 \n",
            " activation_2 (Activation)   (None, 128)               0         \n",
            "                                                                 \n",
            " dense_3 (Dense)             (None, 10)                1290      \n",
            "                                                                 \n",
            " activation_3 (Activation)   (None, 10)                0         \n",
            "                                                                 \n",
            "=================================================================\n",
            "Total params: 118282 (462.04 KB)\n",
            "Trainable params: 118282 (462.04 KB)\n",
            "Non-trainable params: 0 (0.00 Byte)\n",
            "_________________________________________________________________\n"
          ]
        }
      ],
      "source": [
        "N_EPOCH = 20 # we need fewer epoch than before, as the multi-layer percetpron can learn faster.\n",
        "N_HIDDEN = 128\n",
        "\n",
        "model = Sequential()\n",
        "\n",
        "# Hidden layer 1 with 128 hidden units and ReLu activation function\n",
        "model.add(Dense(N_HIDDEN, input_shape=(RESHAPED,)))\n",
        "model.add(Activation('relu'))\n",
        "# Hidden layer 2 with 128 hidden units and ReLu activation function\n",
        "model.add(Dense(N_HIDDEN))\n",
        "model.add(Activation('relu'))\n",
        "\n",
        "# output layer with 10 units and softmax activation\n",
        "model.add(Dense(N_CLASSES))\n",
        "model.add(Activation('softmax'))\n",
        "\n",
        "# Summary of the whole model\n",
        "model.summary()\n",
        "\n",
        "# model compilation\n",
        "model.compile(loss='categorical_crossentropy', optimizer=OPTIMIZER, metrics=['accuracy'])"
      ]
    },
    {
      "cell_type": "markdown",
      "metadata": {
        "id": "OgYzi3hyMP2V"
      },
      "source": [
        "**Let's train the mulri-layer perceptron network**\n",
        "\n",
        "Let's now train (fit) the network with the above-defined batch size (128), and number of epochs (20)."
      ]
    },
    {
      "cell_type": "code",
      "execution_count": 10,
      "metadata": {
        "id": "iNa3cmoaMP2X",
        "colab": {
          "base_uri": "https://localhost:8080/"
        },
        "outputId": "71df1a3d-26bc-42c3-8028-f36e996faf78"
      },
      "outputs": [
        {
          "output_type": "stream",
          "name": "stdout",
          "text": [
            "Epoch 1/20\n",
            "375/375 [==============================] - 2s 5ms/step - loss: 2.2998 - accuracy: 0.1152 - val_loss: 2.3005 - val_accuracy: 0.1060\n",
            "Epoch 2/20\n",
            "375/375 [==============================] - 2s 4ms/step - loss: 2.2992 - accuracy: 0.1140 - val_loss: 2.2998 - val_accuracy: 0.1060\n",
            "Epoch 3/20\n",
            "375/375 [==============================] - 2s 6ms/step - loss: 2.2983 - accuracy: 0.1149 - val_loss: 2.2982 - val_accuracy: 0.1060\n",
            "Epoch 4/20\n",
            "375/375 [==============================] - 2s 6ms/step - loss: 2.2972 - accuracy: 0.1159 - val_loss: 2.2974 - val_accuracy: 0.1060\n",
            "Epoch 5/20\n",
            "375/375 [==============================] - 2s 5ms/step - loss: 2.2961 - accuracy: 0.1192 - val_loss: 2.2970 - val_accuracy: 0.1060\n",
            "Epoch 6/20\n",
            "375/375 [==============================] - 2s 4ms/step - loss: 2.2946 - accuracy: 0.1166 - val_loss: 2.2941 - val_accuracy: 0.1060\n",
            "Epoch 7/20\n",
            "375/375 [==============================] - 2s 5ms/step - loss: 2.2926 - accuracy: 0.1246 - val_loss: 2.2925 - val_accuracy: 0.1060\n",
            "Epoch 8/20\n",
            "375/375 [==============================] - 2s 4ms/step - loss: 2.2897 - accuracy: 0.1308 - val_loss: 2.2892 - val_accuracy: 0.2007\n",
            "Epoch 9/20\n",
            "375/375 [==============================] - 2s 5ms/step - loss: 2.2857 - accuracy: 0.1477 - val_loss: 2.2855 - val_accuracy: 0.1060\n",
            "Epoch 10/20\n",
            "375/375 [==============================] - 3s 7ms/step - loss: 2.2800 - accuracy: 0.1594 - val_loss: 2.2764 - val_accuracy: 0.1302\n",
            "Epoch 11/20\n",
            "375/375 [==============================] - 2s 5ms/step - loss: 2.2705 - accuracy: 0.1863 - val_loss: 2.2635 - val_accuracy: 0.1822\n",
            "Epoch 12/20\n",
            "375/375 [==============================] - 2s 4ms/step - loss: 2.2542 - accuracy: 0.2147 - val_loss: 2.2426 - val_accuracy: 0.2702\n",
            "Epoch 13/20\n",
            "375/375 [==============================] - 2s 4ms/step - loss: 2.2268 - accuracy: 0.2325 - val_loss: 2.2176 - val_accuracy: 0.1105\n",
            "Epoch 14/20\n",
            "375/375 [==============================] - 2s 5ms/step - loss: 2.1905 - accuracy: 0.2171 - val_loss: 2.1534 - val_accuracy: 0.3088\n",
            "Epoch 15/20\n",
            "375/375 [==============================] - 2s 5ms/step - loss: 2.1707 - accuracy: 0.2190 - val_loss: 2.1154 - val_accuracy: 0.1736\n",
            "Epoch 16/20\n",
            "375/375 [==============================] - 2s 5ms/step - loss: 2.1434 - accuracy: 0.2249 - val_loss: 2.1960 - val_accuracy: 0.1097\n",
            "Epoch 17/20\n",
            "375/375 [==============================] - 3s 8ms/step - loss: 2.1317 - accuracy: 0.2341 - val_loss: 2.0046 - val_accuracy: 0.3662\n",
            "Epoch 18/20\n",
            "375/375 [==============================] - 2s 4ms/step - loss: 2.1096 - accuracy: 0.2498 - val_loss: 2.0461 - val_accuracy: 0.2693\n",
            "Epoch 19/20\n",
            "375/375 [==============================] - 2s 5ms/step - loss: 2.0829 - accuracy: 0.2575 - val_loss: 2.1297 - val_accuracy: 0.2081\n",
            "Epoch 20/20\n",
            "375/375 [==============================] - 2s 5ms/step - loss: 2.0499 - accuracy: 0.2757 - val_loss: 1.9490 - val_accuracy: 0.3779\n"
          ]
        }
      ],
      "source": [
        "#train the network\n",
        "history = model.fit(input_X_train, output_Y_train, batch_size=BATCH_SIZE, epochs=N_EPOCH, verbose=VERBOSE, validation_split=VALIDATION_SPLIT)\n"
      ]
    },
    {
      "cell_type": "markdown",
      "metadata": {
        "id": "kV5v4LNjMP2e"
      },
      "source": [
        "**Looking at the results of the trained network**\n",
        "\n",
        "Let's explotre the results both for the score and accuracy values, as well as to visualise the plots of these values during the training."
      ]
    },
    {
      "cell_type": "code",
      "execution_count": 11,
      "metadata": {
        "id": "CXpu8p9uMP2f",
        "colab": {
          "base_uri": "https://localhost:8080/"
        },
        "outputId": "5da0c5a5-d5d9-45d8-ef8f-3abbfed7cc1d"
      },
      "outputs": [
        {
          "output_type": "stream",
          "name": "stdout",
          "text": [
            "313/313 [==============================] - 1s 2ms/step - loss: 1.9404 - accuracy: 0.3804\n",
            "\n",
            "Test score/loss: 1.9403765201568604\n",
            "Test accuracy: 0.38040000200271606\n"
          ]
        }
      ],
      "source": [
        "#test the network\n",
        "score = model.evaluate(input_X_test, output_Y_test, verbose=VERBOSE)\n",
        "print(\"\\nTest score/loss:\", score[0])\n",
        "print(\"Test accuracy:\", score[1])"
      ]
    },
    {
      "cell_type": "code",
      "execution_count": 12,
      "metadata": {
        "id": "yYRZkVf6MP2t",
        "colab": {
          "base_uri": "https://localhost:8080/",
          "height": 489
        },
        "outputId": "88ca323b-9636-41c8-e96d-73c605390b05"
      },
      "outputs": [
        {
          "output_type": "stream",
          "name": "stdout",
          "text": [
            "dict_keys(['loss', 'accuracy', 'val_loss', 'val_accuracy'])\n"
          ]
        },
        {
          "output_type": "display_data",
          "data": {
            "text/plain": [
              "<Figure size 640x480 with 1 Axes>"
            ],
            "image/png": "[encoded data removed]"
          },
          "metadata": {}
        }
      ],
      "source": [
        "# list all data in history\n",
        "print(history.history.keys())\n",
        "# summarize history for accuracy\n",
        "plt.plot(history.history['accuracy'])\n",
        "plt.plot(history.history['val_accuracy'])\n",
        "plt.title('model accuracy')\n",
        "plt.ylabel('accuracy')\n",
        "plt.xlabel('epoch')\n",
        "plt.legend(['train', 'test'], loc='upper left')\n",
        "plt.show()\n"
      ]
    },
    {
      "cell_type": "code",
      "execution_count": 13,
      "metadata": {
        "id": "MJ9YbKviMP2z",
        "colab": {
          "base_uri": "https://localhost:8080/",
          "height": 472
        },
        "outputId": "4b993fff-e121-4187-90c9-6b0db694b9bc"
      },
      "outputs": [
        {
          "output_type": "display_data",
          "data": {
            "text/plain": [
              "<Figure size 640x480 with 1 Axes>"
            ],
            "image/png": "[encoded data removed]"
          },
          "metadata": {}
        }
      ],
      "source": [
        "# summarize history for loss\n",
        "plt.plot(history.history['loss'])\n",
        "plt.plot(history.history['val_loss'])\n",
        "plt.title('model loss')\n",
        "plt.ylabel('loss')\n",
        "plt.xlabel('epoch')\n",
        "plt.legend(['train', 'test'], loc='upper left')\n",
        "plt.show()"
      ]
    },
    {
      "cell_type": "markdown",
      "metadata": {
        "id": "CV-aShF1MP24"
      },
      "source": [
        "**Adding weight droputs**\n",
        "\n",
        "An efficient way to reduce the number of parameters (weights) to be trained, as well as to increase generalisation capabilities, is to randomly remove (i.e. __dropout__) a certain proportion of the nodes at random in each epoch."
      ]
    },
    {
      "cell_type": "code",
      "execution_count": 14,
      "metadata": {
        "id": "4GNrMiVoMP25",
        "colab": {
          "base_uri": "https://localhost:8080/"
        },
        "outputId": "8d1c359a-0aad-4632-a395-a9dd92061243"
      },
      "outputs": [
        {
          "output_type": "stream",
          "name": "stdout",
          "text": [
            "Model: \"sequential_2\"\n",
            "_________________________________________________________________\n",
            " Layer (type)                Output Shape              Param #   \n",
            "=================================================================\n",
            " dense_4 (Dense)             (None, 128)               100480    \n",
            "                                                                 \n",
            " activation_4 (Activation)   (None, 128)               0         \n",
            "                                                                 \n",
            " dropout (Dropout)           (None, 128)               0         \n",
            "                                                                 \n",
            " dense_5 (Dense)             (None, 128)               16512     \n",
            "                                                                 \n",
            " activation_5 (Activation)   (None, 128)               0         \n",
            "                                                                 \n",
            " dropout_1 (Dropout)         (None, 128)               0         \n",
            "                                                                 \n",
            " dense_6 (Dense)             (None, 10)                1290      \n",
            "                                                                 \n",
            " activation_6 (Activation)   (None, 10)                0         \n",
            "                                                                 \n",
            "=================================================================\n",
            "Total params: 118282 (462.04 KB)\n",
            "Trainable params: 118282 (462.04 KB)\n",
            "Non-trainable params: 0 (0.00 Byte)\n",
            "_________________________________________________________________\n"
          ]
        }
      ],
      "source": [
        "# import the dropout layer type\n",
        "from tensorflow.keras.layers import Dropout\n",
        "\n",
        "# Probability of weights dropout\n",
        "P_DROPOUT = 0.3\n",
        "\n",
        "# We can increse this parameter afterwards\n",
        "N_EPOCH = 20\n",
        "\n",
        "model = Sequential()\n",
        "model.add(Dense(N_HIDDEN, input_shape=(RESHAPED,)))\n",
        "model.add(Activation('relu'))\n",
        "model.add(Dropout(P_DROPOUT))\n",
        "model.add(Dense(N_HIDDEN))\n",
        "model.add(Activation('relu'))\n",
        "model.add(Dropout(P_DROPOUT))\n",
        "model.add(Dense(N_CLASSES))\n",
        "model.add(Activation('softmax'))\n",
        "\n",
        "# model compilation\n",
        "model.summary()\n",
        "\n",
        "# model compilation\n",
        "model.compile(loss='categorical_crossentropy', optimizer=OPTIMIZER, metrics=['accuracy'])\n"
      ]
    },
    {
      "cell_type": "markdown",
      "metadata": {
        "id": "NBJJWwueMP2-"
      },
      "source": [
        "**Let's train the multi-layer perceptron network with DROPOUT**\n",
        "\n",
        "Let's now train (fit) the above dropout network with the above-defined batch size (128), and number of epochs (250)."
      ]
    },
    {
      "cell_type": "code",
      "execution_count": 15,
      "metadata": {
        "id": "Xqa-9UHxMP3A",
        "colab": {
          "base_uri": "https://localhost:8080/"
        },
        "outputId": "8da29f5a-71f7-4621-a4ec-bd2879dbab96"
      },
      "outputs": [
        {
          "output_type": "stream",
          "name": "stdout",
          "text": [
            "Epoch 1/20\n",
            "375/375 [==============================] - 2s 5ms/step - loss: 2.3002 - accuracy: 0.1142 - val_loss: 2.3005 - val_accuracy: 0.1060\n",
            "Epoch 2/20\n",
            "375/375 [==============================] - 3s 7ms/step - loss: 2.2996 - accuracy: 0.1147 - val_loss: 2.3003 - val_accuracy: 0.1060\n",
            "Epoch 3/20\n",
            "375/375 [==============================] - 2s 6ms/step - loss: 2.2988 - accuracy: 0.1164 - val_loss: 2.2991 - val_accuracy: 0.1060\n",
            "Epoch 4/20\n",
            "375/375 [==============================] - 2s 5ms/step - loss: 2.2978 - accuracy: 0.1174 - val_loss: 2.2978 - val_accuracy: 0.1060\n",
            "Epoch 5/20\n",
            "375/375 [==============================] - 2s 5ms/step - loss: 2.2969 - accuracy: 0.1186 - val_loss: 2.2964 - val_accuracy: 0.1060\n",
            "Epoch 6/20\n",
            "375/375 [==============================] - 2s 5ms/step - loss: 2.2954 - accuracy: 0.1210 - val_loss: 2.2954 - val_accuracy: 0.1896\n",
            "Epoch 7/20\n",
            "375/375 [==============================] - 2s 5ms/step - loss: 2.2938 - accuracy: 0.1260 - val_loss: 2.2924 - val_accuracy: 0.1060\n",
            "Epoch 8/20\n",
            "375/375 [==============================] - 2s 6ms/step - loss: 2.2909 - accuracy: 0.1338 - val_loss: 2.2907 - val_accuracy: 0.1060\n",
            "Epoch 9/20\n",
            "375/375 [==============================] - 3s 7ms/step - loss: 2.2878 - accuracy: 0.1415 - val_loss: 2.2852 - val_accuracy: 0.1200\n",
            "Epoch 10/20\n",
            "375/375 [==============================] - 2s 5ms/step - loss: 2.2828 - accuracy: 0.1529 - val_loss: 2.2795 - val_accuracy: 0.3053\n",
            "Epoch 11/20\n",
            "375/375 [==============================] - 2s 5ms/step - loss: 2.2753 - accuracy: 0.1740 - val_loss: 2.2728 - val_accuracy: 0.1060\n",
            "Epoch 12/20\n",
            "375/375 [==============================] - 2s 5ms/step - loss: 2.2636 - accuracy: 0.1910 - val_loss: 2.2561 - val_accuracy: 0.1601\n",
            "Epoch 13/20\n",
            "375/375 [==============================] - 2s 5ms/step - loss: 2.2440 - accuracy: 0.2134 - val_loss: 2.2299 - val_accuracy: 0.2833\n",
            "Epoch 14/20\n",
            "375/375 [==============================] - 2s 5ms/step - loss: 2.2177 - accuracy: 0.2161 - val_loss: 2.1878 - val_accuracy: 0.2247\n",
            "Epoch 15/20\n",
            "375/375 [==============================] - 3s 8ms/step - loss: 2.2051 - accuracy: 0.2065 - val_loss: 2.1876 - val_accuracy: 0.1539\n",
            "Epoch 16/20\n",
            "375/375 [==============================] - 2s 5ms/step - loss: 2.1940 - accuracy: 0.2091 - val_loss: 2.1245 - val_accuracy: 0.4009\n",
            "Epoch 17/20\n",
            "375/375 [==============================] - 2s 5ms/step - loss: 2.1763 - accuracy: 0.2128 - val_loss: 2.2040 - val_accuracy: 0.1127\n",
            "Epoch 18/20\n",
            "375/375 [==============================] - 2s 5ms/step - loss: 2.1538 - accuracy: 0.2162 - val_loss: 2.0678 - val_accuracy: 0.3990\n",
            "Epoch 19/20\n",
            "375/375 [==============================] - 2s 5ms/step - loss: 2.1487 - accuracy: 0.2212 - val_loss: 2.0674 - val_accuracy: 0.2660\n",
            "Epoch 20/20\n",
            "375/375 [==============================] - 2s 5ms/step - loss: 2.1396 - accuracy: 0.2254 - val_loss: 2.1126 - val_accuracy: 0.1837\n"
          ]
        }
      ],
      "source": [
        "#train the network\n",
        "history = model.fit(input_X_train, output_Y_train, batch_size=BATCH_SIZE, epochs=N_EPOCH, verbose=VERBOSE, validation_split=VALIDATION_SPLIT)\n"
      ]
    },
    {
      "cell_type": "markdown",
      "metadata": {
        "id": "x-z1NP88MP3I"
      },
      "source": [
        "**Looking at the results of the trained dropout network**\n",
        "\n",
        "Let's explore the effects of adding the weight dropout on the network performance.\n",
        "\n",
        "You can see that the dropout has further improved our results."
      ]
    },
    {
      "cell_type": "code",
      "execution_count": 16,
      "metadata": {
        "id": "K8qIacDmMP3N",
        "colab": {
          "base_uri": "https://localhost:8080/",
          "height": 559
        },
        "outputId": "695b2119-5702-4653-f949-98b34cf1da29"
      },
      "outputs": [
        {
          "output_type": "stream",
          "name": "stdout",
          "text": [
            "313/313 [==============================] - 1s 2ms/step - loss: 2.1150 - accuracy: 0.1796\n",
            "\n",
            "Test score: 2.1149656772613525\n",
            "Test accuracy: 0.17960000038146973\n",
            "dict_keys(['loss', 'accuracy', 'val_loss', 'val_accuracy'])\n"
          ]
        },
        {
          "output_type": "display_data",
          "data": {
            "text/plain": [
              "<Figure size 640x480 with 1 Axes>"
            ],
            "image/png": "[encoded data removed]"
          },
          "metadata": {}
        }
      ],
      "source": [
        "#test the network\n",
        "score = model.evaluate(input_X_test, output_Y_test, verbose=VERBOSE)\n",
        "print(\"\\nTest score:\", score[0])\n",
        "print(\"Test accuracy:\", score[1])\n",
        "\n",
        "# list all data in history\n",
        "print(history.history.keys())\n",
        "\n",
        "# summarize history for accuracy\n",
        "plt.plot(history.history['accuracy'])\n",
        "plt.plot(history.history['val_accuracy'])\n",
        "plt.title('model accuracy')\n",
        "plt.ylabel('accuracy')\n",
        "plt.xlabel('epoch')\n",
        "plt.legend(['train', 'test'], loc='upper left')\n",
        "plt.show()"
      ]
    },
    {
      "cell_type": "markdown",
      "metadata": {
        "id": "8IUIcenlMP3S"
      },
      "source": [
        "Exploring Training Hyperparameters\n",
        "-------------\n",
        "\n",
        "You can explore the role of various hyperparameters to see how you can further improve the MLP model's performance on the MNIST dataset.\n",
        "\n",
        "For example, if you increase the number of epochs for the dropout network to 250, you will see that the test and train accuracy errors will converge (accuracy closer to 97% for both training and test), which means that we have achieved the best tradeoff between training and testing.\n",
        "\n",
        "You can carry out many additional simulations on hypeparameter exploration where you can try for example:\n",
        "\n",
        "- different number of epochs\n",
        "- different learning rate\n",
        "- different number of hidden nodes\n",
        "- different proportion of dropout rates\n",
        "- different optimisers in addition to SGD (e.g. RMSprop, Adam)\n",
        "- different batch size\n",
        "\n",
        "This final exercise will constitute the first neural network coursework. See Coursework specification documenty for more details.\n"
      ]
    },
    {
      "cell_type": "markdown",
      "metadata": {
        "id": "uPKj5NAdMP3T"
      },
      "source": [
        "Conclusions\n",
        "-------------\n",
        "\n",
        "With this tutorial we have practiced the training of both a Simple Perceptron, and a Multi-Layer Perceptron, with a benchmark dataset containing images of handwritten numbers.\n",
        "This helped us understand how to load the datase, visualise it, and visualise the training history and the effects of adding hidden layers and then adding weight dropout.\n",
        "\n",
        "**Copyright (c)** 2022 Angelo Cangelosi, MIT License. Code and examples adapted from Gulli & Pal (2017) Deep Learning with Keras. Punkt Publishing. With further contribution from Wenjie Huang."
      ]
    }
  ],
  "metadata": {
    "colab": {
      "provenance": [],
      "include_colab_link": true
    },
    "kernelspec": {
      "display_name": "Python 3",
      "language": "python",
      "name": "python3"
    },
    "language_info": {
      "codemirror_mode": {
        "name": "ipython",
        "version": 3
      },
      "file_extension": ".py",
      "mimetype": "text/x-python",
      "name": "python",
      "nbconvert_exporter": "python",
      "pygments_lexer": "ipython3",
      "version": "3.6.12"
    }
  },
  "nbformat": 4,
  "nbformat_minor": 0
}