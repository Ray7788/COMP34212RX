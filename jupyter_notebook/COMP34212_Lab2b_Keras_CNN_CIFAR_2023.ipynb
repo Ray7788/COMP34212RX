{
  "cells": [
    {
      "cell_type": "markdown",
      "metadata": {
        "id": "view-in-github",
        "colab_type": "text"
      },
      "source": [
        "<a href=\"https://colab.research.google.com/github/Ray7788/COMP34212RX/blob/main/jupyter_notebook/COMP34212_Lab2b_Keras_CNN_CIFAR_2023.ipynb\" target=\"_parent\"><img src=\"https://colab.research.google.com/assets/colab-badge.svg\" alt=\"Open In Colab\"/></a>"
      ]
    },
    {
      "cell_type": "markdown",
      "metadata": {
        "id": "m_SLMzgGIpjE"
      },
      "source": [
        "Advanced Convolutional Neural Networks (CNNs) with CIFAR-10 dataset\n",
        "=========\n",
        "\n",
        "In this tutorial we will learn how to use more complex CNNs, showing that the training of a __deeper__ CNN can improve the performance of the model. We will also explore the concept of __data augmentation__ to understand how to increase the variability of the training set by, for example, rotating the original images to generate new training stimuli.\n",
        "\n",
        "This tutorail will use the CIFAR-10 training set.\n"
      ]
    },
    {
      "cell_type": "markdown",
      "metadata": {
        "id": "PKafL_SXIpjI"
      },
      "source": [
        "**CNN for CIFAR-10**\n",
        "\n",
        "To work with more complex CNNs, we will now use a more complex training dataset called __CIFAR-10__. https://www.cs.toronto.edu/~kriz/cifar.html . CIFAR-10 is a benchamark machine learning set of low-resolution, colour images. It includes 60000 32x32 colour (using 3 RGB colour channels) images in these 10 classes of objects: airplane, automobile, bird, cat, deer, dog, frog, horse, ship, truck. Each class has 6000. There are 50000 training images and 10000 test images. This dataset is enclosed in the default Anaconda KERAS package.\n"
      ]
    },
    {
      "cell_type": "markdown",
      "metadata": {
        "id": "XSw16YYkIpjK"
      },
      "source": [
        "**Initialisation of the program**\n",
        "\n",
        "The program starts with the importing of typical Keras and other Python service modules."
      ]
    },
    {
      "cell_type": "code",
      "execution_count": 1,
      "metadata": {
        "colab": {
          "base_uri": "https://localhost:8080/"
        },
        "id": "x595vK3pIpjN",
        "outputId": "c71bbe21-dfa6-479c-d98d-81d877534ccd"
      },
      "outputs": [
        {
          "output_type": "stream",
          "name": "stdout",
          "text": [
            "Libraries imported.\n"
          ]
        }
      ],
      "source": [
        "# importing of modules for CIFAR-10 CNN\n",
        "from tensorflow.keras.datasets import cifar10\n",
        "from tensorflow.keras import utils\n",
        "from tensorflow.keras.models import Sequential\n",
        "from tensorflow.keras.layers import Dense, Dropout, Activation, Flatten\n",
        "from tensorflow.keras.layers import Conv2D, MaxPooling2D\n",
        "from tensorflow.keras.optimizers.legacy import SGD, Adam, RMSprop\n",
        "\n",
        "# importing of service libraries\n",
        "import numpy as np\n",
        "import matplotlib.pyplot as plt\n",
        "\n",
        "print('Libraries imported.')"
      ]
    },
    {
      "cell_type": "markdown",
      "metadata": {
        "id": "Wx5--x5hIpjV"
      },
      "source": [
        "The following constant and variable definitions are needed for the network and training parameters.\n"
      ]
    },
    {
      "cell_type": "code",
      "execution_count": 2,
      "metadata": {
        "colab": {
          "base_uri": "https://localhost:8080/"
        },
        "id": "O1SvoRcMIpjX",
        "outputId": "2ad74f6e-9d28-4ef1-b23e-6410985cef38"
      },
      "outputs": [
        {
          "output_type": "stream",
          "name": "stdout",
          "text": [
            "Main variables initialised.\n"
          ]
        }
      ],
      "source": [
        "#training constants\n",
        "BATCH_SIZE = 128\n",
        "N_EPOCH = 20 # use 20 for best initial results\n",
        "N_CLASSES = 10\n",
        "VERBOSE = 1\n",
        "VALIDATION_SPLIT = 0.2\n",
        "OPTIM = RMSprop()\n",
        "\n",
        "print('Main variables initialised.')"
      ]
    },
    {
      "cell_type": "markdown",
      "metadata": {
        "id": "KpuekS__Ipjd"
      },
      "source": [
        "Constant definition for the training set images"
      ]
    },
    {
      "cell_type": "code",
      "execution_count": 3,
      "metadata": {
        "colab": {
          "base_uri": "https://localhost:8080/"
        },
        "id": "DWaibn5BIpje",
        "outputId": "b9980146-2b97-426c-a716-08369e63a073"
      },
      "outputs": [
        {
          "output_type": "stream",
          "name": "stdout",
          "text": [
            "Image variables initialisation\n"
          ]
        }
      ],
      "source": [
        "# CIFAR_10 is a set of 60K images 32x32 pixels on 3 channels\n",
        "IMG_CHANNELS = 3\n",
        "IMG_ROWS = 32\n",
        "IMG_COLS = 32\n",
        "\n",
        "print('Image variables initialisation')"
      ]
    },
    {
      "cell_type": "markdown",
      "metadata": {
        "id": "QcOhLgJ8Ipjk"
      },
      "source": [
        "__CIFAR-10 data loading and processing__\n",
        "\n",
        "Loading and preparation of the CIFAR-10 training set."
      ]
    },
    {
      "cell_type": "code",
      "execution_count": 4,
      "metadata": {
        "colab": {
          "base_uri": "https://localhost:8080/"
        },
        "id": "uVzGwn80Ipjm",
        "outputId": "980b08e0-62b8-447d-f1c7-742438c21406"
      },
      "outputs": [
        {
          "output_type": "stream",
          "name": "stdout",
          "text": [
            "Downloading data from https://www.cs.toronto.edu/~kriz/cifar-10-python.tar.gz\n",
            "170498071/170498071 [==============================] - 2s 0us/step\n",
            "input_X_train shape: (50000, 32, 32, 3)\n",
            "50000 train samples\n",
            "10000 test samples\n"
          ]
        }
      ],
      "source": [
        "#load dataset\n",
        "(input_X_train, output_y_train), (input_X_test, output_y_test) = cifar10.load_data()\n",
        "print('input_X_train shape:', input_X_train.shape)\n",
        "print(input_X_train.shape[0], 'train samples')\n",
        "print(input_X_test.shape[0], 'test samples')\n",
        "\n",
        "# convert to categorical\n",
        "output_Y_train = utils.to_categorical(output_y_train, N_CLASSES)\n",
        "output_Y_test = utils.to_categorical(output_y_test, N_CLASSES)\n",
        "\n",
        "# float and normalization\n",
        "input_X_train = input_X_train.astype('float32')\n",
        "input_X_test = input_X_test.astype('float32')\n",
        "input_X_train /= 255\n",
        "input_X_test /= 255\n"
      ]
    },
    {
      "cell_type": "markdown",
      "metadata": {
        "id": "f6_L0SrmIpjr"
      },
      "source": [
        "**Visualisation of two sample CIFAR-10 images**\n",
        "\n",
        "Here we will visualise two sample images from the dataset."
      ]
    },
    {
      "cell_type": "code",
      "execution_count": 5,
      "metadata": {
        "colab": {
          "base_uri": "https://localhost:8080/",
          "height": 1000
        },
        "id": "U2gu1BhgIpjs",
        "outputId": "ab7896fd-5bf0-4464-d259-a58b04c65e9b"
      },
      "outputs": [
        {
          "output_type": "stream",
          "name": "stdout",
          "text": [
            "Sample input image: [[[1.         1.         1.        ]\n",
            "  [0.99215686 0.99215686 0.99215686]\n",
            "  [0.99215686 0.99215686 0.99215686]\n",
            "  ...\n",
            "  [0.99215686 0.99215686 0.99215686]\n",
            "  [0.99215686 0.99215686 0.99215686]\n",
            "  [0.99215686 0.99215686 0.99215686]]\n",
            "\n",
            " [[1.         1.         1.        ]\n",
            "  [1.         1.         1.        ]\n",
            "  [1.         1.         1.        ]\n",
            "  ...\n",
            "  [1.         1.         1.        ]\n",
            "  [1.         1.         1.        ]\n",
            "  [1.         1.         1.        ]]\n",
            "\n",
            " [[1.         1.         1.        ]\n",
            "  [0.99607843 0.99607843 0.99607843]\n",
            "  [0.99607843 0.99607843 0.99607843]\n",
            "  ...\n",
            "  [0.99607843 0.99607843 0.99607843]\n",
            "  [0.99607843 0.99607843 0.99607843]\n",
            "  [0.99607843 0.99607843 0.99607843]]\n",
            "\n",
            " ...\n",
            "\n",
            " [[0.44313726 0.47058824 0.4392157 ]\n",
            "  [0.43529412 0.4627451  0.43529412]\n",
            "  [0.4117647  0.4392157  0.41568628]\n",
            "  ...\n",
            "  [0.28235295 0.31764707 0.3137255 ]\n",
            "  [0.28235295 0.3137255  0.30980393]\n",
            "  [0.28235295 0.3137255  0.30980393]]\n",
            "\n",
            " [[0.43529412 0.4627451  0.43137255]\n",
            "  [0.40784314 0.43529412 0.40784314]\n",
            "  [0.3882353  0.41568628 0.38431373]\n",
            "  ...\n",
            "  [0.26666668 0.29411766 0.28627452]\n",
            "  [0.27450982 0.29803923 0.29411766]\n",
            "  [0.30588236 0.32941177 0.32156864]]\n",
            "\n",
            " [[0.41568628 0.44313726 0.4117647 ]\n",
            "  [0.3882353  0.41568628 0.38431373]\n",
            "  [0.37254903 0.4        0.36862746]\n",
            "  ...\n",
            "  [0.30588236 0.33333334 0.3254902 ]\n",
            "  [0.30980393 0.33333334 0.3254902 ]\n",
            "  [0.3137255  0.3372549  0.32941177]]]\n"
          ]
        },
        {
          "output_type": "display_data",
          "data": {
            "text/plain": [
              "<Figure size 640x480 with 1 Axes>"
            ],
            "image/png": "[encoded data removed]"
          },
          "metadata": {}
        },
        {
          "output_type": "stream",
          "name": "stdout",
          "text": [
            "Sample input image: [[[0.10980392 0.09803922 0.03921569]\n",
            "  [0.14509805 0.13333334 0.07450981]\n",
            "  [0.14901961 0.13725491 0.07843138]\n",
            "  ...\n",
            "  [0.29803923 0.2627451  0.15294118]\n",
            "  [0.31764707 0.28235295 0.16862746]\n",
            "  [0.33333334 0.29803923 0.18431373]]\n",
            "\n",
            " [[0.12941177 0.10980392 0.05098039]\n",
            "  [0.13333334 0.11764706 0.05490196]\n",
            "  [0.1254902  0.10588235 0.04705882]\n",
            "  ...\n",
            "  [0.37254903 0.32156864 0.21568628]\n",
            "  [0.3764706  0.32156864 0.21960784]\n",
            "  [0.33333334 0.28235295 0.1764706 ]]\n",
            "\n",
            " [[0.15294118 0.1254902  0.05882353]\n",
            "  [0.15686275 0.12941177 0.06666667]\n",
            "  [0.22352941 0.19607843 0.12941177]\n",
            "  ...\n",
            "  [0.3647059  0.29803923 0.20392157]\n",
            "  [0.41960785 0.34901962 0.25882354]\n",
            "  [0.37254903 0.3019608  0.21176471]]\n",
            "\n",
            " ...\n",
            "\n",
            " [[0.3254902  0.28627452 0.20392157]\n",
            "  [0.34117648 0.3019608  0.21960784]\n",
            "  [0.32941177 0.2901961  0.20392157]\n",
            "  ...\n",
            "  [0.3882353  0.3647059  0.27450982]\n",
            "  [0.3529412  0.32941177 0.23921569]\n",
            "  [0.31764707 0.29411766 0.20392157]]\n",
            "\n",
            " [[0.34509805 0.28235295 0.2       ]\n",
            "  [0.3529412  0.2901961  0.20392157]\n",
            "  [0.3647059  0.3019608  0.21960784]\n",
            "  ...\n",
            "  [0.3137255  0.2901961  0.20784314]\n",
            "  [0.29803923 0.27450982 0.19215687]\n",
            "  [0.32156864 0.29803923 0.21568628]]\n",
            "\n",
            " [[0.38039216 0.30588236 0.21960784]\n",
            "  [0.36862746 0.29411766 0.20784314]\n",
            "  [0.3647059  0.29411766 0.20784314]\n",
            "  ...\n",
            "  [0.21176471 0.18431373 0.10980392]\n",
            "  [0.24705882 0.21960784 0.14509805]\n",
            "  [0.28235295 0.25490198 0.18039216]]]\n"
          ]
        },
        {
          "output_type": "display_data",
          "data": {
            "text/plain": [
              "<Figure size 640x480 with 1 Axes>"
            ],
            "image/png": "[encoded data removed]"
          },
          "metadata": {}
        }
      ],
      "source": [
        "# visualisation of the numerical vector and 2D colour plot of the sample CIFAR imnage 2\n",
        "Selected_Image = 2\n",
        "image = input_X_train[Selected_Image]\n",
        "print (\"Sample input image: \" + str(image))\n",
        "plt.imshow(image)\n",
        "plt.show()\n",
        "\n",
        "Selected_Image = 3\n",
        "image = input_X_train[Selected_Image]\n",
        "print (\"Sample input image: \" + str(image))\n",
        "plt.imshow(image)\n",
        "plt.show()\n",
        "\n",
        "\n",
        "\n"
      ]
    },
    {
      "cell_type": "markdown",
      "metadata": {
        "id": "rTUkz65eIpjx"
      },
      "source": [
        "**Simple CNN model definition**\n",
        "\n",
        "This code defines a simple CNN network.\n",
        "The model will learn 32 convolutional filters, each of a 3 x 3 size. The output dimension is the same one of the input shape, with a 32 x 32 filters (default stride of 1 is used). The activation function ReLU will be used.\n",
        "The network then has a max-pooling layer with pool size 2 x 2, and a dropout at 25%.\n",
        "\n",
        "The next level of depth has a dense layer with 512 units and ReLU activation, followed by a dropout at 50%.\n",
        "Finally, a softmax layer is used with 10 units/classes as output, i.e. one for each of the 10 classes of objects encoded with one-hot coding."
      ]
    },
    {
      "cell_type": "code",
      "execution_count": 6,
      "metadata": {
        "colab": {
          "base_uri": "https://localhost:8080/"
        },
        "id": "ZAWZ0UKzIpjz",
        "outputId": "f07a6450-9b04-4cd0-d8f5-ee715eb05b11"
      },
      "outputs": [
        {
          "output_type": "stream",
          "name": "stdout",
          "text": [
            "CNN network definition.\n"
          ]
        }
      ],
      "source": [
        "# network definition\n",
        "\n",
        "model = Sequential()\n",
        "model.add(Conv2D(32, (3, 3), padding='same', input_shape=(IMG_ROWS, IMG_COLS, IMG_CHANNELS)))\n",
        "model.add(Activation('relu'))\n",
        "model.add(MaxPooling2D(pool_size=(2, 2)))\n",
        "model.add(Dropout(0.25))\n",
        "\n",
        "model.add(Flatten())\n",
        "model.add(Dense(512))\n",
        "model.add(Activation('relu'))\n",
        "model.add(Dropout(0.5))\n",
        "\n",
        "model.add(Dense(N_CLASSES))\n",
        "model.add(Activation('softmax'))\n",
        "\n",
        "print('CNN network definition.')"
      ]
    },
    {
      "cell_type": "markdown",
      "metadata": {
        "id": "M8B4dEyVIpj2"
      },
      "source": [
        "**Model compilation**\n",
        "\n",
        "This compiles the CNN model, and then shows its summary.\n"
      ]
    },
    {
      "cell_type": "code",
      "execution_count": 7,
      "metadata": {
        "colab": {
          "base_uri": "https://localhost:8080/"
        },
        "id": "rLrhT0HSIpj4",
        "outputId": "64692a51-3d2d-4c5a-b495-d173c66c6cfa",
        "scrolled": true
      },
      "outputs": [
        {
          "output_type": "stream",
          "name": "stdout",
          "text": [
            "Model: \"sequential\"\n",
            "_________________________________________________________________\n",
            " Layer (type)                Output Shape              Param #   \n",
            "=================================================================\n",
            " conv2d (Conv2D)             (None, 32, 32, 32)        896       \n",
            "                                                                 \n",
            " activation (Activation)     (None, 32, 32, 32)        0         \n",
            "                                                                 \n",
            " max_pooling2d (MaxPooling2  (None, 16, 16, 32)        0         \n",
            " D)                                                              \n",
            "                                                                 \n",
            " dropout (Dropout)           (None, 16, 16, 32)        0         \n",
            "                                                                 \n",
            " flatten (Flatten)           (None, 8192)              0         \n",
            "                                                                 \n",
            " dense (Dense)               (None, 512)               4194816   \n",
            "                                                                 \n",
            " activation_1 (Activation)   (None, 512)               0         \n",
            "                                                                 \n",
            " dropout_1 (Dropout)         (None, 512)               0         \n",
            "                                                                 \n",
            " dense_1 (Dense)             (None, 10)                5130      \n",
            "                                                                 \n",
            " activation_2 (Activation)   (None, 10)                0         \n",
            "                                                                 \n",
            "=================================================================\n",
            "Total params: 4200842 (16.02 MB)\n",
            "Trainable params: 4200842 (16.02 MB)\n",
            "Non-trainable params: 0 (0.00 Byte)\n",
            "_________________________________________________________________\n"
          ]
        }
      ],
      "source": [
        "# compile the model\n",
        "model.compile(loss='categorical_crossentropy', optimizer=OPTIM, metrics=['accuracy'])\n",
        "\n",
        "model.summary()\n"
      ]
    },
    {
      "cell_type": "markdown",
      "metadata": {
        "id": "rAJPemJyIpj9"
      },
      "source": [
        "**Training of the CNN**\n",
        "\n",
        "This line of code trains the model, saving the results in the history variable.\n",
        "\n"
      ]
    },
    {
      "cell_type": "code",
      "execution_count": 8,
      "metadata": {
        "colab": {
          "base_uri": "https://localhost:8080/"
        },
        "id": "s9K5fqdXIpj-",
        "outputId": "dd2572a9-0665-44ea-b1f3-8302c12a4975"
      },
      "outputs": [
        {
          "output_type": "stream",
          "name": "stdout",
          "text": [
            "Epoch 1/20\n",
            "313/313 [==============================] - 9s 14ms/step - loss: 1.7838 - accuracy: 0.3786 - val_loss: 1.4576 - val_accuracy: 0.4608\n",
            "Epoch 2/20\n",
            "313/313 [==============================] - 3s 9ms/step - loss: 1.3837 - accuracy: 0.5074 - val_loss: 1.3704 - val_accuracy: 0.5092\n",
            "Epoch 3/20\n",
            "313/313 [==============================] - 3s 9ms/step - loss: 1.2579 - accuracy: 0.5554 - val_loss: 1.2390 - val_accuracy: 0.5653\n",
            "Epoch 4/20\n",
            "313/313 [==============================] - 3s 9ms/step - loss: 1.1771 - accuracy: 0.5825 - val_loss: 1.1473 - val_accuracy: 0.6007\n",
            "Epoch 5/20\n",
            "313/313 [==============================] - 3s 10ms/step - loss: 1.1092 - accuracy: 0.6080 - val_loss: 1.1269 - val_accuracy: 0.6043\n",
            "Epoch 6/20\n",
            "313/313 [==============================] - 3s 9ms/step - loss: 1.0531 - accuracy: 0.6290 - val_loss: 1.0790 - val_accuracy: 0.6200\n",
            "Epoch 7/20\n",
            "313/313 [==============================] - 3s 9ms/step - loss: 1.0014 - accuracy: 0.6491 - val_loss: 1.0292 - val_accuracy: 0.6438\n",
            "Epoch 8/20\n",
            "313/313 [==============================] - 3s 9ms/step - loss: 0.9608 - accuracy: 0.6642 - val_loss: 1.0547 - val_accuracy: 0.6342\n",
            "Epoch 9/20\n",
            "313/313 [==============================] - 3s 10ms/step - loss: 0.9201 - accuracy: 0.6777 - val_loss: 1.0372 - val_accuracy: 0.6406\n",
            "Epoch 10/20\n",
            "313/313 [==============================] - 3s 9ms/step - loss: 0.8858 - accuracy: 0.6912 - val_loss: 1.0348 - val_accuracy: 0.6446\n",
            "Epoch 11/20\n",
            "313/313 [==============================] - 3s 9ms/step - loss: 0.8526 - accuracy: 0.7022 - val_loss: 1.0200 - val_accuracy: 0.6518\n",
            "Epoch 12/20\n",
            "313/313 [==============================] - 3s 9ms/step - loss: 0.8156 - accuracy: 0.7177 - val_loss: 1.0080 - val_accuracy: 0.6635\n",
            "Epoch 13/20\n",
            "313/313 [==============================] - 3s 9ms/step - loss: 0.7883 - accuracy: 0.7262 - val_loss: 1.0152 - val_accuracy: 0.6642\n",
            "Epoch 14/20\n",
            "313/313 [==============================] - 3s 10ms/step - loss: 0.7619 - accuracy: 0.7372 - val_loss: 1.0920 - val_accuracy: 0.6434\n",
            "Epoch 15/20\n",
            "313/313 [==============================] - 3s 9ms/step - loss: 0.7450 - accuracy: 0.7408 - val_loss: 1.0159 - val_accuracy: 0.6624\n",
            "Epoch 16/20\n",
            "313/313 [==============================] - 3s 9ms/step - loss: 0.7122 - accuracy: 0.7525 - val_loss: 1.0308 - val_accuracy: 0.6640\n",
            "Epoch 17/20\n",
            "313/313 [==============================] - 3s 9ms/step - loss: 0.6956 - accuracy: 0.7574 - val_loss: 1.0447 - val_accuracy: 0.6658\n",
            "Epoch 18/20\n",
            "313/313 [==============================] - 3s 10ms/step - loss: 0.6721 - accuracy: 0.7646 - val_loss: 1.0322 - val_accuracy: 0.6737\n",
            "Epoch 19/20\n",
            "313/313 [==============================] - 3s 9ms/step - loss: 0.6598 - accuracy: 0.7714 - val_loss: 1.0553 - val_accuracy: 0.6701\n",
            "Epoch 20/20\n",
            "313/313 [==============================] - 3s 9ms/step - loss: 0.6389 - accuracy: 0.7818 - val_loss: 1.0956 - val_accuracy: 0.6593\n"
          ]
        }
      ],
      "source": [
        "# training/fitting of the DNN model\n",
        "\n",
        "history = model.fit(input_X_train, output_Y_train, batch_size=BATCH_SIZE, epochs=N_EPOCH, validation_split=VALIDATION_SPLIT,  verbose=VERBOSE)\n"
      ]
    },
    {
      "cell_type": "markdown",
      "metadata": {
        "id": "7-kbN3RlIpkD"
      },
      "source": [
        "**Saving of the model and of the trained weights**\n",
        "\n",
        "This saves the model definition and the weights, after training.\n",
        "\n"
      ]
    },
    {
      "cell_type": "code",
      "execution_count": 9,
      "metadata": {
        "colab": {
          "base_uri": "https://localhost:8080/"
        },
        "id": "Z57S_sTRIpkF",
        "outputId": "c0a2e44a-274d-48a2-bfbf-4850aebbc699"
      },
      "outputs": [
        {
          "output_type": "stream",
          "name": "stdout",
          "text": [
            "Files saved for model definition and for weights.\n"
          ]
        }
      ],
      "source": [
        "#save model in json format into a file\n",
        "model_json = model.to_json()\n",
        "open('cifar10_architecture.json', 'w').write(model_json)\n",
        "\n",
        "#save the trained weights\n",
        "model.save_weights('cifar10_weights.h5', overwrite=True)\n",
        "\n",
        "print('Files saved for model definition and for weights.')"
      ]
    },
    {
      "cell_type": "markdown",
      "metadata": {
        "id": "7GvXVkx1IpkJ"
      },
      "source": [
        "**Analysis of the results**\n",
        "\n",
        "This code generates the test scores, so we can visualise and inspect the model's peformance.\n",
        "\n",
        "It also plots the accuracy and loss values along the training timescale.\n"
      ]
    },
    {
      "cell_type": "code",
      "execution_count": 10,
      "metadata": {
        "colab": {
          "base_uri": "https://localhost:8080/",
          "height": 1000
        },
        "id": "N2XtixmtIpkL",
        "outputId": "b0f17bf9-8895-45aa-e1e9-fc3c6c31af3d"
      },
      "outputs": [
        {
          "output_type": "stream",
          "name": "stdout",
          "text": [
            "79/79 [==============================] - 0s 5ms/step - loss: 1.1090 - accuracy: 0.6603\n",
            "\n",
            "Test score/loss: 1.1090229749679565\n",
            "Test accuracy: 0.6603000164031982\n",
            "dict_keys(['loss', 'accuracy', 'val_loss', 'val_accuracy'])\n"
          ]
        },
        {
          "output_type": "display_data",
          "data": {
            "text/plain": [
              "<Figure size 640x480 with 1 Axes>"
            ],
            "image/png": "[encoded data removed]"
          },
          "metadata": {}
        },
        {
          "output_type": "display_data",
          "data": {
            "text/plain": [
              "<Figure size 640x480 with 1 Axes>"
            ],
            "image/png": "[encoded data removed]"
          },
          "metadata": {}
        }
      ],
      "source": [
        "#Testing\n",
        "score = model.evaluate(input_X_test, output_Y_test, batch_size=BATCH_SIZE, verbose=VERBOSE)\n",
        "print(\"\\nTest score/loss:\", score[0])\n",
        "print('Test accuracy:', score[1])\n",
        "\n",
        "# list all data in history\n",
        "print(history.history.keys())\n",
        "\n",
        "# summarize history for accuracy\n",
        "#plt.plot(mo)\n",
        "plt.plot(history.history['accuracy'])\n",
        "plt.plot(history.history['val_accuracy'])\n",
        "plt.title('model accuracy')\n",
        "plt.ylabel('accuracy')\n",
        "plt.xlabel('epoch')\n",
        "plt.legend(['train', 'test'], loc='upper left')\n",
        "plt.show()\n",
        "\n",
        "# summarize history for loss\n",
        "plt.plot(history.history['loss'])\n",
        "plt.plot(history.history['val_loss'])\n",
        "plt.title('model loss')\n",
        "plt.ylabel('loss')\n",
        "plt.xlabel('epoch')\n",
        "plt.legend(['train', 'test'], loc='upper left')\n",
        "plt.show()\n"
      ]
    },
    {
      "cell_type": "markdown",
      "metadata": {
        "id": "1o9i5nqDIpkO"
      },
      "source": [
        "A deeper CNN\n",
        "-------------\n",
        "\n",
        "To improve the performance of the network on the CIFAR-10 dataset, it is possible to use a deeper CNN, with a chain of multiple convolution and pooling layers.\n",
        "The following network will be used:\n",
        "\n",
        "conv+conv+maxpool+dropout+conv+conv+maxpool\n",
        "\n",
        "The final classification layers will use the standard:\n",
        "\n",
        "dense+dropout+dense\n",
        "\n",
        "All the layers will use the reLu function, except the final one with the Softmax function necessary for the categorical classification\n"
      ]
    },
    {
      "cell_type": "code",
      "execution_count": 11,
      "metadata": {
        "colab": {
          "base_uri": "https://localhost:8080/"
        },
        "id": "VmaK6n4AIpkP",
        "outputId": "3e3140ef-487a-4c03-9104-8bb1855f2131"
      },
      "outputs": [
        {
          "output_type": "stream",
          "name": "stdout",
          "text": [
            "Model: \"sequential_1\"\n",
            "_________________________________________________________________\n",
            " Layer (type)                Output Shape              Param #   \n",
            "=================================================================\n",
            " conv2d_1 (Conv2D)           (None, 32, 32, 32)        896       \n",
            "                                                                 \n",
            " activation_3 (Activation)   (None, 32, 32, 32)        0         \n",
            "                                                                 \n",
            " conv2d_2 (Conv2D)           (None, 32, 32, 32)        9248      \n",
            "                                                                 \n",
            " activation_4 (Activation)   (None, 32, 32, 32)        0         \n",
            "                                                                 \n",
            " max_pooling2d_1 (MaxPoolin  (None, 16, 16, 32)        0         \n",
            " g2D)                                                            \n",
            "                                                                 \n",
            " dropout_2 (Dropout)         (None, 16, 16, 32)        0         \n",
            "                                                                 \n",
            " conv2d_3 (Conv2D)           (None, 16, 16, 64)        18496     \n",
            "                                                                 \n",
            " activation_5 (Activation)   (None, 16, 16, 64)        0         \n",
            "                                                                 \n",
            " conv2d_4 (Conv2D)           (None, 5, 5, 64)          36928     \n",
            "                                                                 \n",
            " activation_6 (Activation)   (None, 5, 5, 64)          0         \n",
            "                                                                 \n",
            " max_pooling2d_2 (MaxPoolin  (None, 2, 2, 64)          0         \n",
            " g2D)                                                            \n",
            "                                                                 \n",
            " dropout_3 (Dropout)         (None, 2, 2, 64)          0         \n",
            "                                                                 \n",
            " flatten_1 (Flatten)         (None, 256)               0         \n",
            "                                                                 \n",
            " dense_2 (Dense)             (None, 512)               131584    \n",
            "                                                                 \n",
            " activation_7 (Activation)   (None, 512)               0         \n",
            "                                                                 \n",
            " dropout_4 (Dropout)         (None, 512)               0         \n",
            "                                                                 \n",
            " dense_3 (Dense)             (None, 10)                5130      \n",
            "                                                                 \n",
            " activation_8 (Activation)   (None, 10)                0         \n",
            "                                                                 \n",
            "=================================================================\n",
            "Total params: 202282 (790.16 KB)\n",
            "Trainable params: 202282 (790.16 KB)\n",
            "Non-trainable params: 0 (0.00 Byte)\n",
            "_________________________________________________________________\n"
          ]
        }
      ],
      "source": [
        "# REUSE THE SAME INITIALISATION CODE AND THE TRAINING AND TEST DATA SET LOADING OPERATION\n",
        "\n",
        "N_EPOCH = 40 # 40 bigger network will benefit from extra training epochs\n",
        "\n",
        "# Complex DNN model definition\n",
        "model = Sequential()\n",
        "\n",
        "model.add(Conv2D(32, kernel_size=3, padding='same', input_shape=(IMG_ROWS, IMG_COLS, IMG_CHANNELS)))\n",
        "model.add(Activation('relu'))\n",
        "model.add(Conv2D(32, kernel_size=3, padding='same'))\n",
        "model.add(Activation('relu'))\n",
        "model.add(MaxPooling2D(pool_size=(2, 2)))\n",
        "model.add(Dropout(0.25))\n",
        "\n",
        "model.add(Conv2D(64, kernel_size=3, padding='same'))\n",
        "model.add(Activation('relu'))\n",
        "model.add(Conv2D(64, 3, 3))\n",
        "model.add(Activation('relu'))\n",
        "model.add(MaxPooling2D(pool_size=(2, 2)))\n",
        "model.add(Dropout(0.25))\n",
        "\n",
        "model.add(Flatten())\n",
        "model.add(Dense(512))\n",
        "model.add(Activation('relu'))\n",
        "model.add(Dropout(0.5))\n",
        "model.add(Dense(N_CLASSES))\n",
        "model.add(Activation('softmax'))\n",
        "\n",
        "\n",
        "#optim = SGD(lr=0.01, decay=1e-6, momentum=0.9, nesterov=True)\n",
        "model.compile(loss='categorical_crossentropy', optimizer=OPTIM, metrics=['accuracy'])\n",
        "\n",
        "model.summary()\n",
        "\n"
      ]
    },
    {
      "cell_type": "markdown",
      "metadata": {
        "id": "N_WU_cUNkmr-"
      },
      "source": [
        "**Training of the deeper CNN**\n",
        "\n",
        "Let's train (fit) this new model.\n",
        "\n"
      ]
    },
    {
      "cell_type": "code",
      "execution_count": 12,
      "metadata": {
        "colab": {
          "base_uri": "https://localhost:8080/"
        },
        "id": "ctRJSHkVkmr_",
        "outputId": "6eeee32e-0d8a-485d-ec53-f50246bd709f"
      },
      "outputs": [
        {
          "output_type": "stream",
          "name": "stdout",
          "text": [
            "Epoch 1/40\n",
            "313/313 [==============================] - 8s 17ms/step - loss: 1.9619 - accuracy: 0.2700 - val_loss: 1.9614 - val_accuracy: 0.3189\n",
            "Epoch 2/40\n",
            "313/313 [==============================] - 4s 13ms/step - loss: 1.6496 - accuracy: 0.3940 - val_loss: 1.5697 - val_accuracy: 0.4279\n",
            "Epoch 3/40\n",
            "313/313 [==============================] - 4s 14ms/step - loss: 1.4919 - accuracy: 0.4560 - val_loss: 1.3203 - val_accuracy: 0.5220\n",
            "Epoch 4/40\n",
            "313/313 [==============================] - 4s 13ms/step - loss: 1.3881 - accuracy: 0.5010 - val_loss: 1.2846 - val_accuracy: 0.5355\n",
            "Epoch 5/40\n",
            "313/313 [==============================] - 4s 14ms/step - loss: 1.3012 - accuracy: 0.5312 - val_loss: 1.2943 - val_accuracy: 0.5382\n",
            "Epoch 6/40\n",
            "313/313 [==============================] - 4s 14ms/step - loss: 1.2349 - accuracy: 0.5591 - val_loss: 1.1632 - val_accuracy: 0.5869\n",
            "Epoch 7/40\n",
            "313/313 [==============================] - 4s 13ms/step - loss: 1.1746 - accuracy: 0.5842 - val_loss: 1.0898 - val_accuracy: 0.6143\n",
            "Epoch 8/40\n",
            "313/313 [==============================] - 5s 14ms/step - loss: 1.1238 - accuracy: 0.6043 - val_loss: 1.0869 - val_accuracy: 0.6116\n",
            "Epoch 9/40\n",
            "313/313 [==============================] - 4s 13ms/step - loss: 1.0811 - accuracy: 0.6177 - val_loss: 1.1427 - val_accuracy: 0.5916\n",
            "Epoch 10/40\n",
            "313/313 [==============================] - 4s 13ms/step - loss: 1.0444 - accuracy: 0.6327 - val_loss: 0.9466 - val_accuracy: 0.6657\n",
            "Epoch 11/40\n",
            "313/313 [==============================] - 5s 15ms/step - loss: 1.0120 - accuracy: 0.6424 - val_loss: 0.9517 - val_accuracy: 0.6629\n",
            "Epoch 12/40\n",
            "313/313 [==============================] - 4s 13ms/step - loss: 0.9876 - accuracy: 0.6547 - val_loss: 0.8891 - val_accuracy: 0.6892\n",
            "Epoch 13/40\n",
            "313/313 [==============================] - 4s 13ms/step - loss: 0.9620 - accuracy: 0.6614 - val_loss: 0.9335 - val_accuracy: 0.6722\n",
            "Epoch 14/40\n",
            "313/313 [==============================] - 5s 15ms/step - loss: 0.9322 - accuracy: 0.6734 - val_loss: 0.9413 - val_accuracy: 0.6716\n",
            "Epoch 15/40\n",
            "313/313 [==============================] - 4s 13ms/step - loss: 0.9234 - accuracy: 0.6787 - val_loss: 0.8931 - val_accuracy: 0.6890\n",
            "Epoch 16/40\n",
            "313/313 [==============================] - 4s 13ms/step - loss: 0.8989 - accuracy: 0.6834 - val_loss: 0.9576 - val_accuracy: 0.6588\n",
            "Epoch 17/40\n",
            "313/313 [==============================] - 5s 15ms/step - loss: 0.8824 - accuracy: 0.6910 - val_loss: 0.9216 - val_accuracy: 0.6791\n",
            "Epoch 18/40\n",
            "313/313 [==============================] - 4s 13ms/step - loss: 0.8732 - accuracy: 0.6950 - val_loss: 0.8949 - val_accuracy: 0.6844\n",
            "Epoch 19/40\n",
            "313/313 [==============================] - 4s 13ms/step - loss: 0.8545 - accuracy: 0.7000 - val_loss: 0.8048 - val_accuracy: 0.7194\n",
            "Epoch 20/40\n",
            "313/313 [==============================] - 5s 15ms/step - loss: 0.8449 - accuracy: 0.7055 - val_loss: 0.8848 - val_accuracy: 0.6903\n",
            "Epoch 21/40\n",
            "313/313 [==============================] - 4s 14ms/step - loss: 0.8312 - accuracy: 0.7072 - val_loss: 0.8248 - val_accuracy: 0.7067\n",
            "Epoch 22/40\n",
            "313/313 [==============================] - 4s 13ms/step - loss: 0.8227 - accuracy: 0.7136 - val_loss: 0.8509 - val_accuracy: 0.7026\n",
            "Epoch 23/40\n",
            "313/313 [==============================] - 5s 15ms/step - loss: 0.8167 - accuracy: 0.7150 - val_loss: 0.8346 - val_accuracy: 0.7008\n",
            "Epoch 24/40\n",
            "313/313 [==============================] - 4s 13ms/step - loss: 0.8030 - accuracy: 0.7197 - val_loss: 0.8042 - val_accuracy: 0.7210\n",
            "Epoch 25/40\n",
            "313/313 [==============================] - 4s 14ms/step - loss: 0.7997 - accuracy: 0.7193 - val_loss: 0.8502 - val_accuracy: 0.7056\n",
            "Epoch 26/40\n",
            "313/313 [==============================] - 4s 14ms/step - loss: 0.7926 - accuracy: 0.7239 - val_loss: 0.8629 - val_accuracy: 0.7014\n",
            "Epoch 27/40\n",
            "313/313 [==============================] - 4s 13ms/step - loss: 0.7843 - accuracy: 0.7261 - val_loss: 0.9113 - val_accuracy: 0.6909\n",
            "Epoch 28/40\n",
            "313/313 [==============================] - 4s 14ms/step - loss: 0.7775 - accuracy: 0.7264 - val_loss: 0.8758 - val_accuracy: 0.6957\n",
            "Epoch 29/40\n",
            "313/313 [==============================] - 4s 13ms/step - loss: 0.7659 - accuracy: 0.7325 - val_loss: 0.8162 - val_accuracy: 0.7221\n",
            "Epoch 30/40\n",
            "313/313 [==============================] - 4s 13ms/step - loss: 0.7606 - accuracy: 0.7332 - val_loss: 0.7951 - val_accuracy: 0.7240\n",
            "Epoch 31/40\n",
            "313/313 [==============================] - 4s 13ms/step - loss: 0.7613 - accuracy: 0.7352 - val_loss: 0.8775 - val_accuracy: 0.7029\n",
            "Epoch 32/40\n",
            "313/313 [==============================] - 4s 14ms/step - loss: 0.7521 - accuracy: 0.7368 - val_loss: 0.7717 - val_accuracy: 0.7281\n",
            "Epoch 33/40\n",
            "313/313 [==============================] - 4s 13ms/step - loss: 0.7536 - accuracy: 0.7379 - val_loss: 0.7779 - val_accuracy: 0.7355\n",
            "Epoch 34/40\n",
            "313/313 [==============================] - 5s 14ms/step - loss: 0.7433 - accuracy: 0.7412 - val_loss: 0.8204 - val_accuracy: 0.7221\n",
            "Epoch 35/40\n",
            "313/313 [==============================] - 4s 13ms/step - loss: 0.7420 - accuracy: 0.7423 - val_loss: 0.7811 - val_accuracy: 0.7315\n",
            "Epoch 36/40\n",
            "313/313 [==============================] - 4s 12ms/step - loss: 0.7344 - accuracy: 0.7438 - val_loss: 0.8033 - val_accuracy: 0.7346\n",
            "Epoch 37/40\n",
            "313/313 [==============================] - 4s 13ms/step - loss: 0.7311 - accuracy: 0.7443 - val_loss: 0.7961 - val_accuracy: 0.7363\n",
            "Epoch 38/40\n",
            "313/313 [==============================] - 4s 12ms/step - loss: 0.7318 - accuracy: 0.7452 - val_loss: 0.8257 - val_accuracy: 0.7230\n",
            "Epoch 39/40\n",
            "313/313 [==============================] - 4s 12ms/step - loss: 0.7327 - accuracy: 0.7463 - val_loss: 0.8413 - val_accuracy: 0.7200\n",
            "Epoch 40/40\n",
            "313/313 [==============================] - 4s 14ms/step - loss: 0.7270 - accuracy: 0.7479 - val_loss: 0.8254 - val_accuracy: 0.7226\n"
          ]
        }
      ],
      "source": [
        "# training/fitting of the complex DNN model\n",
        "history = model.fit(input_X_train, output_Y_train, batch_size=BATCH_SIZE, epochs=N_EPOCH, validation_split=VALIDATION_SPLIT,  verbose=VERBOSE)\n"
      ]
    },
    {
      "cell_type": "markdown",
      "metadata": {
        "id": "hhkax6pXIpkT"
      },
      "source": [
        "**Analysis of the Deeper CNN results**\n",
        "\n",
        "This generates the test scores and plots for the new, deeper DNN.\n"
      ]
    },
    {
      "cell_type": "code",
      "execution_count": 13,
      "metadata": {
        "colab": {
          "base_uri": "https://localhost:8080/",
          "height": 1000
        },
        "id": "FfRvK-lUIpkU",
        "outputId": "42c43ea7-bdcc-4d6c-95ae-4114c34af17f"
      },
      "outputs": [
        {
          "output_type": "stream",
          "name": "stdout",
          "text": [
            "79/79 [==============================] - 0s 6ms/step - loss: 0.8271 - accuracy: 0.7203\n",
            "\n",
            "Test score/loss: 0.8270904421806335\n",
            "Test accuracy: 0.720300018787384\n",
            "dict_keys(['loss', 'accuracy', 'val_loss', 'val_accuracy'])\n"
          ]
        },
        {
          "output_type": "display_data",
          "data": {
            "text/plain": [
              "<Figure size 640x480 with 1 Axes>"
            ],
            "image/png": "[encoded data removed]"
          },
          "metadata": {}
        },
        {
          "output_type": "display_data",
          "data": {
            "text/plain": [
              "<Figure size 640x480 with 1 Axes>"
            ],
            "image/png": "[encoded data removed]"
          },
          "metadata": {}
        }
      ],
      "source": [
        "#Testing\n",
        "score = model.evaluate(input_X_test, output_Y_test, batch_size=BATCH_SIZE, verbose=VERBOSE)\n",
        "print(\"\\nTest score/loss:\", score[0])\n",
        "print('Test accuracy:', score[1])\n",
        "\n",
        "# list all data in history\n",
        "print(history.history.keys())\n",
        "\n",
        "# summarize history for accuracy\n",
        "#plt.plot(mo)\n",
        "plt.plot(history.history['accuracy'])\n",
        "plt.plot(history.history['val_accuracy'])\n",
        "plt.title('model accuracy')\n",
        "plt.ylabel('accuracy')\n",
        "plt.xlabel('epoch')\n",
        "plt.legend(['train', 'test'], loc='upper left')\n",
        "plt.show()\n",
        "\n",
        "# summarize history for loss\n",
        "plt.plot(history.history['loss'])\n",
        "plt.plot(history.history['val_loss'])\n",
        "plt.title('model loss')\n",
        "plt.ylabel('loss')\n",
        "plt.xlabel('epoch')\n",
        "plt.legend(['train', 'test'], loc='upper left')\n",
        "plt.show()"
      ]
    },
    {
      "cell_type": "markdown",
      "metadata": {
        "id": "v-Mzs-L7IpkZ"
      },
      "source": [
        "Data Augmentation\n",
        "-------------\n",
        "\n",
        "To further improve the performance of the model, it is advisable to use a larger training set, to expose the network to more variations of the images.\n",
        "One way to achieve this, without having to collect new images from the real world, is to __augment__ the existing images with multiple types of transformations of the dataset stimuli. This can include rotation of the image, rescaling, horizontal/vertical flip, zooming, channel shift, etc.\n",
        "\n",
        "Below is an example of the code that augments the current datase.\n",
        "\n",
        "\n"
      ]
    },
    {
      "cell_type": "code",
      "execution_count": 14,
      "metadata": {
        "colab": {
          "base_uri": "https://localhost:8080/"
        },
        "id": "-85_nYLXIpkZ",
        "outputId": "75feb069-529f-4af4-883c-8a163fdd7f0a"
      },
      "outputs": [
        {
          "output_type": "stream",
          "name": "stdout",
          "text": [
            "Augmenting training set images...\n"
          ]
        }
      ],
      "source": [
        "from tensorflow.keras.preprocessing.image import ImageDataGenerator\n",
        "#from keras.datasets import cifar10\n",
        "\n",
        "#load dataset\n",
        "#(input_X_train, output_y_train), (input_X_test, output_y_test) = cifar10.load_data()\n",
        "\n",
        "# augumenting\n",
        "print(\"Augmenting training set images...\")\n",
        "\n",
        "datagen = ImageDataGenerator(\n",
        "   rotation_range=40,\n",
        "   width_shift_range=0.2,\n",
        "   height_shift_range=0.2,\n",
        "   zoom_range=0.2,\n",
        "   horizontal_flip=True,\n",
        "   fill_mode='nearest')\n",
        "\n",
        "# rotation_range is a value in degrees (0 - 180) for randomly rotating pictures\n",
        "# width_shift and height_shift are ranges for randomly translating pictures vertically or horizontally\n",
        "# zoom_range is for randomly zooming pictures\n",
        "# horizontal_flip is for randomly flipping the images horizontally\n",
        "# fill_mode fills in new pixels that can appear after a rotation or a shift\n"
      ]
    },
    {
      "cell_type": "markdown",
      "metadata": {
        "id": "yWIpifR4Ipkc"
      },
      "source": [
        "__Training with augmented data__\n",
        "\n",
        "The function below used the dynamic generation of the augmented data during the training (just in time)."
      ]
    },
    {
      "cell_type": "code",
      "execution_count": 15,
      "metadata": {
        "colab": {
          "base_uri": "https://localhost:8080/"
        },
        "id": "kd_JgZM9Ipkd",
        "outputId": "02002ee8-63cd-4255-d4b3-f49ddfd24365"
      },
      "outputs": [
        {
          "output_type": "stream",
          "name": "stdout",
          "text": [
            "Epoch 1/40\n"
          ]
        },
        {
          "output_type": "stream",
          "name": "stderr",
          "text": [
            "<ipython-input-15-27f0d892da1d>:6: UserWarning: `Model.fit_generator` is deprecated and will be removed in a future version. Please use `Model.fit`, which supports generators.\n",
            "  history = model.fit_generator(datagen.flow(input_X_train, output_Y_train, batch_size=BATCH_SIZE), steps_per_epoch=input_X_train.shape[0]//BATCH_SIZE, epochs=N_EPOCH, verbose=VERBOSE)\n"
          ]
        },
        {
          "output_type": "stream",
          "name": "stdout",
          "text": [
            "390/390 [==============================] - 34s 86ms/step - loss: 1.4876 - accuracy: 0.4841\n",
            "Epoch 2/40\n",
            "390/390 [==============================] - 32s 82ms/step - loss: 1.4291 - accuracy: 0.5045\n",
            "Epoch 3/40\n",
            "390/390 [==============================] - 33s 85ms/step - loss: 1.4206 - accuracy: 0.5073\n",
            "Epoch 4/40\n",
            "390/390 [==============================] - 34s 86ms/step - loss: 1.3937 - accuracy: 0.5140\n",
            "Epoch 5/40\n",
            "390/390 [==============================] - 33s 85ms/step - loss: 1.3789 - accuracy: 0.5207\n",
            "Epoch 6/40\n",
            "390/390 [==============================] - 33s 85ms/step - loss: 1.3833 - accuracy: 0.5179\n",
            "Epoch 7/40\n",
            "390/390 [==============================] - 33s 84ms/step - loss: 1.3600 - accuracy: 0.5264\n",
            "Epoch 8/40\n",
            "390/390 [==============================] - 32s 82ms/step - loss: 1.3636 - accuracy: 0.5265\n",
            "Epoch 9/40\n",
            "390/390 [==============================] - 34s 87ms/step - loss: 1.3528 - accuracy: 0.5262\n",
            "Epoch 10/40\n",
            "390/390 [==============================] - 32s 81ms/step - loss: 1.3570 - accuracy: 0.5290\n",
            "Epoch 11/40\n",
            "390/390 [==============================] - 32s 83ms/step - loss: 1.3510 - accuracy: 0.5330\n",
            "Epoch 12/40\n",
            "390/390 [==============================] - 31s 81ms/step - loss: 1.3406 - accuracy: 0.5358\n",
            "Epoch 13/40\n",
            "390/390 [==============================] - 33s 83ms/step - loss: 1.3343 - accuracy: 0.5361\n",
            "Epoch 14/40\n",
            "390/390 [==============================] - 32s 82ms/step - loss: 1.3388 - accuracy: 0.5358\n",
            "Epoch 15/40\n",
            "390/390 [==============================] - 33s 85ms/step - loss: 1.3313 - accuracy: 0.5391\n",
            "Epoch 16/40\n",
            "390/390 [==============================] - 32s 81ms/step - loss: 1.3305 - accuracy: 0.5399\n",
            "Epoch 17/40\n",
            "390/390 [==============================] - 33s 84ms/step - loss: 1.3288 - accuracy: 0.5364\n",
            "Epoch 18/40\n",
            "390/390 [==============================] - 32s 83ms/step - loss: 1.3285 - accuracy: 0.5389\n",
            "Epoch 19/40\n",
            "390/390 [==============================] - 32s 83ms/step - loss: 1.3224 - accuracy: 0.5443\n",
            "Epoch 20/40\n",
            "390/390 [==============================] - 32s 83ms/step - loss: 1.3243 - accuracy: 0.5426\n",
            "Epoch 21/40\n",
            "390/390 [==============================] - 33s 83ms/step - loss: 1.3219 - accuracy: 0.5438\n",
            "Epoch 22/40\n",
            "390/390 [==============================] - 31s 81ms/step - loss: 1.3236 - accuracy: 0.5409\n",
            "Epoch 23/40\n",
            "390/390 [==============================] - 32s 83ms/step - loss: 1.3191 - accuracy: 0.5423\n",
            "Epoch 24/40\n",
            "390/390 [==============================] - 31s 81ms/step - loss: 1.3240 - accuracy: 0.5408\n",
            "Epoch 25/40\n",
            "390/390 [==============================] - 33s 85ms/step - loss: 1.3205 - accuracy: 0.5419\n",
            "Epoch 26/40\n",
            "390/390 [==============================] - 31s 80ms/step - loss: 1.3249 - accuracy: 0.5426\n",
            "Epoch 27/40\n",
            "390/390 [==============================] - 33s 83ms/step - loss: 1.3158 - accuracy: 0.5435\n",
            "Epoch 28/40\n",
            "390/390 [==============================] - 31s 81ms/step - loss: 1.3197 - accuracy: 0.5457\n",
            "Epoch 29/40\n",
            "390/390 [==============================] - 32s 83ms/step - loss: 1.3122 - accuracy: 0.5465\n",
            "Epoch 30/40\n",
            "390/390 [==============================] - 33s 84ms/step - loss: 1.3187 - accuracy: 0.5409\n",
            "Epoch 31/40\n",
            "390/390 [==============================] - 31s 80ms/step - loss: 1.3232 - accuracy: 0.5436\n",
            "Epoch 32/40\n",
            "390/390 [==============================] - 32s 82ms/step - loss: 1.3225 - accuracy: 0.5406\n",
            "Epoch 33/40\n",
            "390/390 [==============================] - 32s 82ms/step - loss: 1.3207 - accuracy: 0.5398\n",
            "Epoch 34/40\n",
            "390/390 [==============================] - 32s 81ms/step - loss: 1.3260 - accuracy: 0.5404\n",
            "Epoch 35/40\n",
            "390/390 [==============================] - 33s 84ms/step - loss: 1.3274 - accuracy: 0.5401\n",
            "Epoch 36/40\n",
            "390/390 [==============================] - 33s 83ms/step - loss: 1.3280 - accuracy: 0.5403\n",
            "Epoch 37/40\n",
            "390/390 [==============================] - 32s 82ms/step - loss: 1.3378 - accuracy: 0.5373\n",
            "Epoch 38/40\n",
            "390/390 [==============================] - 32s 81ms/step - loss: 1.3302 - accuracy: 0.5398\n",
            "Epoch 39/40\n",
            "390/390 [==============================] - 32s 82ms/step - loss: 1.3311 - accuracy: 0.5401\n",
            "Epoch 40/40\n",
            "390/390 [==============================] - 32s 83ms/step - loss: 1.3263 - accuracy: 0.5424\n"
          ]
        }
      ],
      "source": [
        "\n",
        "#fit the dataset\n",
        "datagen.fit(input_X_train)\n",
        "\n",
        "\n",
        "# train by fitting the model on batches with real-time data augmentation\n",
        "history = model.fit_generator(datagen.flow(input_X_train, output_Y_train, batch_size=BATCH_SIZE), steps_per_epoch=input_X_train.shape[0]//BATCH_SIZE, epochs=N_EPOCH, verbose=VERBOSE)\n",
        "\n"
      ]
    },
    {
      "cell_type": "markdown",
      "metadata": {
        "id": "Y0ZLORlPIpkh"
      },
      "source": [
        "**Analysis of the Data Augmented, Deeper CNN results**\n",
        "\n",
        "This generates the test scores and plots for the deeper DNN trained on the augmented data."
      ]
    },
    {
      "cell_type": "code",
      "execution_count": null,
      "metadata": {
        "colab": {
          "base_uri": "https://localhost:8080/",
          "height": 660
        },
        "id": "BxZG9aM2Ipki",
        "outputId": "f933118e-27aa-4a70-ac96-e2313d2e435a"
      },
      "outputs": [
        {
          "output_type": "stream",
          "name": "stdout",
          "text": [
            "79/79 [==============================] - 0s 6ms/step - loss: 1.3647 - accuracy: 0.4979\n",
            "\n",
            "Test score/loss: 1.3647339344024658\n",
            "Test accuracy: 0.49790000915527344\n",
            "dict_keys(['loss', 'accuracy'])\n"
          ]
        },
        {
          "output_type": "display_data",
          "data": {
            "text/plain": [
              "<Figure size 432x288 with 1 Axes>"
            ],
            "image/png": "[encoded data removed]"
          },
          "metadata": {
            "needs_background": "light"
          }
        },
        {
          "output_type": "display_data",
          "data": {
            "text/plain": [
              "<Figure size 432x288 with 1 Axes>"
            ],
            "image/png": "[encoded data removed]"
          },
          "metadata": {
            "needs_background": "light"
          }
        }
      ],
      "source": [
        "#Testing\n",
        "score = model.evaluate(input_X_test, output_Y_test, batch_size=BATCH_SIZE, verbose=VERBOSE)\n",
        "print(\"\\nTest score/loss:\", score[0])\n",
        "print('Test accuracy:', score[1])\n",
        "\n",
        "# list all data in history\n",
        "print(history.history.keys())\n",
        "\n",
        "# summarize history for accuracy\n",
        "#plt.plot(mo)\n",
        "plt.plot(history.history['accuracy'])\n",
        "plt.title('model accuracy')\n",
        "plt.ylabel('accuracy')\n",
        "plt.xlabel('epoch')\n",
        "plt.legend(['train', 'test'], loc='upper left')\n",
        "plt.show()\n",
        "\n",
        "# summarize history for loss\n",
        "plt.plot(history.history['loss'])\n",
        "plt.title('model loss')\n",
        "plt.ylabel('loss')\n",
        "plt.xlabel('epoch')\n",
        "plt.legend(['train', 'test'], loc='upper left')\n",
        "plt.show()\n",
        "\n"
      ]
    },
    {
      "cell_type": "markdown",
      "metadata": {
        "id": "4Bwi-kLYIpkl"
      },
      "source": [
        "Below is a commented different example of a data augmentation approach.\n",
        "\n",
        "But we have carried out plenty of slow, long simulations for this class, and we can stop here."
      ]
    },
    {
      "cell_type": "code",
      "execution_count": null,
      "metadata": {
        "id": "q_JAWfc4Ipkm"
      },
      "outputs": [],
      "source": [
        "\n",
        "from tensorflow.keras.preprocessing.image import ImageDataGenerator\n",
        "\n",
        "datagen = ImageDataGenerator(\n",
        "        featurewise_center=False,  # set input mean to 0 over the dataset\n",
        "        samplewise_center=False,  # set each sample mean to 0\n",
        "        featurewise_std_normalization=False,  # divide inputs by std of the dataset\n",
        "        samplewise_std_normalization=False,  # divide each input by its std\n",
        "        zca_whitening=False,  # apply ZCA whitening\n",
        "        rotation_range=0,  # randomly rotate images in the range (degrees, 0 to 180)\n",
        "        width_shift_range=0.1,  # randomly shift images horizontally (fraction of total width)\n",
        "        height_shift_range=0.1,  # randomly shift images vertically (fraction of total height)\n",
        "        horizontal_flip=True,  # randomly flip images\n",
        "        vertical_flip=False)  # randomly flip images\n",
        "\n",
        "datagen.fit(input_X_train)"
      ]
    },
    {
      "cell_type": "markdown",
      "metadata": {
        "id": "ouCjBST_Ipkq"
      },
      "source": [
        "Conclusions\n",
        "-------------\n",
        "\n",
        "Today we learned to train more complex DNNs, and to use data augmentation to further improve the network training and performance.\n",
        "\n",
        "**Copyright (c)** 2022 Angelo Cangelosi, MIT License. Code and examples adapted from Gulli & Pal (2017) Deep Learning with Kera. Punkt Publishing. With support from Wenjie Huang."
      ]
    }
  ],
  "metadata": {
    "accelerator": "GPU",
    "colab": {
      "provenance": [],
      "include_colab_link": true
    },
    "kernelspec": {
      "display_name": "Python 3 (ipykernel)",
      "language": "python",
      "name": "python3"
    },
    "language_info": {
      "codemirror_mode": {
        "name": "ipython",
        "version": 3
      },
      "file_extension": ".py",
      "mimetype": "text/x-python",
      "name": "python",
      "nbconvert_exporter": "python",
      "pygments_lexer": "ipython3",
      "version": "3.9.7"
    }
  },
  "nbformat": 4,
  "nbformat_minor": 0
}