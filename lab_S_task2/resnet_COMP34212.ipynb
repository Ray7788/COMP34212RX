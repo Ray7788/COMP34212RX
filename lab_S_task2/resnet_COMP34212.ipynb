{
 "cells": [
  {
   "cell_type": "markdown",
   "metadata": {},
   "source": [
    "# COMP34212 Summative Lab Task2\n"
   ]
  },
  {
   "cell_type": "code",
   "execution_count": 1,
   "metadata": {},
   "outputs": [
    {
     "name": "stdout",
     "output_type": "stream",
     "text": [
      "Using cuda device\n"
     ]
    }
   ],
   "source": [
    "import torch\n",
    "import torch.nn as nn\n",
    "from torch.utils.data.sampler import SubsetRandomSampler\n",
    "import torch.optim as optim\n",
    "\n",
    "from tqdm import tqdm\n",
    "import numpy as np\n",
    "from torchvision import datasets\n",
    "import torchvision.transforms as transforms\n",
    "\n",
    "import os\n",
    "device = 'cuda' if torch.cuda.is_available() else 'cpu' # Check if GPU is available\n",
    "print('Using {} device'.format(device))\n",
    "\n",
    "folder_name = 'checkpoint'\n",
    "if not os.path.exists(folder_name):\n",
    "        os.makedirs(folder_name)"
   ]
  },
  {
   "cell_type": "code",
   "execution_count": 2,
   "metadata": {},
   "outputs": [],
   "source": [
    "def conv3x3(in_planes, out_planes, stride=1, groups=1, dilation=1):\n",
    "    \"\"\"3x3 convolution with padding\"\"\"\n",
    "    return nn.Conv2d(in_planes, out_planes, kernel_size=3, stride=stride,\n",
    "                     padding=dilation, groups=groups, bias=False, dilation=dilation)\n",
    "\n",
    "# TODO: change variable names\n",
    "def conv1x1(in_planes, out_planes, stride=1):\n",
    "    \"\"\"1x1 convolution\"\"\"\n",
    "    return nn.Conv2d(in_planes, out_planes, kernel_size=1, stride=stride, bias=False)"
   ]
  },
  {
   "cell_type": "code",
   "execution_count": 3,
   "metadata": {},
   "outputs": [],
   "source": [
    "class BasicBlock(nn.Module):\n",
    "    \"\"\"\n",
    "    A basic block for ResNet18 and ResNet34\n",
    "\n",
    "    Args:\n",
    "    inplanes: int, number of input channels\n",
    "    planes: int, number of output channels\n",
    "    stride: int, stride of the first convolutional layer\n",
    "    downsample: nn.Module, downsample layer\n",
    "    groups: int, number of groups for the convolutional layers\n",
    "    base_width: int, base width of the convolutional layers\n",
    "    dilation: int, dilation rate of the convolutional layers\n",
    "    norm_layer: nn.Module, normalization layer\n",
    "\n",
    "    Returns:\n",
    "    out: tensor, output of the basic block\n",
    "    \"\"\"\n",
    "    expansion = 1\n",
    "\n",
    "    def __init__(self, inplanes, planes, stride=1, downsample=None, groups=1,\n",
    "                 base_width=64, dilation=1, norm_layer=None):\n",
    "        super(BasicBlock, self).__init__()\n",
    "        if norm_layer is None:\n",
    "            norm_layer = nn.BatchNorm2d\n",
    "        if groups != 1 or base_width != 64:\n",
    "            raise ValueError('BasicBlock only supports groups=1 and base_width=64')\n",
    "        if dilation > 1:\n",
    "            raise NotImplementedError(\"Dilation > 1 not supported in BasicBlock\")\n",
    "        # Both self.conv1 and self.downsample layers downsample the input when stride != 1\n",
    "        self.conv1 = conv3x3(inplanes, planes, stride)\n",
    "        self.bn1 = norm_layer(planes)\n",
    "        self.relu = nn.ReLU(inplace=True)\n",
    "        self.conv2 = conv3x3(planes, planes)\n",
    "        self.bn2 = norm_layer(planes)\n",
    "        self.downsample = downsample\n",
    "        self.stride = stride\n",
    "\n",
    "    def forward(self, x):\n",
    "        identity = x\n",
    "\n",
    "        out = self.relu(self.bn1(self.conv1(x)))\n",
    "\n",
    "        out = self.bn2(self.conv2(out))\n",
    "\n",
    "        if self.downsample is not None:\n",
    "            identity = self.downsample(x)\n",
    "\n",
    "        out += identity\n",
    "        out = self.relu(out)\n",
    "\n",
    "        return out"
   ]
  },
  {
   "cell_type": "code",
   "execution_count": 4,
   "metadata": {},
   "outputs": [],
   "source": [
    "class Bottleneck(nn.Module):\n",
    "    \"\"\"\n",
    "    For deeper models, we use the \"bottleneck\" building block to reduce the number of parameters.\n",
    "    It is based on the following principle:\n",
    "    1. A 1x1 convolution reduces the dimensionality of the input to a bottleneck representation.\n",
    "    2. A 3x3 convolution is applied to the bottleneck representation.\n",
    "    3. A 1x1 convolution increases the dimensionality of the representation back to the original.\n",
    "    4. The output is added to the original input.\n",
    "    5. The result is passed through a ReLU activation function.\n",
    "\n",
    "    The bottleneck block is used in the ResNet-50, ResNet-101, and ResNet-152 architectures.\n",
    "    \"\"\"\n",
    "    # Bottleneck in torchvision places the stride for downsampling at 3x3 convolution(self.conv2)\n",
    "    # while original implementation places the stride at the first 1x1 convolution(self.conv1)\n",
    "    # according to \"Deep residual learning for image recognition\"https://arxiv.org/abs/1512.03385.\n",
    "    # This variant is also known as ResNet V1.5 and improves accuracy according to\n",
    "    # https://ngc.nvidia.com/catalog/model-scripts/nvidia:resnet_50_v1_5_for_pytorch.\n",
    "\n",
    "    expansion = 4\n",
    "\n",
    "    def __init__(self, inplanes, planes, stride=1, downsample=None, groups=1,\n",
    "                 base_width=64, dilation=1, norm_layer=None):\n",
    "        super(Bottleneck, self).__init__()\n",
    "        if norm_layer is None:\n",
    "            norm_layer = nn.BatchNorm2d\n",
    "        width = int(planes * (base_width / 64.)) * groups\n",
    "        # Both self.conv2 and self.downsample layers downsample the input when stride != 1\n",
    "        self.conv1 = conv1x1(inplanes, width)\n",
    "        self.bn1 = norm_layer(width)\n",
    "        self.conv2 = conv3x3(width, width, stride, groups, dilation)\n",
    "        self.bn2 = norm_layer(width)\n",
    "        self.conv3 = conv1x1(width, planes * self.expansion)\n",
    "        self.bn3 = norm_layer(planes * self.expansion)\n",
    "        self.relu = nn.ReLU(inplace=True)\n",
    "        self.downsample = downsample\n",
    "        self.stride = stride\n",
    "\n",
    "    def forward(self, x):\n",
    "        identity = x\n",
    "\n",
    "        out = self.conv1(x)\n",
    "        out = self.bn1(out)\n",
    "        out = self.relu(out)\n",
    "\n",
    "        out = self.conv2(out)\n",
    "        out = self.bn2(out)\n",
    "        out = self.relu(out)\n",
    "\n",
    "        out = self.conv3(out)\n",
    "        out = self.bn3(out)\n",
    "\n",
    "        if self.downsample is not None:\n",
    "            identity = self.downsample(x)\n",
    "\n",
    "        out += identity\n",
    "        out = self.relu(out)\n",
    "\n",
    "        return out\n"
   ]
  },
  {
   "cell_type": "code",
   "execution_count": 5,
   "metadata": {},
   "outputs": [],
   "source": [
    "class ResNet(nn.Module):\n",
    "    \"\"\"\n",
    "    The ResNet architecture is based on the following principles:\n",
    "    1. The input is passed through a 7x7 convolutional layer with stride 2.\n",
    "    2. The output is passed through a 3x3 max pooling layer with stride 2.\n",
    "    3. The output is passed through a series of residual blocks.\n",
    "    4. The output is passed through a global average pooling layer.\n",
    "    5. The output is passed through a fully connected layer with softmax activation.\n",
    "\n",
    "    The ResNet architecture is defined by the number of layers and the type of residual block used.\n",
    "    The ResNet-18 and ResNet-34 architectures use the \"basic block\" residual block.\n",
    "    The ResNet-50, ResNet-101, and ResNet-152 architectures use the \"bottleneck\" residual block.\n",
    "    \"\"\"\n",
    "    def __init__(self, block, layers, num_classes=1000, zero_init_residual=False,\n",
    "                 groups=1, width_per_group=64, replace_stride_with_dilation=None,\n",
    "                 norm_layer=None):\n",
    "        super(ResNet, self).__init__()\n",
    "        if norm_layer is None:\n",
    "            norm_layer = nn.BatchNorm2d\n",
    "        self._norm_layer = norm_layer\n",
    "\n",
    "        self.inplanes = 64\n",
    "        self.dilation = 1\n",
    "        if replace_stride_with_dilation is None:\n",
    "            # each element in the tuple indicates if we should replace\n",
    "            # the 2x2 stride with a dilated convolution instead\n",
    "            replace_stride_with_dilation = [False, False, False]\n",
    "        if len(replace_stride_with_dilation) != 3:\n",
    "            raise ValueError(\"replace_stride_with_dilation should be None \"\n",
    "                             \"or a 3-element tuple, got {}\".format(replace_stride_with_dilation))\n",
    "        self.groups = groups\n",
    "        self.base_width = width_per_group\n",
    "        self.conv1 = nn.Conv2d(3, self.inplanes, kernel_size=7, stride=2, padding=3,\n",
    "                               bias=False)\n",
    "        self.bn1 = norm_layer(self.inplanes)\n",
    "        self.relu = nn.ReLU(inplace=True)\n",
    "        #self.maxpool = nn.MaxPool2d(kernel_size=3, stride=2, padding=1)    # delete maxpool layer\n",
    "        self.layer1 = self._make_layer(block, 64, layers[0])\n",
    "        self.layer2 = self._make_layer(block, 128, layers[1], stride=2,\n",
    "                                       dilate=replace_stride_with_dilation[0])\n",
    "        self.layer3 = self._make_layer(block, 256, layers[2], stride=2,\n",
    "                                       dilate=replace_stride_with_dilation[1])\n",
    "        self.layer4 = self._make_layer(block, 512, layers[3], stride=2,\n",
    "                                       dilate=replace_stride_with_dilation[2])\n",
    "        self.avgpool = nn.AdaptiveAvgPool2d((1, 1))\n",
    "        self.fc = nn.Linear(512 * block.expansion, num_classes)\n",
    "\n",
    "        for m in self.modules():\n",
    "            if isinstance(m, nn.Conv2d):\n",
    "                nn.init.kaiming_normal_(m.weight, mode='fan_out', nonlinearity='relu')\n",
    "            elif isinstance(m, (nn.BatchNorm2d, nn.GroupNorm)):\n",
    "                nn.init.constant_(m.weight, 1)\n",
    "                nn.init.constant_(m.bias, 0)\n",
    "\n",
    "        # Zero-initialize the last BN in each residual branch,\n",
    "        # so that the residual branch starts with zeros, and each residual block behaves like an identity.\n",
    "        # This improves the model by 0.2~0.3% according to https://arxiv.org/abs/1706.02677\n",
    "        if zero_init_residual:\n",
    "            for m in self.modules():\n",
    "                if isinstance(m, Bottleneck):\n",
    "                    nn.init.constant_(m.bn3.weight, 0)\n",
    "                elif isinstance(m, BasicBlock):\n",
    "                    nn.init.constant_(m.bn2.weight, 0)\n",
    "\n",
    "    def _make_layer(self, block, planes, blocks, stride=1, dilate=False):\n",
    "        \"\"\"\n",
    "        Create a layer of residual blocks\n",
    "\n",
    "        Args:\n",
    "        block: nn.Module, type of residual block: BasicBlock or Bottleneck\n",
    "        planes: int, number of output channels\n",
    "        blocks: int, number of blocks\n",
    "        \"\"\"\n",
    "        norm_layer = self._norm_layer\n",
    "        downsample = None\n",
    "        previous_dilation = self.dilation\n",
    "        if dilate:\n",
    "            self.dilation *= stride\n",
    "            stride = 1\n",
    "        if stride != 1 or self.inplanes != planes * block.expansion:\n",
    "            downsample = nn.Sequential(\n",
    "                conv1x1(self.inplanes, planes * block.expansion, stride),\n",
    "                norm_layer(planes * block.expansion),\n",
    "            )\n",
    "\n",
    "        layers = []\n",
    "        layers.append(block(self.inplanes, planes, stride, downsample, self.groups,\n",
    "                            self.base_width, previous_dilation, norm_layer))\n",
    "        self.inplanes = planes * block.expansion\n",
    "        for _ in range(1, blocks):\n",
    "            layers.append(block(self.inplanes, planes, groups=self.groups,\n",
    "                                base_width=self.base_width, dilation=self.dilation,\n",
    "                                norm_layer=norm_layer))\n",
    "\n",
    "        return nn.Sequential(*layers)\n",
    "\n",
    "    def _forward_impl(self, x):\n",
    "        # See note [TorchScript super()]\n",
    "        x = self.conv1(x)\n",
    "        x = self.bn1(x)\n",
    "        x = self.relu(x)\n",
    "        #x = self.maxpool(x)\n",
    "\n",
    "        x = self.layer1(x)\n",
    "        x = self.layer2(x)\n",
    "        x = self.layer3(x)\n",
    "        x = self.layer4(x)\n",
    "\n",
    "        x = self.avgpool(x)\n",
    "        x = torch.flatten(x, 1)\n",
    "        x = self.fc(x)\n",
    "\n",
    "        return x\n",
    "\n",
    "    def forward(self, x):\n",
    "        return self._forward_impl(x)\n",
    "\n",
    "\n",
    "def _resnet(block, layers, **kwargs):\n",
    "    model = ResNet(block, layers, **kwargs)\n",
    "    return model\n",
    "\n",
    "\n",
    "def ResNet18(**kwargs):\n",
    "    return _resnet(BasicBlock, [2, 2, 2, 2],**kwargs)\n",
    "\n",
    "def ResNet34(**kwargs):\n",
    "    return _resnet(BasicBlock, [3, 4, 6, 3],**kwargs)\n",
    "\n",
    "\n",
    "def ResNet50(**kwargs):\n",
    "    return _resnet(Bottleneck, [3, 4, 6, 3],**kwargs)\n",
    "\n",
    "\n",
    "def ResNet101(**kwargs):\n",
    "    return _resnet(Bottleneck, [3, 4, 23, 3],**kwargs)\n",
    "\n",
    "\n",
    "def ResNet152(**kwargs):\n",
    "    return _resnet(Bottleneck, [3, 8, 36, 3],**kwargs)"
   ]
  },
  {
   "cell_type": "code",
   "execution_count": 6,
   "metadata": {},
   "outputs": [],
   "source": [
    "class Cutout(object):\n",
    "    \"\"\"\n",
    "    Randomly mask out one or more patches from an image.\n",
    "    Args:\n",
    "        n_holes (int): Number of patches to cut out of each image.\n",
    "        length (int): The length (in pixels) of each square patch.\n",
    "    \"\"\"\n",
    "    def __init__(self, n_holes, length):\n",
    "        self.n_holes = n_holes\n",
    "        self.length = length\n",
    "\n",
    "    def __call__(self, img):\n",
    "        h = img.size(1)\n",
    "        w = img.size(2)\n",
    "\n",
    "        mask = np.ones((h, w), np.float32)\n",
    "\n",
    "        for n in range(self.n_holes):\n",
    "        \t# (x,y) makes the center of the hole\n",
    "            y = np.random.randint(h)\n",
    "            x = np.random.randint(w)\n",
    "\n",
    "            y1 = np.clip(y - self.length // 2, 0, h)\n",
    "            y2 = np.clip(y + self.length // 2, 0, h)\n",
    "            x1 = np.clip(x - self.length // 2, 0, w)\n",
    "            x2 = np.clip(x + self.length // 2, 0, w)\n",
    "\n",
    "            mask[y1: y2, x1: x2] = 0.\n",
    "\n",
    "        mask = torch.from_numpy(mask)\n",
    "        mask = mask.expand_as(img)\n",
    "        img = img * mask\n",
    "\n",
    "        return img"
   ]
  },
  {
   "cell_type": "code",
   "execution_count": 7,
   "metadata": {},
   "outputs": [],
   "source": [
    "num_workers = 0 # number of subprocesses to use for data loading\n",
    "batch_size = 16 # how many samples per batch to load\n",
    "valid_size = 0.2    # percentage of training set to use as validation\n",
    "\n",
    "def read_dataset(batch_size=16,valid_size=0.2,num_workers=0,pic_path='dataset'):\n",
    "    \"\"\"\n",
    "    batch_size: Number of loaded drawings per batch\n",
    "    valid_size: Percentage of training set to use as validation\n",
    "    num_workers: Number of subprocesses to use for data loading\n",
    "    pic_path: The path of the pictrues\n",
    "    \"\"\"\n",
    "    transform_train = transforms.Compose([\n",
    "        transforms.RandomCrop(32, padding=4),  # first, we perform a random crop of the image to 32x32 using padding of 4 pixels\n",
    "        transforms.RandomHorizontalFlip(),  # randomly flip the image horizontally, probability of 0.5\n",
    "        transforms.ToTensor(),\n",
    "        transforms.Normalize(mean=[0.485, 0.456, 0.406],std=[0.229, 0.224, 0.225]), # normalize the image based on the mean and standard deviation from the ImageNet dataset\n",
    "        Cutout(n_holes=1, length=16),\n",
    "    ])\n",
    "\n",
    "    transform_test = transforms.Compose([\n",
    "        transforms.ToTensor(),\n",
    "        transforms.Normalize(mean=[0.485, 0.456, 0.406],std=[0.229, 0.224, 0.225]),\n",
    "    ])\n",
    "\n",
    "\n",
    "    # Define the data loaders\n",
    "    train_data = datasets.CIFAR10(pic_path, train=True,\n",
    "                                download=True, transform=transform_train)\n",
    "    valid_data = datasets.CIFAR10(pic_path, train=True,\n",
    "                                download=True, transform=transform_test)\n",
    "    test_data = datasets.CIFAR10(pic_path, train=False,\n",
    "                                download=True, transform=transform_test)\n",
    "        \n",
    "\n",
    "    # obtain training indices that will be used for validation\n",
    "    num_train = len(train_data)\n",
    "    indices = list(range(num_train))\n",
    "    # random indices\n",
    "    np.random.shuffle(indices)\n",
    "    # the ratio of split\n",
    "    split = int(np.floor(valid_size * num_train))\n",
    "    # divide data to radin_data and valid_data\n",
    "    train_idx, valid_idx = indices[split:], indices[:split]\n",
    "\n",
    "    # define samplers for obtaining training and validation batches\n",
    "    # 无放回地按照给定的索引列表采样样本元素\n",
    "    train_sampler = SubsetRandomSampler(train_idx)\n",
    "    valid_sampler = SubsetRandomSampler(valid_idx)\n",
    "\n",
    "    # prepare data loaders (combine dataset and sampler)\n",
    "    train_loader = torch.utils.data.DataLoader(train_data, batch_size=batch_size,\n",
    "        sampler=train_sampler, num_workers=num_workers)\n",
    "    valid_loader = torch.utils.data.DataLoader(valid_data, batch_size=batch_size, \n",
    "        sampler=valid_sampler, num_workers=num_workers)\n",
    "    test_loader = torch.utils.data.DataLoader(test_data, batch_size=batch_size, \n",
    "        num_workers=num_workers)\n",
    "\n",
    "    return train_loader,valid_loader,test_loader"
   ]
  },
  {
   "cell_type": "markdown",
   "metadata": {},
   "source": [
    "# TRAINING"
   ]
  },
  {
   "cell_type": "code",
   "execution_count": 15,
   "metadata": {},
   "outputs": [
    {
     "name": "stdout",
     "output_type": "stream",
     "text": [
      "Files already downloaded and verified\n",
      "Files already downloaded and verified\n",
      "Files already downloaded and verified\n",
      "Loaded model parameters from disk.\n"
     ]
    }
   ],
   "source": [
    "batch_size = 128\n",
    "train_loader,valid_loader,test_loader = read_dataset(batch_size=batch_size,pic_path='dataset')\n",
    "n_class = 10\n",
    "model = ResNet50()\n",
    "\n",
    "\n",
    "\"\"\"\n",
    "ResNet18网络的7x7降采样卷积和池化操作容易丢失一部分信息,\n",
    "所以在实验中我们将7x7的降采样层和最大池化层去掉,替换为一个3x3的降采样卷积,\n",
    "同时减小该卷积层的步长和填充大小\n",
    "\"\"\"\n",
    "model.conv1 = nn.Conv2d(in_channels=3, out_channels=64, kernel_size=3, stride=1, padding=1, bias=False)\n",
    "# model.fc = torch.nn.Linear(512, n_class) # modify the last layer\n",
    "model.fc = torch.nn.Linear(2048, n_class) # modify the last layer\n",
    "\n",
    "checkpoint_path = 'checkpoint/resnet50_cifar10.pt'\n",
    "if os.path.exists(checkpoint_path):\n",
    "    # 加载模型参数\n",
    "    model_state_dict = torch.load(checkpoint_path)\n",
    "    # 将参数加载到模型中\n",
    "    model.load_state_dict(model_state_dict)\n",
    "    print(\"Loaded model parameters from disk.\")\n",
    "\n",
    "\n",
    "model = model.to(device)\n",
    "criterion = nn.CrossEntropyLoss().to(device)    # Use cross entropy loss function\n",
    "n_epochs = 250\n",
    "lr = 0.1"
   ]
  },
  {
   "cell_type": "code",
   "execution_count": 17,
   "metadata": {},
   "outputs": [
    {
     "name": "stderr",
     "output_type": "stream",
     "text": [
      "  0%|          | 1/201 [00:54<3:00:02, 54.01s/it]"
     ]
    },
    {
     "name": "stdout",
     "output_type": "stream",
     "text": [
      "Accuracy: 80.14240506329114 %\n",
      "Epoch: 50 \tTraining Loss: 0.632336 \tValidation Loss: 0.570307\n",
      "Validation loss decreased (inf --> 0.570307).  Saving model ...\n"
     ]
    },
    {
     "name": "stderr",
     "output_type": "stream",
     "text": [
      "  1%|          | 2/201 [01:46<2:55:36, 52.95s/it]"
     ]
    },
    {
     "name": "stdout",
     "output_type": "stream",
     "text": [
      "Accuracy: 73.22982594936708 %\n",
      "Epoch: 51 \tTraining Loss: 0.634021 \tValidation Loss: 0.870101\n"
     ]
    },
    {
     "name": "stderr",
     "output_type": "stream",
     "text": [
      "  1%|▏         | 3/201 [02:40<2:56:21, 53.44s/it]"
     ]
    },
    {
     "name": "stdout",
     "output_type": "stream",
     "text": [
      "Accuracy: 79.74683544303798 %\n",
      "Epoch: 52 \tTraining Loss: 0.622338 \tValidation Loss: 0.568731\n",
      "Validation loss decreased (0.570307 --> 0.568731).  Saving model ...\n"
     ]
    },
    {
     "name": "stderr",
     "output_type": "stream",
     "text": [
      "  2%|▏         | 4/201 [03:32<2:53:46, 52.93s/it]"
     ]
    },
    {
     "name": "stdout",
     "output_type": "stream",
     "text": [
      "Accuracy: 80.65664556962025 %\n",
      "Epoch: 53 \tTraining Loss: 0.626238 \tValidation Loss: 0.525927\n",
      "Validation loss decreased (0.568731 --> 0.525927).  Saving model ...\n"
     ]
    },
    {
     "name": "stderr",
     "output_type": "stream",
     "text": [
      "  2%|▏         | 5/201 [04:24<2:52:24, 52.78s/it]"
     ]
    },
    {
     "name": "stdout",
     "output_type": "stream",
     "text": [
      "Accuracy: 75.75158227848101 %\n",
      "Epoch: 54 \tTraining Loss: 0.613401 \tValidation Loss: 0.698334\n"
     ]
    },
    {
     "name": "stderr",
     "output_type": "stream",
     "text": [
      "  3%|▎         | 6/201 [05:17<2:51:07, 52.65s/it]"
     ]
    },
    {
     "name": "stdout",
     "output_type": "stream",
     "text": [
      "Accuracy: 77.87776898734177 %\n",
      "Epoch: 55 \tTraining Loss: 0.614722 \tValidation Loss: 0.657110\n"
     ]
    },
    {
     "name": "stderr",
     "output_type": "stream",
     "text": [
      "  3%|▎         | 7/201 [06:09<2:50:02, 52.59s/it]"
     ]
    },
    {
     "name": "stdout",
     "output_type": "stream",
     "text": [
      "Accuracy: 76.02848101265823 %\n",
      "Epoch: 56 \tTraining Loss: 0.611066 \tValidation Loss: 0.689456\n"
     ]
    },
    {
     "name": "stderr",
     "output_type": "stream",
     "text": [
      "  4%|▍         | 8/201 [07:02<2:48:58, 52.53s/it]"
     ]
    },
    {
     "name": "stdout",
     "output_type": "stream",
     "text": [
      "Accuracy: 74.95055379746836 %\n",
      "Epoch: 57 \tTraining Loss: 0.608751 \tValidation Loss: 0.746983\n"
     ]
    },
    {
     "name": "stderr",
     "output_type": "stream",
     "text": [
      "  4%|▍         | 9/201 [07:54<2:47:36, 52.38s/it]"
     ]
    },
    {
     "name": "stdout",
     "output_type": "stream",
     "text": [
      "Accuracy: 78.30300632911393 %\n",
      "Epoch: 58 \tTraining Loss: 0.601011 \tValidation Loss: 0.656484\n"
     ]
    },
    {
     "name": "stderr",
     "output_type": "stream",
     "text": [
      "  5%|▍         | 10/201 [08:46<2:46:35, 52.33s/it]"
     ]
    },
    {
     "name": "stdout",
     "output_type": "stream",
     "text": [
      "Accuracy: 77.4129746835443 %\n",
      "Epoch: 59 \tTraining Loss: 0.602077 \tValidation Loss: 0.677794\n"
     ]
    },
    {
     "name": "stderr",
     "output_type": "stream",
     "text": [
      "  5%|▌         | 11/201 [09:40<2:47:01, 52.74s/it]"
     ]
    },
    {
     "name": "stdout",
     "output_type": "stream",
     "text": [
      "Accuracy: 71.50909810126582 %\n",
      "Epoch: 60 \tTraining Loss: 0.591525 \tValidation Loss: 0.883486\n"
     ]
    },
    {
     "name": "stderr",
     "output_type": "stream",
     "text": [
      "  6%|▌         | 12/201 [10:33<2:46:47, 52.95s/it]"
     ]
    },
    {
     "name": "stdout",
     "output_type": "stream",
     "text": [
      "Accuracy: 80.49841772151899 %\n",
      "Epoch: 61 \tTraining Loss: 0.590865 \tValidation Loss: 0.547771\n"
     ]
    },
    {
     "name": "stderr",
     "output_type": "stream",
     "text": [
      "  6%|▋         | 13/201 [11:25<2:45:22, 52.78s/it]"
     ]
    },
    {
     "name": "stdout",
     "output_type": "stream",
     "text": [
      "Accuracy: 68.90822784810126 %\n",
      "Epoch: 62 \tTraining Loss: 0.589075 \tValidation Loss: 1.063761\n"
     ]
    },
    {
     "name": "stderr",
     "output_type": "stream",
     "text": [
      "  7%|▋         | 14/201 [12:18<2:44:10, 52.68s/it]"
     ]
    },
    {
     "name": "stdout",
     "output_type": "stream",
     "text": [
      "Accuracy: 76.13726265822785 %\n",
      "Epoch: 63 \tTraining Loss: 0.582849 \tValidation Loss: 0.752781\n"
     ]
    },
    {
     "name": "stderr",
     "output_type": "stream",
     "text": [
      "  7%|▋         | 15/201 [13:10<2:43:00, 52.59s/it]"
     ]
    },
    {
     "name": "stdout",
     "output_type": "stream",
     "text": [
      "Accuracy: 85.82871835443038 %\n",
      "Epoch: 64 \tTraining Loss: 0.455419 \tValidation Loss: 0.403172\n",
      "Validation loss decreased (0.525927 --> 0.403172).  Saving model ...\n"
     ]
    },
    {
     "name": "stderr",
     "output_type": "stream",
     "text": [
      "  8%|▊         | 16/201 [14:03<2:42:00, 52.54s/it]"
     ]
    },
    {
     "name": "stdout",
     "output_type": "stream",
     "text": [
      "Accuracy: 83.1190664556962 %\n",
      "Epoch: 65 \tTraining Loss: 0.431469 \tValidation Loss: 0.481843\n"
     ]
    },
    {
     "name": "stderr",
     "output_type": "stream",
     "text": [
      "  8%|▊         | 17/201 [14:55<2:41:17, 52.60s/it]"
     ]
    },
    {
     "name": "stdout",
     "output_type": "stream",
     "text": [
      "Accuracy: 85.07713607594937 %\n",
      "Epoch: 66 \tTraining Loss: 0.435992 \tValidation Loss: 0.431960\n"
     ]
    },
    {
     "name": "stderr",
     "output_type": "stream",
     "text": [
      "  9%|▉         | 18/201 [15:48<2:40:06, 52.50s/it]"
     ]
    },
    {
     "name": "stdout",
     "output_type": "stream",
     "text": [
      "Accuracy: 81.4873417721519 %\n",
      "Epoch: 67 \tTraining Loss: 0.440487 \tValidation Loss: 0.578799\n"
     ]
    },
    {
     "name": "stderr",
     "output_type": "stream",
     "text": [
      "  9%|▉         | 19/201 [16:40<2:38:44, 52.33s/it]"
     ]
    },
    {
     "name": "stdout",
     "output_type": "stream",
     "text": [
      "Accuracy: 87.05498417721519 %\n",
      "Epoch: 68 \tTraining Loss: 0.442674 \tValidation Loss: 0.356488\n",
      "Validation loss decreased (0.403172 --> 0.356488).  Saving model ...\n"
     ]
    },
    {
     "name": "stderr",
     "output_type": "stream",
     "text": [
      " 10%|▉         | 20/201 [17:31<2:37:14, 52.13s/it]"
     ]
    },
    {
     "name": "stdout",
     "output_type": "stream",
     "text": [
      "Accuracy: 85.7001582278481 %\n",
      "Epoch: 69 \tTraining Loss: 0.443254 \tValidation Loss: 0.409506\n"
     ]
    },
    {
     "name": "stderr",
     "output_type": "stream",
     "text": [
      " 10%|█         | 21/201 [18:24<2:36:30, 52.17s/it]"
     ]
    },
    {
     "name": "stdout",
     "output_type": "stream",
     "text": [
      "Accuracy: 81.52689873417721 %\n",
      "Epoch: 70 \tTraining Loss: 0.438804 \tValidation Loss: 0.532061\n"
     ]
    },
    {
     "name": "stderr",
     "output_type": "stream",
     "text": [
      " 11%|█         | 22/201 [19:16<2:35:43, 52.20s/it]"
     ]
    },
    {
     "name": "stdout",
     "output_type": "stream",
     "text": [
      "Accuracy: 81.92246835443038 %\n",
      "Epoch: 71 \tTraining Loss: 0.439964 \tValidation Loss: 0.563821\n"
     ]
    },
    {
     "name": "stderr",
     "output_type": "stream",
     "text": [
      " 11%|█▏        | 23/201 [20:08<2:35:01, 52.25s/it]"
     ]
    },
    {
     "name": "stdout",
     "output_type": "stream",
     "text": [
      "Accuracy: 83.03006329113924 %\n",
      "Epoch: 72 \tTraining Loss: 0.441117 \tValidation Loss: 0.486080\n"
     ]
    },
    {
     "name": "stderr",
     "output_type": "stream",
     "text": [
      " 12%|█▏        | 24/201 [21:00<2:33:50, 52.15s/it]"
     ]
    },
    {
     "name": "stdout",
     "output_type": "stream",
     "text": [
      "Accuracy: 82.80261075949367 %\n",
      "Epoch: 73 \tTraining Loss: 0.436825 \tValidation Loss: 0.495567\n"
     ]
    },
    {
     "name": "stderr",
     "output_type": "stream",
     "text": [
      " 12%|█▏        | 25/201 [21:52<2:32:53, 52.12s/it]"
     ]
    },
    {
     "name": "stdout",
     "output_type": "stream",
     "text": [
      "Accuracy: 83.72231012658227 %\n",
      "Epoch: 74 \tTraining Loss: 0.433041 \tValidation Loss: 0.468130\n"
     ]
    },
    {
     "name": "stderr",
     "output_type": "stream",
     "text": [
      " 13%|█▎        | 26/201 [22:44<2:32:03, 52.14s/it]"
     ]
    },
    {
     "name": "stdout",
     "output_type": "stream",
     "text": [
      "Accuracy: 79.70727848101266 %\n",
      "Epoch: 75 \tTraining Loss: 0.435366 \tValidation Loss: 0.648990\n"
     ]
    },
    {
     "name": "stderr",
     "output_type": "stream",
     "text": [
      " 13%|█▎        | 27/201 [23:36<2:31:05, 52.10s/it]"
     ]
    },
    {
     "name": "stdout",
     "output_type": "stream",
     "text": [
      "Accuracy: 82.90150316455696 %\n",
      "Epoch: 76 \tTraining Loss: 0.435011 \tValidation Loss: 0.482146\n"
     ]
    },
    {
     "name": "stderr",
     "output_type": "stream",
     "text": [
      " 14%|█▍        | 28/201 [24:28<2:30:06, 52.06s/it]"
     ]
    },
    {
     "name": "stdout",
     "output_type": "stream",
     "text": [
      "Accuracy: 84.6815664556962 %\n",
      "Epoch: 77 \tTraining Loss: 0.428483 \tValidation Loss: 0.453471\n"
     ]
    },
    {
     "name": "stderr",
     "output_type": "stream",
     "text": [
      " 14%|█▍        | 29/201 [25:20<2:29:12, 52.05s/it]"
     ]
    },
    {
     "name": "stdout",
     "output_type": "stream",
     "text": [
      "Accuracy: 81.06210443037975 %\n",
      "Epoch: 78 \tTraining Loss: 0.427465 \tValidation Loss: 0.573208\n"
     ]
    },
    {
     "name": "stderr",
     "output_type": "stream",
     "text": [
      " 15%|█▍        | 30/201 [26:12<2:28:22, 52.06s/it]"
     ]
    },
    {
     "name": "stdout",
     "output_type": "stream",
     "text": [
      "Accuracy: 89.84375 %\n",
      "Epoch: 79 \tTraining Loss: 0.327670 \tValidation Loss: 0.273553\n",
      "Validation loss decreased (0.356488 --> 0.273553).  Saving model ...\n"
     ]
    },
    {
     "name": "stderr",
     "output_type": "stream",
     "text": [
      " 15%|█▌        | 31/201 [27:05<2:27:37, 52.10s/it]"
     ]
    },
    {
     "name": "stdout",
     "output_type": "stream",
     "text": [
      "Accuracy: 89.9426424050633 %\n",
      "Epoch: 80 \tTraining Loss: 0.302730 \tValidation Loss: 0.268266\n",
      "Validation loss decreased (0.273553 --> 0.268266).  Saving model ...\n"
     ]
    },
    {
     "name": "stderr",
     "output_type": "stream",
     "text": [
      " 16%|█▌        | 32/201 [27:57<2:26:46, 52.11s/it]"
     ]
    },
    {
     "name": "stdout",
     "output_type": "stream",
     "text": [
      "Accuracy: 89.2998417721519 %\n",
      "Epoch: 81 \tTraining Loss: 0.303498 \tValidation Loss: 0.293514\n"
     ]
    },
    {
     "name": "stderr",
     "output_type": "stream",
     "text": [
      " 16%|█▋        | 33/201 [28:49<2:26:04, 52.17s/it]"
     ]
    },
    {
     "name": "stdout",
     "output_type": "stream",
     "text": [
      "Accuracy: 88.33069620253164 %\n",
      "Epoch: 82 \tTraining Loss: 0.302829 \tValidation Loss: 0.318960\n"
     ]
    },
    {
     "name": "stderr",
     "output_type": "stream",
     "text": [
      " 17%|█▋        | 34/201 [29:41<2:25:05, 52.13s/it]"
     ]
    },
    {
     "name": "stdout",
     "output_type": "stream",
     "text": [
      "Accuracy: 85.94738924050633 %\n",
      "Epoch: 83 \tTraining Loss: 0.299301 \tValidation Loss: 0.407845\n"
     ]
    },
    {
     "name": "stderr",
     "output_type": "stream",
     "text": [
      " 17%|█▋        | 35/201 [30:33<2:23:58, 52.04s/it]"
     ]
    },
    {
     "name": "stdout",
     "output_type": "stream",
     "text": [
      "Accuracy: 88.15268987341773 %\n",
      "Epoch: 84 \tTraining Loss: 0.300875 \tValidation Loss: 0.327559\n"
     ]
    },
    {
     "name": "stderr",
     "output_type": "stream",
     "text": [
      " 18%|█▊        | 36/201 [31:25<2:23:05, 52.03s/it]"
     ]
    },
    {
     "name": "stdout",
     "output_type": "stream",
     "text": [
      "Accuracy: 88.14280063291139 %\n",
      "Epoch: 85 \tTraining Loss: 0.300089 \tValidation Loss: 0.332321\n"
     ]
    },
    {
     "name": "stderr",
     "output_type": "stream",
     "text": [
      " 18%|█▊        | 37/201 [32:17<2:22:08, 52.00s/it]"
     ]
    },
    {
     "name": "stdout",
     "output_type": "stream",
     "text": [
      "Accuracy: 89.31962025316456 %\n",
      "Epoch: 86 \tTraining Loss: 0.302136 \tValidation Loss: 0.300809\n"
     ]
    },
    {
     "name": "stderr",
     "output_type": "stream",
     "text": [
      " 19%|█▉        | 38/201 [33:09<2:21:19, 52.02s/it]"
     ]
    },
    {
     "name": "stdout",
     "output_type": "stream",
     "text": [
      "Accuracy: 88.81526898734177 %\n",
      "Epoch: 87 \tTraining Loss: 0.303365 \tValidation Loss: 0.328184\n"
     ]
    },
    {
     "name": "stderr",
     "output_type": "stream",
     "text": [
      " 19%|█▉        | 39/201 [34:01<2:20:52, 52.18s/it]"
     ]
    },
    {
     "name": "stdout",
     "output_type": "stream",
     "text": [
      "Accuracy: 88.39003164556962 %\n",
      "Epoch: 88 \tTraining Loss: 0.301836 \tValidation Loss: 0.316858\n"
     ]
    },
    {
     "name": "stderr",
     "output_type": "stream",
     "text": [
      " 20%|█▉        | 40/201 [34:54<2:20:05, 52.21s/it]"
     ]
    },
    {
     "name": "stdout",
     "output_type": "stream",
     "text": [
      "Accuracy: 87.25276898734177 %\n",
      "Epoch: 89 \tTraining Loss: 0.310333 \tValidation Loss: 0.351705\n"
     ]
    },
    {
     "name": "stderr",
     "output_type": "stream",
     "text": [
      " 20%|██        | 41/201 [35:46<2:19:11, 52.20s/it]"
     ]
    },
    {
     "name": "stdout",
     "output_type": "stream",
     "text": [
      "Accuracy: 89.01305379746836 %\n",
      "Epoch: 90 \tTraining Loss: 0.296114 \tValidation Loss: 0.312075\n"
     ]
    },
    {
     "name": "stderr",
     "output_type": "stream",
     "text": [
      " 21%|██        | 42/201 [36:38<2:18:17, 52.18s/it]"
     ]
    },
    {
     "name": "stdout",
     "output_type": "stream",
     "text": [
      "Accuracy: 91.80181962025317 %\n",
      "Epoch: 91 \tTraining Loss: 0.230466 \tValidation Loss: 0.214685\n",
      "Validation loss decreased (0.268266 --> 0.214685).  Saving model ...\n"
     ]
    },
    {
     "name": "stderr",
     "output_type": "stream",
     "text": [
      " 21%|██▏       | 43/201 [37:30<2:17:26, 52.19s/it]"
     ]
    },
    {
     "name": "stdout",
     "output_type": "stream",
     "text": [
      "Accuracy: 91.80181962025317 %\n",
      "Epoch: 92 \tTraining Loss: 0.208800 \tValidation Loss: 0.213123\n",
      "Validation loss decreased (0.214685 --> 0.213123).  Saving model ...\n"
     ]
    },
    {
     "name": "stderr",
     "output_type": "stream",
     "text": [
      " 22%|██▏       | 44/201 [38:23<2:16:36, 52.21s/it]"
     ]
    },
    {
     "name": "stdout",
     "output_type": "stream",
     "text": [
      "Accuracy: 91.43591772151899 %\n",
      "Epoch: 93 \tTraining Loss: 0.202236 \tValidation Loss: 0.240314\n"
     ]
    },
    {
     "name": "stderr",
     "output_type": "stream",
     "text": [
      " 22%|██▏       | 45/201 [39:15<2:15:48, 52.23s/it]"
     ]
    },
    {
     "name": "stdout",
     "output_type": "stream",
     "text": [
      "Accuracy: 91.13924050632912 %\n",
      "Epoch: 94 \tTraining Loss: 0.208529 \tValidation Loss: 0.248212\n"
     ]
    },
    {
     "name": "stderr",
     "output_type": "stream",
     "text": [
      " 23%|██▎       | 46/201 [40:07<2:14:51, 52.21s/it]"
     ]
    },
    {
     "name": "stdout",
     "output_type": "stream",
     "text": [
      "Accuracy: 91.70292721518987 %\n",
      "Epoch: 95 \tTraining Loss: 0.196702 \tValidation Loss: 0.233871\n"
     ]
    },
    {
     "name": "stderr",
     "output_type": "stream",
     "text": [
      " 23%|██▎       | 47/201 [40:59<2:14:02, 52.23s/it]"
     ]
    },
    {
     "name": "stdout",
     "output_type": "stream",
     "text": [
      "Accuracy: 91.40625 %\n",
      "Epoch: 96 \tTraining Loss: 0.200884 \tValidation Loss: 0.231084\n"
     ]
    },
    {
     "name": "stderr",
     "output_type": "stream",
     "text": [
      " 24%|██▍       | 48/201 [41:51<2:13:08, 52.21s/it]"
     ]
    },
    {
     "name": "stdout",
     "output_type": "stream",
     "text": [
      "Accuracy: 91.48536392405063 %\n",
      "Epoch: 97 \tTraining Loss: 0.196145 \tValidation Loss: 0.235855\n"
     ]
    },
    {
     "name": "stderr",
     "output_type": "stream",
     "text": [
      " 24%|██▍       | 49/201 [42:44<2:12:21, 52.25s/it]"
     ]
    },
    {
     "name": "stdout",
     "output_type": "stream",
     "text": [
      "Accuracy: 91.28757911392405 %\n",
      "Epoch: 98 \tTraining Loss: 0.200598 \tValidation Loss: 0.241200\n"
     ]
    },
    {
     "name": "stderr",
     "output_type": "stream",
     "text": [
      " 25%|██▍       | 50/201 [43:36<2:11:46, 52.36s/it]"
     ]
    },
    {
     "name": "stdout",
     "output_type": "stream",
     "text": [
      "Accuracy: 91.0304588607595 %\n",
      "Epoch: 99 \tTraining Loss: 0.194930 \tValidation Loss: 0.244980\n"
     ]
    },
    {
     "name": "stderr",
     "output_type": "stream",
     "text": [
      " 25%|██▌       | 51/201 [44:30<2:11:58, 52.79s/it]"
     ]
    },
    {
     "name": "stdout",
     "output_type": "stream",
     "text": [
      "Accuracy: 91.35680379746836 %\n",
      "Epoch: 100 \tTraining Loss: 0.192746 \tValidation Loss: 0.238175\n"
     ]
    },
    {
     "name": "stderr",
     "output_type": "stream",
     "text": [
      " 26%|██▌       | 52/201 [45:24<2:11:42, 53.03s/it]"
     ]
    },
    {
     "name": "stdout",
     "output_type": "stream",
     "text": [
      "Accuracy: 91.5051424050633 %\n",
      "Epoch: 101 \tTraining Loss: 0.196765 \tValidation Loss: 0.236556\n"
     ]
    },
    {
     "name": "stderr",
     "output_type": "stream",
     "text": [
      " 26%|██▋       | 53/201 [46:16<2:10:27, 52.89s/it]"
     ]
    },
    {
     "name": "stdout",
     "output_type": "stream",
     "text": [
      "Accuracy: 91.58425632911393 %\n",
      "Epoch: 102 \tTraining Loss: 0.193287 \tValidation Loss: 0.242441\n"
     ]
    },
    {
     "name": "stderr",
     "output_type": "stream",
     "text": [
      " 27%|██▋       | 54/201 [47:09<2:09:29, 52.86s/it]"
     ]
    },
    {
     "name": "stdout",
     "output_type": "stream",
     "text": [
      "Accuracy: 92.51384493670886 %\n",
      "Epoch: 103 \tTraining Loss: 0.151584 \tValidation Loss: 0.199042\n",
      "Validation loss decreased (0.213123 --> 0.199042).  Saving model ...\n"
     ]
    },
    {
     "name": "stderr",
     "output_type": "stream",
     "text": [
      " 27%|██▋       | 55/201 [48:02<2:08:20, 52.74s/it]"
     ]
    },
    {
     "name": "stdout",
     "output_type": "stream",
     "text": [
      "Accuracy: 92.93908227848101 %\n",
      "Epoch: 104 \tTraining Loss: 0.136558 \tValidation Loss: 0.193475\n",
      "Validation loss decreased (0.199042 --> 0.193475).  Saving model ...\n"
     ]
    },
    {
     "name": "stderr",
     "output_type": "stream",
     "text": [
      " 28%|██▊       | 56/201 [48:54<2:07:16, 52.67s/it]"
     ]
    },
    {
     "name": "stdout",
     "output_type": "stream",
     "text": [
      "Accuracy: 92.79074367088607 %\n",
      "Epoch: 105 \tTraining Loss: 0.130709 \tValidation Loss: 0.204655\n"
     ]
    },
    {
     "name": "stderr",
     "output_type": "stream",
     "text": [
      " 28%|██▊       | 57/201 [49:46<2:06:12, 52.58s/it]"
     ]
    },
    {
     "name": "stdout",
     "output_type": "stream",
     "text": [
      "Accuracy: 92.74129746835443 %\n",
      "Epoch: 106 \tTraining Loss: 0.130568 \tValidation Loss: 0.207581\n"
     ]
    },
    {
     "name": "stderr",
     "output_type": "stream",
     "text": [
      " 29%|██▉       | 58/201 [50:39<2:05:15, 52.56s/it]"
     ]
    },
    {
     "name": "stdout",
     "output_type": "stream",
     "text": [
      "Accuracy: 93.0676424050633 %\n",
      "Epoch: 107 \tTraining Loss: 0.124107 \tValidation Loss: 0.198809\n"
     ]
    },
    {
     "name": "stderr",
     "output_type": "stream",
     "text": [
      " 29%|██▉       | 59/201 [51:32<2:04:25, 52.57s/it]"
     ]
    },
    {
     "name": "stdout",
     "output_type": "stream",
     "text": [
      "Accuracy: 92.75118670886076 %\n",
      "Epoch: 108 \tTraining Loss: 0.127247 \tValidation Loss: 0.204052\n"
     ]
    },
    {
     "name": "stderr",
     "output_type": "stream",
     "text": [
      " 30%|██▉       | 60/201 [52:24<2:03:33, 52.58s/it]"
     ]
    },
    {
     "name": "stdout",
     "output_type": "stream",
     "text": [
      "Accuracy: 92.50395569620254 %\n",
      "Epoch: 109 \tTraining Loss: 0.122646 \tValidation Loss: 0.216213\n"
     ]
    },
    {
     "name": "stderr",
     "output_type": "stream",
     "text": [
      " 30%|███       | 61/201 [53:17<2:02:43, 52.60s/it]"
     ]
    },
    {
     "name": "stdout",
     "output_type": "stream",
     "text": [
      "Accuracy: 92.84018987341773 %\n",
      "Epoch: 110 \tTraining Loss: 0.122787 \tValidation Loss: 0.214490\n"
     ]
    },
    {
     "name": "stderr",
     "output_type": "stream",
     "text": [
      " 31%|███       | 62/201 [54:09<2:01:41, 52.53s/it]"
     ]
    },
    {
     "name": "stdout",
     "output_type": "stream",
     "text": [
      "Accuracy: 92.6621835443038 %\n",
      "Epoch: 111 \tTraining Loss: 0.123992 \tValidation Loss: 0.207953\n"
     ]
    },
    {
     "name": "stderr",
     "output_type": "stream",
     "text": [
      " 31%|███▏      | 63/201 [55:02<2:00:45, 52.51s/it]"
     ]
    },
    {
     "name": "stdout",
     "output_type": "stream",
     "text": [
      "Accuracy: 92.97863924050633 %\n",
      "Epoch: 112 \tTraining Loss: 0.120921 \tValidation Loss: 0.200244\n"
     ]
    },
    {
     "name": "stderr",
     "output_type": "stream",
     "text": [
      " 32%|███▏      | 64/201 [55:54<1:59:54, 52.51s/it]"
     ]
    },
    {
     "name": "stdout",
     "output_type": "stream",
     "text": [
      "Accuracy: 92.8006329113924 %\n",
      "Epoch: 113 \tTraining Loss: 0.124189 \tValidation Loss: 0.194914\n"
     ]
    },
    {
     "name": "stderr",
     "output_type": "stream",
     "text": [
      " 32%|███▏      | 65/201 [56:47<1:59:08, 52.56s/it]"
     ]
    },
    {
     "name": "stdout",
     "output_type": "stream",
     "text": [
      "Accuracy: 92.5632911392405 %\n",
      "Epoch: 114 \tTraining Loss: 0.123601 \tValidation Loss: 0.224019\n"
     ]
    },
    {
     "name": "stderr",
     "output_type": "stream",
     "text": [
      " 33%|███▎      | 66/201 [57:40<1:58:21, 52.60s/it]"
     ]
    },
    {
     "name": "stdout",
     "output_type": "stream",
     "text": [
      "Accuracy: 93.32476265822785 %\n",
      "Epoch: 115 \tTraining Loss: 0.099143 \tValidation Loss: 0.197105\n"
     ]
    },
    {
     "name": "stderr",
     "output_type": "stream",
     "text": [
      " 33%|███▎      | 67/201 [58:32<1:57:28, 52.60s/it]"
     ]
    },
    {
     "name": "stdout",
     "output_type": "stream",
     "text": [
      "Accuracy: 93.41376582278481 %\n",
      "Epoch: 116 \tTraining Loss: 0.085808 \tValidation Loss: 0.194309\n"
     ]
    },
    {
     "name": "stderr",
     "output_type": "stream",
     "text": [
      " 34%|███▍      | 68/201 [59:25<1:56:37, 52.61s/it]"
     ]
    },
    {
     "name": "stdout",
     "output_type": "stream",
     "text": [
      "Accuracy: 93.57199367088607 %\n",
      "Epoch: 117 \tTraining Loss: 0.087482 \tValidation Loss: 0.184658\n",
      "Validation loss decreased (0.193475 --> 0.184658).  Saving model ...\n"
     ]
    },
    {
     "name": "stderr",
     "output_type": "stream",
     "text": [
      " 34%|███▍      | 69/201 [1:00:17<1:55:47, 52.63s/it]"
     ]
    },
    {
     "name": "stdout",
     "output_type": "stream",
     "text": [
      "Accuracy: 93.49287974683544 %\n",
      "Epoch: 118 \tTraining Loss: 0.083790 \tValidation Loss: 0.183780\n",
      "Validation loss decreased (0.184658 --> 0.183780).  Saving model ...\n"
     ]
    },
    {
     "name": "stderr",
     "output_type": "stream",
     "text": [
      " 35%|███▍      | 70/201 [1:01:10<1:54:47, 52.57s/it]"
     ]
    },
    {
     "name": "stdout",
     "output_type": "stream",
     "text": [
      "Accuracy: 93.66099683544304 %\n",
      "Epoch: 119 \tTraining Loss: 0.082551 \tValidation Loss: 0.183531\n",
      "Validation loss decreased (0.183780 --> 0.183531).  Saving model ...\n"
     ]
    },
    {
     "name": "stderr",
     "output_type": "stream",
     "text": [
      " 35%|███▌      | 71/201 [1:02:02<1:53:54, 52.57s/it]"
     ]
    },
    {
     "name": "stdout",
     "output_type": "stream",
     "text": [
      "Accuracy: 93.53243670886076 %\n",
      "Epoch: 120 \tTraining Loss: 0.081689 \tValidation Loss: 0.188392\n"
     ]
    },
    {
     "name": "stderr",
     "output_type": "stream",
     "text": [
      " 36%|███▌      | 72/201 [1:02:55<1:53:00, 52.56s/it]"
     ]
    },
    {
     "name": "stdout",
     "output_type": "stream",
     "text": [
      "Accuracy: 93.69066455696202 %\n",
      "Epoch: 121 \tTraining Loss: 0.079248 \tValidation Loss: 0.191811\n"
     ]
    },
    {
     "name": "stderr",
     "output_type": "stream",
     "text": [
      " 36%|███▋      | 73/201 [1:03:48<1:52:22, 52.68s/it]"
     ]
    },
    {
     "name": "stdout",
     "output_type": "stream",
     "text": [
      "Accuracy: 93.69066455696202 %\n",
      "Epoch: 122 \tTraining Loss: 0.079680 \tValidation Loss: 0.186388\n"
     ]
    },
    {
     "name": "stderr",
     "output_type": "stream",
     "text": [
      " 37%|███▋      | 74/201 [1:04:40<1:51:08, 52.51s/it]"
     ]
    },
    {
     "name": "stdout",
     "output_type": "stream",
     "text": [
      "Accuracy: 93.43354430379746 %\n",
      "Epoch: 123 \tTraining Loss: 0.079437 \tValidation Loss: 0.196307\n"
     ]
    },
    {
     "name": "stderr",
     "output_type": "stream",
     "text": [
      " 37%|███▋      | 75/201 [1:05:33<1:50:17, 52.52s/it]"
     ]
    },
    {
     "name": "stdout",
     "output_type": "stream",
     "text": [
      "Accuracy: 93.45332278481013 %\n",
      "Epoch: 124 \tTraining Loss: 0.074719 \tValidation Loss: 0.186454\n"
     ]
    },
    {
     "name": "stderr",
     "output_type": "stream",
     "text": [
      " 38%|███▊      | 76/201 [1:06:25<1:49:30, 52.57s/it]"
     ]
    },
    {
     "name": "stdout",
     "output_type": "stream",
     "text": [
      "Accuracy: 93.45332278481013 %\n",
      "Epoch: 125 \tTraining Loss: 0.073976 \tValidation Loss: 0.192169\n"
     ]
    },
    {
     "name": "stderr",
     "output_type": "stream",
     "text": [
      " 38%|███▊      | 77/201 [1:07:17<1:48:14, 52.38s/it]"
     ]
    },
    {
     "name": "stdout",
     "output_type": "stream",
     "text": [
      "Accuracy: 93.55221518987342 %\n",
      "Epoch: 126 \tTraining Loss: 0.075614 \tValidation Loss: 0.194275\n"
     ]
    },
    {
     "name": "stderr",
     "output_type": "stream",
     "text": [
      " 39%|███▉      | 78/201 [1:08:09<1:47:04, 52.23s/it]"
     ]
    },
    {
     "name": "stdout",
     "output_type": "stream",
     "text": [
      "Accuracy: 93.62143987341773 %\n",
      "Epoch: 127 \tTraining Loss: 0.076406 \tValidation Loss: 0.193529\n"
     ]
    },
    {
     "name": "stderr",
     "output_type": "stream",
     "text": [
      " 39%|███▉      | 79/201 [1:09:01<1:46:12, 52.23s/it]"
     ]
    },
    {
     "name": "stdout",
     "output_type": "stream",
     "text": [
      "Accuracy: 93.50276898734177 %\n",
      "Epoch: 128 \tTraining Loss: 0.072240 \tValidation Loss: 0.195588\n"
     ]
    },
    {
     "name": "stderr",
     "output_type": "stream",
     "text": [
      " 40%|███▉      | 80/201 [1:09:54<1:45:22, 52.25s/it]"
     ]
    },
    {
     "name": "stdout",
     "output_type": "stream",
     "text": [
      "Accuracy: 93.38409810126582 %\n",
      "Epoch: 129 \tTraining Loss: 0.071518 \tValidation Loss: 0.212627\n"
     ]
    },
    {
     "name": "stderr",
     "output_type": "stream",
     "text": [
      " 40%|████      | 81/201 [1:10:46<1:44:27, 52.23s/it]"
     ]
    },
    {
     "name": "stdout",
     "output_type": "stream",
     "text": [
      "Accuracy: 93.76977848101266 %\n",
      "Epoch: 130 \tTraining Loss: 0.066039 \tValidation Loss: 0.186389\n"
     ]
    },
    {
     "name": "stderr",
     "output_type": "stream",
     "text": [
      " 41%|████      | 82/201 [1:11:38<1:43:31, 52.20s/it]"
     ]
    },
    {
     "name": "stdout",
     "output_type": "stream",
     "text": [
      "Accuracy: 93.87856012658227 %\n",
      "Epoch: 131 \tTraining Loss: 0.061045 \tValidation Loss: 0.186369\n"
     ]
    },
    {
     "name": "stderr",
     "output_type": "stream",
     "text": [
      " 41%|████▏     | 83/201 [1:12:30<1:42:27, 52.10s/it]"
     ]
    },
    {
     "name": "stdout",
     "output_type": "stream",
     "text": [
      "Accuracy: 93.96756329113924 %\n",
      "Epoch: 132 \tTraining Loss: 0.056554 \tValidation Loss: 0.186337\n"
     ]
    },
    {
     "name": "stderr",
     "output_type": "stream",
     "text": [
      " 42%|████▏     | 84/201 [1:13:22<1:41:31, 52.06s/it]"
     ]
    },
    {
     "name": "stdout",
     "output_type": "stream",
     "text": [
      "Accuracy: 93.88844936708861 %\n",
      "Epoch: 133 \tTraining Loss: 0.056791 \tValidation Loss: 0.185710\n"
     ]
    },
    {
     "name": "stderr",
     "output_type": "stream",
     "text": [
      " 42%|████▏     | 85/201 [1:14:14<1:40:36, 52.04s/it]"
     ]
    },
    {
     "name": "stdout",
     "output_type": "stream",
     "text": [
      "Accuracy: 93.82911392405063 %\n",
      "Epoch: 134 \tTraining Loss: 0.054879 \tValidation Loss: 0.195017\n"
     ]
    },
    {
     "name": "stderr",
     "output_type": "stream",
     "text": [
      " 43%|████▎     | 86/201 [1:15:06<1:39:53, 52.12s/it]"
     ]
    },
    {
     "name": "stdout",
     "output_type": "stream",
     "text": [
      "Accuracy: 93.87856012658227 %\n",
      "Epoch: 135 \tTraining Loss: 0.054938 \tValidation Loss: 0.187765\n"
     ]
    },
    {
     "name": "stderr",
     "output_type": "stream",
     "text": [
      " 43%|████▎     | 87/201 [1:15:58<1:38:56, 52.08s/it]"
     ]
    },
    {
     "name": "stdout",
     "output_type": "stream",
     "text": [
      "Accuracy: 93.73022151898734 %\n",
      "Epoch: 136 \tTraining Loss: 0.054468 \tValidation Loss: 0.190775\n"
     ]
    },
    {
     "name": "stderr",
     "output_type": "stream",
     "text": [
      " 44%|████▍     | 88/201 [1:16:50<1:38:07, 52.10s/it]"
     ]
    },
    {
     "name": "stdout",
     "output_type": "stream",
     "text": [
      "Accuracy: 93.8192246835443 %\n",
      "Epoch: 137 \tTraining Loss: 0.049170 \tValidation Loss: 0.186482\n"
     ]
    },
    {
     "name": "stderr",
     "output_type": "stream",
     "text": [
      " 44%|████▍     | 89/201 [1:17:42<1:37:10, 52.06s/it]"
     ]
    },
    {
     "name": "stdout",
     "output_type": "stream",
     "text": [
      "Accuracy: 93.79944620253164 %\n",
      "Epoch: 138 \tTraining Loss: 0.051817 \tValidation Loss: 0.186555\n"
     ]
    },
    {
     "name": "stderr",
     "output_type": "stream",
     "text": [
      " 45%|████▍     | 90/201 [1:18:34<1:36:17, 52.05s/it]"
     ]
    },
    {
     "name": "stdout",
     "output_type": "stream",
     "text": [
      "Accuracy: 94.04667721518987 %\n",
      "Epoch: 139 \tTraining Loss: 0.050190 \tValidation Loss: 0.184117\n"
     ]
    },
    {
     "name": "stderr",
     "output_type": "stream",
     "text": [
      " 45%|████▌     | 91/201 [1:19:26<1:35:28, 52.08s/it]"
     ]
    },
    {
     "name": "stdout",
     "output_type": "stream",
     "text": [
      "Accuracy: 94.06645569620254 %\n",
      "Epoch: 140 \tTraining Loss: 0.046881 \tValidation Loss: 0.182184\n",
      "Validation loss decreased (0.183531 --> 0.182184).  Saving model ...\n"
     ]
    },
    {
     "name": "stderr",
     "output_type": "stream",
     "text": [
      " 46%|████▌     | 92/201 [1:20:18<1:34:37, 52.08s/it]"
     ]
    },
    {
     "name": "stdout",
     "output_type": "stream",
     "text": [
      "Accuracy: 94.00712025316456 %\n",
      "Epoch: 141 \tTraining Loss: 0.045628 \tValidation Loss: 0.179460\n",
      "Validation loss decreased (0.182184 --> 0.179460).  Saving model ...\n"
     ]
    },
    {
     "name": "stderr",
     "output_type": "stream",
     "text": [
      " 46%|████▋     | 93/201 [1:21:11<1:33:45, 52.09s/it]"
     ]
    },
    {
     "name": "stdout",
     "output_type": "stream",
     "text": [
      "Accuracy: 94.08623417721519 %\n",
      "Epoch: 142 \tTraining Loss: 0.045308 \tValidation Loss: 0.180949\n"
     ]
    },
    {
     "name": "stderr",
     "output_type": "stream",
     "text": [
      " 47%|████▋     | 94/201 [1:22:03<1:33:00, 52.15s/it]"
     ]
    },
    {
     "name": "stdout",
     "output_type": "stream",
     "text": [
      "Accuracy: 93.99723101265823 %\n",
      "Epoch: 143 \tTraining Loss: 0.043415 \tValidation Loss: 0.184480\n"
     ]
    },
    {
     "name": "stderr",
     "output_type": "stream",
     "text": [
      " 47%|████▋     | 95/201 [1:22:55<1:32:07, 52.15s/it]"
     ]
    },
    {
     "name": "stdout",
     "output_type": "stream",
     "text": [
      "Accuracy: 94.10601265822785 %\n",
      "Epoch: 144 \tTraining Loss: 0.044149 \tValidation Loss: 0.188592\n"
     ]
    },
    {
     "name": "stderr",
     "output_type": "stream",
     "text": [
      " 48%|████▊     | 96/201 [1:23:47<1:31:19, 52.18s/it]"
     ]
    },
    {
     "name": "stdout",
     "output_type": "stream",
     "text": [
      "Accuracy: 94.09612341772151 %\n",
      "Epoch: 145 \tTraining Loss: 0.045149 \tValidation Loss: 0.186523\n"
     ]
    },
    {
     "name": "stderr",
     "output_type": "stream",
     "text": [
      " 48%|████▊     | 97/201 [1:24:39<1:30:21, 52.13s/it]"
     ]
    },
    {
     "name": "stdout",
     "output_type": "stream",
     "text": [
      "Accuracy: 94.07634493670886 %\n",
      "Epoch: 146 \tTraining Loss: 0.042344 \tValidation Loss: 0.183628\n"
     ]
    },
    {
     "name": "stderr",
     "output_type": "stream",
     "text": [
      " 49%|████▉     | 98/201 [1:25:31<1:29:21, 52.05s/it]"
     ]
    },
    {
     "name": "stdout",
     "output_type": "stream",
     "text": [
      "Accuracy: 94.11590189873418 %\n",
      "Epoch: 147 \tTraining Loss: 0.041451 \tValidation Loss: 0.185923\n"
     ]
    },
    {
     "name": "stderr",
     "output_type": "stream",
     "text": [
      " 49%|████▉     | 99/201 [1:26:24<1:28:44, 52.20s/it]"
     ]
    },
    {
     "name": "stdout",
     "output_type": "stream",
     "text": [
      "Accuracy: 94.08623417721519 %\n",
      "Epoch: 148 \tTraining Loss: 0.040387 \tValidation Loss: 0.185570\n"
     ]
    },
    {
     "name": "stderr",
     "output_type": "stream",
     "text": [
      " 50%|████▉     | 100/201 [1:27:17<1:28:20, 52.48s/it]"
     ]
    },
    {
     "name": "stdout",
     "output_type": "stream",
     "text": [
      "Accuracy: 94.09612341772151 %\n",
      "Epoch: 149 \tTraining Loss: 0.039521 \tValidation Loss: 0.184303\n"
     ]
    },
    {
     "name": "stderr",
     "output_type": "stream",
     "text": [
      " 50%|█████     | 101/201 [1:28:09<1:27:23, 52.44s/it]"
     ]
    },
    {
     "name": "stdout",
     "output_type": "stream",
     "text": [
      "Accuracy: 94.01700949367088 %\n",
      "Epoch: 150 \tTraining Loss: 0.039039 \tValidation Loss: 0.187996\n"
     ]
    },
    {
     "name": "stderr",
     "output_type": "stream",
     "text": [
      " 51%|█████     | 102/201 [1:29:02<1:26:31, 52.44s/it]"
     ]
    },
    {
     "name": "stdout",
     "output_type": "stream",
     "text": [
      "Accuracy: 94.10601265822785 %\n",
      "Epoch: 151 \tTraining Loss: 0.043351 \tValidation Loss: 0.182211\n"
     ]
    },
    {
     "name": "stderr",
     "output_type": "stream",
     "text": [
      " 51%|█████     | 103/201 [1:29:54<1:25:26, 52.31s/it]"
     ]
    },
    {
     "name": "stdout",
     "output_type": "stream",
     "text": [
      "Accuracy: 94.17523734177215 %\n",
      "Epoch: 152 \tTraining Loss: 0.038334 \tValidation Loss: 0.182334\n"
     ]
    },
    {
     "name": "stderr",
     "output_type": "stream",
     "text": [
      " 52%|█████▏    | 104/201 [1:30:46<1:24:24, 52.21s/it]"
     ]
    },
    {
     "name": "stdout",
     "output_type": "stream",
     "text": [
      "Accuracy: 94.08623417721519 %\n",
      "Epoch: 153 \tTraining Loss: 0.040360 \tValidation Loss: 0.185629\n"
     ]
    },
    {
     "name": "stderr",
     "output_type": "stream",
     "text": [
      " 52%|█████▏    | 105/201 [1:31:38<1:23:24, 52.13s/it]"
     ]
    },
    {
     "name": "stdout",
     "output_type": "stream",
     "text": [
      "Accuracy: 94.19501582278481 %\n",
      "Epoch: 154 \tTraining Loss: 0.039648 \tValidation Loss: 0.185323\n"
     ]
    },
    {
     "name": "stderr",
     "output_type": "stream",
     "text": [
      " 52%|█████▏    | 105/201 [1:31:56<1:24:03, 52.53s/it]\n"
     ]
    },
    {
     "ename": "KeyboardInterrupt",
     "evalue": "",
     "output_type": "error",
     "traceback": [
      "\u001b[1;31m---------------------------------------------------------------------------\u001b[0m",
      "\u001b[1;31mKeyboardInterrupt\u001b[0m                         Traceback (most recent call last)",
      "Cell \u001b[1;32mIn[17], line 37\u001b[0m\n\u001b[0;32m     35\u001b[0m     optimizer\u001b[38;5;241m.\u001b[39mstep()\n\u001b[0;32m     36\u001b[0m     \u001b[38;5;66;03m# update training loss（\u001b[39;00m\n\u001b[1;32m---> 37\u001b[0m     train_loss \u001b[38;5;241m+\u001b[39m\u001b[38;5;241m=\u001b[39m loss\u001b[38;5;241m.\u001b[39mitem()\u001b[38;5;241m*\u001b[39mdata\u001b[38;5;241m.\u001b[39msize(\u001b[38;5;241m0\u001b[39m)\n\u001b[0;32m     39\u001b[0m \u001b[38;5;66;03m######################    \u001b[39;00m\n\u001b[0;32m     40\u001b[0m \u001b[38;5;66;03m# 验证集的模型#\u001b[39;00m\n\u001b[0;32m     41\u001b[0m \u001b[38;5;66;03m######################\u001b[39;00m\n\u001b[0;32m     43\u001b[0m model\u001b[38;5;241m.\u001b[39meval()  \u001b[38;5;66;03m# 验证模型\u001b[39;00m\n",
      "\u001b[1;31mKeyboardInterrupt\u001b[0m: "
     ]
    }
   ],
   "source": [
    "early_stop_threshold = 50\n",
    "valid_loss_min = np.Inf # track change in validation loss\n",
    "accuracy = []\n",
    "\n",
    "counter = 0\n",
    "for epoch in tqdm(range(50, n_epochs+1)):\n",
    "\n",
    "    # keep track of training and validation loss\n",
    "    train_loss = 0.0\n",
    "    valid_loss = 0.0\n",
    "    total_sample = 0\n",
    "    right_sample = 0\n",
    "    \n",
    "    # Dynamic learning rate\n",
    "    if counter/10 ==1:\n",
    "        counter = 0\n",
    "        lr = lr*0.5\n",
    "    optimizer = optim.SGD(model.parameters(), lr=lr, momentum=0.9, weight_decay=5e-4)\n",
    "    ###################\n",
    "    # 训练集的模型 #\n",
    "    ###################\n",
    "    model.train() #作用是启用batch normalization和drop out\n",
    "    for data, target in train_loader:\n",
    "        data = data.to(device)\n",
    "        target = target.to(device)\n",
    "        # clear the gradients of all optimized variables（清除梯度）\n",
    "        optimizer.zero_grad()\n",
    "        # forward pass: compute predicted outputs by passing inputs to the model\n",
    "        output = model(data).to(device)  #（等价于output = model.forward(data).to(device) ）\n",
    "        # calculate the batch loss\n",
    "        loss = criterion(output, target)\n",
    "        # backward pass: compute gradient of the loss with respect to model parameters\n",
    "        loss.backward()\n",
    "        # perform a single optimization step (parameter update)\n",
    "        optimizer.step()\n",
    "        # update training loss（\n",
    "        train_loss += loss.item()*data.size(0)\n",
    "        \n",
    "    ######################    \n",
    "    # 验证集的模型#\n",
    "    ######################\n",
    "\n",
    "    model.eval()  # 验证模型\n",
    "    for data, target in valid_loader:\n",
    "        data = data.to(device)\n",
    "        target = target.to(device)\n",
    "        # forward pass: compute predicted outputs by passing inputs to the model\n",
    "        output = model(data).to(device)\n",
    "        # calculate the batch loss\n",
    "        loss = criterion(output, target)\n",
    "        # update average validation loss \n",
    "        valid_loss += loss.item()*data.size(0)\n",
    "        # convert output probabilities to predicted class(将输出概率转换为预测类)\n",
    "        _, pred = torch.max(output, 1)    \n",
    "        # compare predictions to true label(将预测与真实标签进行比较)\n",
    "        correct_tensor = pred.eq(target.data.view_as(pred))\n",
    "        # correct = np.squeeze(correct_tensor.to(device).numpy())\n",
    "        total_sample += batch_size\n",
    "        for i in correct_tensor:\n",
    "            if i:\n",
    "                right_sample += 1\n",
    "    print(\"Accuracy:\",100*right_sample/total_sample,\"%\")\n",
    "    accuracy.append(right_sample/total_sample)\n",
    " \n",
    "    # 计算平均损失\n",
    "    train_loss = train_loss/len(train_loader.sampler)\n",
    "    valid_loss = valid_loss/len(valid_loader.sampler)\n",
    "        \n",
    "    # 显示训练集与验证集的损失函数 \n",
    "    print('Epoch: {} \\tTraining Loss: {:.6f} \\tValidation Loss: {:.6f}'.format(\n",
    "        epoch, train_loss, valid_loss))\n",
    "    \n",
    "    # 如果验证集损失函数减少，就保存模型。\n",
    "    if valid_loss <= valid_loss_min:\n",
    "        print('Validation loss decreased ({:.6f} --> {:.6f}).  Saving model ...'.format(valid_loss_min,valid_loss))\n",
    "        torch.save(model.state_dict(), 'checkpoint/resnet50_cifar10.pt')\n",
    "        valid_loss_min = valid_loss\n",
    "        counter = 0\n",
    "    else:\n",
    "        counter += 1\n",
    "        if counter >= early_stop_threshold:\n",
    "            print(\"Early stopping\")\n",
    "            break"
   ]
  },
  {
   "cell_type": "markdown",
   "metadata": {},
   "source": [
    "# TEST\n"
   ]
  },
  {
   "cell_type": "code",
   "execution_count": 18,
   "metadata": {},
   "outputs": [
    {
     "name": "stdout",
     "output_type": "stream",
     "text": [
      "Files already downloaded and verified\n",
      "Files already downloaded and verified\n",
      "Files already downloaded and verified\n"
     ]
    }
   ],
   "source": [
    "n_class = 10\n",
    "batch_size = 100\n",
    "train_loader,valid_loader,test_loader = read_dataset(batch_size=batch_size,pic_path='dataset')\n",
    "model = ResNet50() # 得到预训练模型\n",
    "model.conv1 = nn.Conv2d(in_channels=3, out_channels=64, kernel_size=3, stride=1, padding=1, bias=False)\n",
    "# model.fc = torch.nn.Linear(512, n_class) # 将最后的全连接层修改\n",
    "model.fc = torch.nn.Linear(2048, n_class) # modify the last layer\n",
    "\n",
    "# 载入权重\n",
    "model.load_state_dict(torch.load('checkpoint/resnet50_cifar10.pt'))\n",
    "model = model.to(device)"
   ]
  },
  {
   "cell_type": "code",
   "execution_count": 20,
   "metadata": {},
   "outputs": [
    {
     "name": "stdout",
     "output_type": "stream",
     "text": [
      "Accuracy: 94.91 %\n"
     ]
    }
   ],
   "source": [
    "\n",
    "total_sample = 0\n",
    "right_sample = 0\n",
    "model.eval()  # 验证模型\n",
    "for data, target in test_loader:\n",
    "    data = data.to(device)\n",
    "    target = target.to(device)\n",
    "    # forward pass: compute predicted outputs by passing inputs to the model\n",
    "    output = model(data).to(device)\n",
    "    # convert output probabilities to predicted class(将输出概率转换为预测类)\n",
    "    _, pred = torch.max(output, 1)    \n",
    "    # compare predictions to true label(将预测与真实标签进行比较)\n",
    "    correct_tensor = pred.eq(target.data.view_as(pred))\n",
    "    # correct = np.squeeze(correct_tensor.to(device).numpy())\n",
    "    total_sample += batch_size\n",
    "    for i in correct_tensor:\n",
    "        if i:\n",
    "            right_sample += 1\n",
    "print(\"Accuracy:\",100*right_sample/total_sample,\"%\")"
   ]
  }
 ],
 "metadata": {
  "kernelspec": {
   "display_name": "base",
   "language": "python",
   "name": "python3"
  },
  "language_info": {
   "codemirror_mode": {
    "name": "ipython",
    "version": 3
   },
   "file_extension": ".py",
   "mimetype": "text/x-python",
   "name": "python",
   "nbconvert_exporter": "python",
   "pygments_lexer": "ipython3",
   "version": "3.11.5"
  }
 },
 "nbformat": 4,
 "nbformat_minor": 2
}
